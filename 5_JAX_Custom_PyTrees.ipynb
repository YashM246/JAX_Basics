{
 "cells": [
  {
   "cell_type": "code",
   "execution_count": 1,
   "id": "55172b02",
   "metadata": {},
   "outputs": [],
   "source": [
    "import jax\n",
    "import jax.numpy as jnp\n",
    "import numpy as np\n",
    "\n",
    "from jax import grad, jit, vmap, pmap\n",
    "\n",
    "from jax import random\n",
    "import matplotlib.pyplot as plt\n",
    "from copy import deepcopy\n",
    "from typing import Tuple, NamedTuple\n",
    "import functools"
   ]
  },
  {
   "cell_type": "markdown",
   "id": "b1907838",
   "metadata": {},
   "source": [
    "#### We built and trained an MLP using JAX in the last notebook but we cannot similarly build other NN Libraries or Layers such as NN.Linear without more knowledge"
   ]
  },
  {
   "cell_type": "markdown",
   "id": "e259986b",
   "metadata": {},
   "source": [
    "## Custom PyTrees"
   ]
  },
  {
   "cell_type": "code",
   "execution_count": 2,
   "id": "1bab2eee",
   "metadata": {},
   "outputs": [],
   "source": [
    "# Imagine a linear layer or a convolution layer\n",
    "class MyContainer:\n",
    "    \"\"\"A named Container\"\"\"\n",
    "\n",
    "    def __init__(self, name:str, a:int, b:int, c:int):\n",
    "        self.name = name\n",
    "        self.a = a\n",
    "        self.b = b\n",
    "        self.c = c   "
   ]
  },
  {
   "cell_type": "code",
   "execution_count": 3,
   "id": "8d8f73ce",
   "metadata": {},
   "outputs": [],
   "source": [
    "example_pytree = [MyContainer('Alice', 1, 2, 3), MyContainer(\"Bob\", 4, 5, 6)]\n",
    "# We would think this Pytree will have 8 leaves\n",
    "# Nope!"
   ]
  },
  {
   "cell_type": "code",
   "execution_count": 5,
   "id": "380e8696",
   "metadata": {},
   "outputs": [
    {
     "name": "stdout",
     "output_type": "stream",
     "text": [
      "[<__main__.MyContainer object at 0x0000019FDC21F230>, <__main__.MyContainer object at 0x0000019FAACEE0D0>]\n",
      " has 2 leaves: \n",
      "[<__main__.MyContainer object at 0x0000019FDC21F230>, <__main__.MyContainer object at 0x0000019FAACEE0D0>]\n"
     ]
    }
   ],
   "source": [
    "leaves = jax.tree.leaves(example_pytree)\n",
    "print(f\"{repr(example_pytree):<45}\\n has {len(leaves)} leaves: \\n{leaves}\")"
   ]
  },
  {
   "cell_type": "markdown",
   "id": "624ef29e",
   "metadata": {},
   "source": [
    "- Only 2 leaves!\n",
    "- In this case, we cannot do manipulations on each value (like use tree.map)\n",
    "- Image if this was a Linear Layer, we wont be able to do any Stochastic GD"
   ]
  },
  {
   "cell_type": "code",
   "execution_count": 6,
   "id": "6bd0ef42",
   "metadata": {},
   "outputs": [
    {
     "ename": "TypeError",
     "evalue": "unsupported operand type(s) for +: 'MyContainer' and 'int'",
     "output_type": "error",
     "traceback": [
      "\u001b[31m---------------------------------------------------------------------------\u001b[39m",
      "\u001b[31mTypeError\u001b[39m                                 Traceback (most recent call last)",
      "\u001b[36mCell\u001b[39m\u001b[36m \u001b[39m\u001b[32mIn[6]\u001b[39m\u001b[32m, line 1\u001b[39m\n\u001b[32m----> \u001b[39m\u001b[32m1\u001b[39m \u001b[38;5;28mprint\u001b[39m(\u001b[43mjax\u001b[49m\u001b[43m.\u001b[49m\u001b[43mtree\u001b[49m\u001b[43m.\u001b[49m\u001b[43mmap\u001b[49m\u001b[43m(\u001b[49m\u001b[38;5;28;43;01mlambda\u001b[39;49;00m\u001b[43m \u001b[49m\u001b[43mx\u001b[49m\u001b[43m:\u001b[49m\u001b[43m \u001b[49m\u001b[43mx\u001b[49m\u001b[43m+\u001b[49m\u001b[32;43m1\u001b[39;49m\u001b[43m,\u001b[49m\u001b[43m \u001b[49m\u001b[43mexample_pytree\u001b[49m\u001b[43m)\u001b[49m)\n\u001b[32m      2\u001b[39m \u001b[38;5;66;03m# This will not work (would be nice if it did)\u001b[39;00m\n",
      "\u001b[36mFile \u001b[39m\u001b[32mc:\\Users\\gr8my\\Desktop\\Projects\\JAX_Basics\\env\\Lib\\site-packages\\jax\\_src\\tree.py:155\u001b[39m, in \u001b[36mmap\u001b[39m\u001b[34m(f, tree, is_leaf, *rest)\u001b[39m\n\u001b[32m    115\u001b[39m \u001b[38;5;28;01mdef\u001b[39;00m\u001b[38;5;250m \u001b[39m\u001b[34mmap\u001b[39m(f: Callable[..., Any],\n\u001b[32m    116\u001b[39m         tree: Any,\n\u001b[32m    117\u001b[39m         *rest: Any,\n\u001b[32m    118\u001b[39m         is_leaf: Callable[[Any], \u001b[38;5;28mbool\u001b[39m] | \u001b[38;5;28;01mNone\u001b[39;00m = \u001b[38;5;28;01mNone\u001b[39;00m) -> Any:\n\u001b[32m    119\u001b[39m \u001b[38;5;250m  \u001b[39m\u001b[33;03m\"\"\"Maps a multi-input function over pytree args to produce a new pytree.\u001b[39;00m\n\u001b[32m    120\u001b[39m \n\u001b[32m    121\u001b[39m \u001b[33;03m  Args:\u001b[39;00m\n\u001b[32m   (...)\u001b[39m\u001b[32m    153\u001b[39m \u001b[33;03m    - :func:`jax.tree.reduce`\u001b[39;00m\n\u001b[32m    154\u001b[39m \u001b[33;03m  \"\"\"\u001b[39;00m\n\u001b[32m--> \u001b[39m\u001b[32m155\u001b[39m   \u001b[38;5;28;01mreturn\u001b[39;00m \u001b[43mtree_util\u001b[49m\u001b[43m.\u001b[49m\u001b[43mtree_map\u001b[49m\u001b[43m(\u001b[49m\u001b[43mf\u001b[49m\u001b[43m,\u001b[49m\u001b[43m \u001b[49m\u001b[43mtree\u001b[49m\u001b[43m,\u001b[49m\u001b[43m \u001b[49m\u001b[43m*\u001b[49m\u001b[43mrest\u001b[49m\u001b[43m,\u001b[49m\u001b[43m \u001b[49m\u001b[43mis_leaf\u001b[49m\u001b[43m=\u001b[49m\u001b[43mis_leaf\u001b[49m\u001b[43m)\u001b[49m\n",
      "\u001b[36mFile \u001b[39m\u001b[32mc:\\Users\\gr8my\\Desktop\\Projects\\JAX_Basics\\env\\Lib\\site-packages\\jax\\_src\\tree_util.py:364\u001b[39m, in \u001b[36mtree_map\u001b[39m\u001b[34m(f, tree, is_leaf, *rest)\u001b[39m\n\u001b[32m    362\u001b[39m leaves, treedef = tree_flatten(tree, is_leaf)\n\u001b[32m    363\u001b[39m all_leaves = [leaves] + [treedef.flatten_up_to(r) \u001b[38;5;28;01mfor\u001b[39;00m r \u001b[38;5;129;01min\u001b[39;00m rest]\n\u001b[32m--> \u001b[39m\u001b[32m364\u001b[39m \u001b[38;5;28;01mreturn\u001b[39;00m \u001b[43mtreedef\u001b[49m\u001b[43m.\u001b[49m\u001b[43munflatten\u001b[49m\u001b[43m(\u001b[49m\u001b[43mf\u001b[49m\u001b[43m(\u001b[49m\u001b[43m*\u001b[49m\u001b[43mxs\u001b[49m\u001b[43m)\u001b[49m\u001b[43m \u001b[49m\u001b[38;5;28;43;01mfor\u001b[39;49;00m\u001b[43m \u001b[49m\u001b[43mxs\u001b[49m\u001b[43m \u001b[49m\u001b[38;5;129;43;01min\u001b[39;49;00m\u001b[43m \u001b[49m\u001b[38;5;28;43mzip\u001b[39;49m\u001b[43m(\u001b[49m\u001b[43m*\u001b[49m\u001b[43mall_leaves\u001b[49m\u001b[43m)\u001b[49m\u001b[43m)\u001b[49m\n",
      "\u001b[36mFile \u001b[39m\u001b[32mc:\\Users\\gr8my\\Desktop\\Projects\\JAX_Basics\\env\\Lib\\site-packages\\jax\\_src\\tree_util.py:364\u001b[39m, in \u001b[36m<genexpr>\u001b[39m\u001b[34m(.0)\u001b[39m\n\u001b[32m    362\u001b[39m leaves, treedef = tree_flatten(tree, is_leaf)\n\u001b[32m    363\u001b[39m all_leaves = [leaves] + [treedef.flatten_up_to(r) \u001b[38;5;28;01mfor\u001b[39;00m r \u001b[38;5;129;01min\u001b[39;00m rest]\n\u001b[32m--> \u001b[39m\u001b[32m364\u001b[39m \u001b[38;5;28;01mreturn\u001b[39;00m treedef.unflatten(\u001b[43mf\u001b[49m\u001b[43m(\u001b[49m\u001b[43m*\u001b[49m\u001b[43mxs\u001b[49m\u001b[43m)\u001b[49m \u001b[38;5;28;01mfor\u001b[39;00m xs \u001b[38;5;129;01min\u001b[39;00m \u001b[38;5;28mzip\u001b[39m(*all_leaves))\n",
      "\u001b[36mCell\u001b[39m\u001b[36m \u001b[39m\u001b[32mIn[6]\u001b[39m\u001b[32m, line 1\u001b[39m, in \u001b[36m<lambda>\u001b[39m\u001b[34m(x)\u001b[39m\n\u001b[32m----> \u001b[39m\u001b[32m1\u001b[39m \u001b[38;5;28mprint\u001b[39m(jax.tree.map(\u001b[38;5;28;01mlambda\u001b[39;00m x: \u001b[43mx\u001b[49m\u001b[43m+\u001b[49m\u001b[32;43m1\u001b[39;49m, example_pytree))\n\u001b[32m      2\u001b[39m \u001b[38;5;66;03m# This will not work (would be nice if it did)\u001b[39;00m\n",
      "\u001b[31mTypeError\u001b[39m: unsupported operand type(s) for +: 'MyContainer' and 'int'"
     ]
    }
   ],
   "source": [
    "print(jax.tree.map(lambda x: x+1, example_pytree))\n",
    "# This will not work (would be nice if it did)"
   ]
  },
  {
   "cell_type": "markdown",
   "id": "e8acdbe5",
   "metadata": {},
   "source": [
    "#### To get it to work, we need define two functions:\n",
    "- flatten\n",
    "- unflatten"
   ]
  },
  {
   "cell_type": "code",
   "execution_count": 7,
   "id": "ace61b17",
   "metadata": {},
   "outputs": [],
   "source": [
    "def flatten_MyContainer(container):\n",
    "    # Returns an iterable over container contents, and aux data\n",
    "    flat_contents = [container.a, container.b, container.c]\n",
    "\n",
    "    # We dont want name to appear as a child, so it is auxiliary data\n",
    "    # Auxiliary Data is often a description of the strucuture of a node,\n",
    "    # Eg: Keys of a dict -> anything that is not a node's children\n",
    "\n",
    "    aux_data = container.name\n",
    "\n",
    "    return flat_contents, aux_data"
   ]
  },
  {
   "cell_type": "code",
   "execution_count": 8,
   "id": "b0190790",
   "metadata": {},
   "outputs": [],
   "source": [
    "def unflatten_MyContainer(aux_data, flat_contents):\n",
    "    return MyContainer(aux_data, *flat_contents)"
   ]
  },
  {
   "cell_type": "code",
   "execution_count": 9,
   "id": "69879b2b",
   "metadata": {},
   "outputs": [],
   "source": [
    "# Register a custom PyTree node\n",
    "jax.tree_util.register_pytree_node(MyContainer, flatten_MyContainer, unflatten_MyContainer)"
   ]
  },
  {
   "cell_type": "markdown",
   "id": "6dccf3c6",
   "metadata": {},
   "source": [
    "- register_pytree_node teaches jax how to traverse and manipulate custom Python classes as PyTrees\n",
    "- When we create custom classes, JAX does not know how to look inside it (which is why previously we saw only 2 leaves)\n",
    "- Without proper pytree registration, JAX operations fail<br><br><br>\n",
    "- The flatten function basically tells JAX how to decompose your object into children and auxiliary data\n",
    "- The unflatten function tells JAX how to reconstruct your object from flattened representation"
   ]
  },
  {
   "cell_type": "code",
   "execution_count": 10,
   "id": "47799e08",
   "metadata": {},
   "outputs": [
    {
     "name": "stdout",
     "output_type": "stream",
     "text": [
      "[<__main__.MyContainer object at 0x0000019FDC21F230>, <__main__.MyContainer object at 0x0000019FAACEE0D0>]\n",
      " has 6 leaves: \n",
      "[1, 2, 3, 4, 5, 6]\n"
     ]
    }
   ],
   "source": [
    "# Let's try again\n",
    "leaves = jax.tree.leaves(example_pytree)\n",
    "print(f\"{repr(example_pytree):<45}\\n has {len(leaves)} leaves: \\n{leaves}\")"
   ]
  },
  {
   "cell_type": "code",
   "execution_count": 11,
   "id": "0616093d",
   "metadata": {},
   "outputs": [
    {
     "name": "stdout",
     "output_type": "stream",
     "text": [
      "[2, 3, 4, 5, 6, 7]\n"
     ]
    }
   ],
   "source": [
    "# Lets try applying tree.map again\n",
    "res = jax.tree.map(lambda x: x+1, example_pytree)\n",
    "print(jax.tree.leaves(res))"
   ]
  },
  {
   "cell_type": "markdown",
   "id": "fe77b59f",
   "metadata": {},
   "source": [
    "### Common Gotcha for PyTrees: Mistaking nodes for leaves/children"
   ]
  },
  {
   "cell_type": "code",
   "execution_count": 12,
   "id": "71a8f07a",
   "metadata": {},
   "outputs": [
    {
     "name": "stdout",
     "output_type": "stream",
     "text": [
      "[Array([[0., 0., 0.],\n",
      "       [0., 0., 0.]], dtype=float32), Array([[0., 0., 0., 0.],\n",
      "       [0., 0., 0., 0.],\n",
      "       [0., 0., 0., 0.]], dtype=float32)]\n"
     ]
    }
   ],
   "source": [
    "zeros_tree = [jnp.zeros((2,3)), jnp.zeros((3,4))]\n",
    "print(zeros_tree)"
   ]
  },
  {
   "cell_type": "code",
   "execution_count": 13,
   "id": "9353e99d",
   "metadata": {},
   "outputs": [
    {
     "name": "stdout",
     "output_type": "stream",
     "text": [
      "[(2, 3), (3, 4)]\n"
     ]
    }
   ],
   "source": [
    "# Try to make another similar tree with ones instead of zeros\n",
    "shapes = jax.tree.map(lambda x:x.shape, zeros_tree)\n",
    "print(shapes)"
   ]
  },
  {
   "cell_type": "code",
   "execution_count": 14,
   "id": "855cdb3e",
   "metadata": {},
   "outputs": [
    {
     "name": "stdout",
     "output_type": "stream",
     "text": [
      "[(Array([1., 1.], dtype=float32), Array([1., 1., 1.], dtype=float32)), (Array([1., 1., 1.], dtype=float32), Array([1., 1., 1., 1.], dtype=float32))]\n"
     ]
    }
   ],
   "source": [
    "ones_tree = jax.tree.map(jnp.ones, shapes)\n",
    "print(ones_tree)"
   ]
  },
  {
   "cell_type": "markdown",
   "id": "74414a6e",
   "metadata": {},
   "source": [
    "#### Issue: Treating the tuples as PyTree nodes instead of leaves!"
   ]
  },
  {
   "cell_type": "markdown",
   "id": "1a19213f",
   "metadata": {},
   "source": [
    "- zeros_tree is a list with two leaves (2 arrays)\n",
    "- the .shape returns a tuple; so shapes is a list containing 2 tuples\n",
    "- JAX treats tuples as PyTree containers, not leaves"
   ]
  },
  {
   "cell_type": "markdown",
   "id": "04ce0c40",
   "metadata": {},
   "source": [
    "List containing:<br>\n",
    "  ├─ Tuple(2, 3)  ← This is a CONTAINER with 2 children<br>\n",
    "  │   ├─ 2<br>\n",
    "  │   └─ 3<br>\n",
    "  └─ Tuple(3, 4)  ← This is a CONTAINER with 2 children<br>\n",
    "      ├─ 3<br>\n",
    "      └─ 4<br>"
   ]
  },
  {
   "cell_type": "markdown",
   "id": "a8240883",
   "metadata": {},
   "source": [
    "- Total leaves: 4 scalars [2, 3, 3, 4]\n",
    "- When we apply do jax.tree.map(...), JAX applies jnp.ones to each leaf (each scalar)\n",
    "- Then the final structure maintains the original tree (with 4 leaves)"
   ]
  },
  {
   "cell_type": "markdown",
   "id": "06dc49e1",
   "metadata": {},
   "source": [
    "#### Solution 1: Get shapes directly without Intermediate tree"
   ]
  },
  {
   "cell_type": "code",
   "execution_count": 18,
   "id": "8d3a62ca",
   "metadata": {},
   "outputs": [
    {
     "name": "stdout",
     "output_type": "stream",
     "text": [
      "[Array([[1., 1., 1.],\n",
      "       [1., 1., 1.]], dtype=float32), Array([[1., 1., 1., 1.],\n",
      "       [1., 1., 1., 1.],\n",
      "       [1., 1., 1., 1.]], dtype=float32)]\n"
     ]
    }
   ],
   "source": [
    "ones_tree = jax.tree.map(lambda x: jnp.ones(x.shape), zeros_tree)\n",
    "print(ones_tree)"
   ]
  },
  {
   "cell_type": "markdown",
   "id": "b71c9061",
   "metadata": {},
   "source": [
    "#### Solution 2: Use tree_map with is_leaf parameter"
   ]
  },
  {
   "cell_type": "code",
   "execution_count": 19,
   "id": "c8ded551",
   "metadata": {},
   "outputs": [
    {
     "name": "stdout",
     "output_type": "stream",
     "text": [
      "[Array([[1., 1., 1.],\n",
      "       [1., 1., 1.]], dtype=float32), Array([[1., 1., 1., 1.],\n",
      "       [1., 1., 1., 1.],\n",
      "       [1., 1., 1., 1.]], dtype=float32)]\n"
     ]
    }
   ],
   "source": [
    "shapes = jax.tree.map(lambda x: x.shape, zeros_tree)\n",
    "ones_tree = jax.tree.map(jnp.ones, shapes, is_leaf= lambda x: isinstance(x, tuple))\n",
    "print(ones_tree)"
   ]
  },
  {
   "cell_type": "markdown",
   "id": "6998c6ca",
   "metadata": {},
   "source": [
    "#### Great! Now we can create custom layers and train even bigger neural networks!"
   ]
  },
  {
   "cell_type": "markdown",
   "id": "0454bfa5",
   "metadata": {},
   "source": [
    "#### But what if our NN is really big? Can we train it across multiple devices?"
   ]
  },
  {
   "cell_type": "code",
   "execution_count": null,
   "id": "91c225bf",
   "metadata": {},
   "outputs": [],
   "source": []
  }
 ],
 "metadata": {
  "kernelspec": {
   "display_name": "env",
   "language": "python",
   "name": "python3"
  },
  "language_info": {
   "codemirror_mode": {
    "name": "ipython",
    "version": 3
   },
   "file_extension": ".py",
   "mimetype": "text/x-python",
   "name": "python",
   "nbconvert_exporter": "python",
   "pygments_lexer": "ipython3",
   "version": "3.13.7"
  }
 },
 "nbformat": 4,
 "nbformat_minor": 5
}
