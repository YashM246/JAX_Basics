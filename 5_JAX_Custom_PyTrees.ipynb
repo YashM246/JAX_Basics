{
 "cells": [
  {
   "cell_type": "code",
   "execution_count": 1,
   "id": "55172b02",
   "metadata": {},
   "outputs": [],
   "source": [
    "import jax\n",
    "import jax.numpy as jnp\n",
    "import numpy as np\n",
    "\n",
    "from jax import grad, jit, vmap, pmap\n",
    "\n",
    "from jax import random\n",
    "import matplotlib.pyplot as plt\n",
    "from copy import deepcopy\n",
    "from typing import Tuple, NamedTuple\n",
    "import functools"
   ]
  },
  {
   "cell_type": "markdown",
   "id": "b1907838",
   "metadata": {},
   "source": [
    "#### We built and trained an MLP using JAX in the last notebook but we cannot similarly build other NN Libraries or Layers such as NN.Linear without more knowledge"
   ]
  },
  {
   "cell_type": "markdown",
   "id": "e259986b",
   "metadata": {},
   "source": [
    "## Custom PyTrees"
   ]
  },
  {
   "cell_type": "code",
   "execution_count": 2,
   "id": "1bab2eee",
   "metadata": {},
   "outputs": [],
   "source": [
    "# Imagine a linear layer or a convolution layer\n",
    "class MyContainer:\n",
    "    \"\"\"A named Container\"\"\"\n",
    "\n",
    "    def __init__(self, name:str, a:int, b:int, c:int):\n",
    "        self.name = name\n",
    "        self.a = a\n",
    "        self.b = b\n",
    "        self.c = c   "
   ]
  },
  {
   "cell_type": "code",
   "execution_count": 3,
   "id": "8d8f73ce",
   "metadata": {},
   "outputs": [],
   "source": [
    "example_pytree = [MyContainer('Alice', 1, 2, 3), MyContainer(\"Bob\", 4, 5, 6)]\n",
    "# We would think this Pytree will have 8 leaves\n",
    "# Nope!"
   ]
  },
  {
   "cell_type": "code",
   "execution_count": 5,
   "id": "380e8696",
   "metadata": {},
   "outputs": [
    {
     "name": "stdout",
     "output_type": "stream",
     "text": [
      "[<__main__.MyContainer object at 0x0000019FDC21F230>, <__main__.MyContainer object at 0x0000019FAACEE0D0>]\n",
      " has 2 leaves: \n",
      "[<__main__.MyContainer object at 0x0000019FDC21F230>, <__main__.MyContainer object at 0x0000019FAACEE0D0>]\n"
     ]
    }
   ],
   "source": [
    "leaves = jax.tree.leaves(example_pytree)\n",
    "print(f\"{repr(example_pytree):<45}\\n has {len(leaves)} leaves: \\n{leaves}\")"
   ]
  },
  {
   "cell_type": "markdown",
   "id": "624ef29e",
   "metadata": {},
   "source": [
    "- Only 2 leaves!\n",
    "- In this case, we cannot do manipulations on each value (like use tree.map)\n",
    "- Image if this was a Linear Layer, we wont be able to do any Stochastic GD"
   ]
  },
  {
   "cell_type": "code",
   "execution_count": 6,
   "id": "6bd0ef42",
   "metadata": {},
   "outputs": [
    {
     "ename": "TypeError",
     "evalue": "unsupported operand type(s) for +: 'MyContainer' and 'int'",
     "output_type": "error",
     "traceback": [
      "\u001b[31m---------------------------------------------------------------------------\u001b[39m",
      "\u001b[31mTypeError\u001b[39m                                 Traceback (most recent call last)",
      "\u001b[36mCell\u001b[39m\u001b[36m \u001b[39m\u001b[32mIn[6]\u001b[39m\u001b[32m, line 1\u001b[39m\n\u001b[32m----> \u001b[39m\u001b[32m1\u001b[39m \u001b[38;5;28mprint\u001b[39m(\u001b[43mjax\u001b[49m\u001b[43m.\u001b[49m\u001b[43mtree\u001b[49m\u001b[43m.\u001b[49m\u001b[43mmap\u001b[49m\u001b[43m(\u001b[49m\u001b[38;5;28;43;01mlambda\u001b[39;49;00m\u001b[43m \u001b[49m\u001b[43mx\u001b[49m\u001b[43m:\u001b[49m\u001b[43m \u001b[49m\u001b[43mx\u001b[49m\u001b[43m+\u001b[49m\u001b[32;43m1\u001b[39;49m\u001b[43m,\u001b[49m\u001b[43m \u001b[49m\u001b[43mexample_pytree\u001b[49m\u001b[43m)\u001b[49m)\n\u001b[32m      2\u001b[39m \u001b[38;5;66;03m# This will not work (would be nice if it did)\u001b[39;00m\n",
      "\u001b[36mFile \u001b[39m\u001b[32mc:\\Users\\gr8my\\Desktop\\Projects\\JAX_Basics\\env\\Lib\\site-packages\\jax\\_src\\tree.py:155\u001b[39m, in \u001b[36mmap\u001b[39m\u001b[34m(f, tree, is_leaf, *rest)\u001b[39m\n\u001b[32m    115\u001b[39m \u001b[38;5;28;01mdef\u001b[39;00m\u001b[38;5;250m \u001b[39m\u001b[34mmap\u001b[39m(f: Callable[..., Any],\n\u001b[32m    116\u001b[39m         tree: Any,\n\u001b[32m    117\u001b[39m         *rest: Any,\n\u001b[32m    118\u001b[39m         is_leaf: Callable[[Any], \u001b[38;5;28mbool\u001b[39m] | \u001b[38;5;28;01mNone\u001b[39;00m = \u001b[38;5;28;01mNone\u001b[39;00m) -> Any:\n\u001b[32m    119\u001b[39m \u001b[38;5;250m  \u001b[39m\u001b[33;03m\"\"\"Maps a multi-input function over pytree args to produce a new pytree.\u001b[39;00m\n\u001b[32m    120\u001b[39m \n\u001b[32m    121\u001b[39m \u001b[33;03m  Args:\u001b[39;00m\n\u001b[32m   (...)\u001b[39m\u001b[32m    153\u001b[39m \u001b[33;03m    - :func:`jax.tree.reduce`\u001b[39;00m\n\u001b[32m    154\u001b[39m \u001b[33;03m  \"\"\"\u001b[39;00m\n\u001b[32m--> \u001b[39m\u001b[32m155\u001b[39m   \u001b[38;5;28;01mreturn\u001b[39;00m \u001b[43mtree_util\u001b[49m\u001b[43m.\u001b[49m\u001b[43mtree_map\u001b[49m\u001b[43m(\u001b[49m\u001b[43mf\u001b[49m\u001b[43m,\u001b[49m\u001b[43m \u001b[49m\u001b[43mtree\u001b[49m\u001b[43m,\u001b[49m\u001b[43m \u001b[49m\u001b[43m*\u001b[49m\u001b[43mrest\u001b[49m\u001b[43m,\u001b[49m\u001b[43m \u001b[49m\u001b[43mis_leaf\u001b[49m\u001b[43m=\u001b[49m\u001b[43mis_leaf\u001b[49m\u001b[43m)\u001b[49m\n",
      "\u001b[36mFile \u001b[39m\u001b[32mc:\\Users\\gr8my\\Desktop\\Projects\\JAX_Basics\\env\\Lib\\site-packages\\jax\\_src\\tree_util.py:364\u001b[39m, in \u001b[36mtree_map\u001b[39m\u001b[34m(f, tree, is_leaf, *rest)\u001b[39m\n\u001b[32m    362\u001b[39m leaves, treedef = tree_flatten(tree, is_leaf)\n\u001b[32m    363\u001b[39m all_leaves = [leaves] + [treedef.flatten_up_to(r) \u001b[38;5;28;01mfor\u001b[39;00m r \u001b[38;5;129;01min\u001b[39;00m rest]\n\u001b[32m--> \u001b[39m\u001b[32m364\u001b[39m \u001b[38;5;28;01mreturn\u001b[39;00m \u001b[43mtreedef\u001b[49m\u001b[43m.\u001b[49m\u001b[43munflatten\u001b[49m\u001b[43m(\u001b[49m\u001b[43mf\u001b[49m\u001b[43m(\u001b[49m\u001b[43m*\u001b[49m\u001b[43mxs\u001b[49m\u001b[43m)\u001b[49m\u001b[43m \u001b[49m\u001b[38;5;28;43;01mfor\u001b[39;49;00m\u001b[43m \u001b[49m\u001b[43mxs\u001b[49m\u001b[43m \u001b[49m\u001b[38;5;129;43;01min\u001b[39;49;00m\u001b[43m \u001b[49m\u001b[38;5;28;43mzip\u001b[39;49m\u001b[43m(\u001b[49m\u001b[43m*\u001b[49m\u001b[43mall_leaves\u001b[49m\u001b[43m)\u001b[49m\u001b[43m)\u001b[49m\n",
      "\u001b[36mFile \u001b[39m\u001b[32mc:\\Users\\gr8my\\Desktop\\Projects\\JAX_Basics\\env\\Lib\\site-packages\\jax\\_src\\tree_util.py:364\u001b[39m, in \u001b[36m<genexpr>\u001b[39m\u001b[34m(.0)\u001b[39m\n\u001b[32m    362\u001b[39m leaves, treedef = tree_flatten(tree, is_leaf)\n\u001b[32m    363\u001b[39m all_leaves = [leaves] + [treedef.flatten_up_to(r) \u001b[38;5;28;01mfor\u001b[39;00m r \u001b[38;5;129;01min\u001b[39;00m rest]\n\u001b[32m--> \u001b[39m\u001b[32m364\u001b[39m \u001b[38;5;28;01mreturn\u001b[39;00m treedef.unflatten(\u001b[43mf\u001b[49m\u001b[43m(\u001b[49m\u001b[43m*\u001b[49m\u001b[43mxs\u001b[49m\u001b[43m)\u001b[49m \u001b[38;5;28;01mfor\u001b[39;00m xs \u001b[38;5;129;01min\u001b[39;00m \u001b[38;5;28mzip\u001b[39m(*all_leaves))\n",
      "\u001b[36mCell\u001b[39m\u001b[36m \u001b[39m\u001b[32mIn[6]\u001b[39m\u001b[32m, line 1\u001b[39m, in \u001b[36m<lambda>\u001b[39m\u001b[34m(x)\u001b[39m\n\u001b[32m----> \u001b[39m\u001b[32m1\u001b[39m \u001b[38;5;28mprint\u001b[39m(jax.tree.map(\u001b[38;5;28;01mlambda\u001b[39;00m x: \u001b[43mx\u001b[49m\u001b[43m+\u001b[49m\u001b[32;43m1\u001b[39;49m, example_pytree))\n\u001b[32m      2\u001b[39m \u001b[38;5;66;03m# This will not work (would be nice if it did)\u001b[39;00m\n",
      "\u001b[31mTypeError\u001b[39m: unsupported operand type(s) for +: 'MyContainer' and 'int'"
     ]
    }
   ],
   "source": [
    "print(jax.tree.map(lambda x: x+1, example_pytree))\n",
    "# This will not work (would be nice if it did)"
   ]
  },
  {
   "cell_type": "markdown",
   "id": "e8acdbe5",
   "metadata": {},
   "source": [
    "#### To get it to work, we need define two functions:\n",
    "- flatten\n",
    "- unflatten"
   ]
  },
  {
   "cell_type": "code",
   "execution_count": null,
   "id": "ace61b17",
   "metadata": {},
   "outputs": [],
   "source": []
  }
 ],
 "metadata": {
  "kernelspec": {
   "display_name": "env",
   "language": "python",
   "name": "python3"
  },
  "language_info": {
   "codemirror_mode": {
    "name": "ipython",
    "version": 3
   },
   "file_extension": ".py",
   "mimetype": "text/x-python",
   "name": "python",
   "nbconvert_exporter": "python",
   "pygments_lexer": "ipython3",
   "version": "3.13.7"
  }
 },
 "nbformat": 4,
 "nbformat_minor": 5
}
