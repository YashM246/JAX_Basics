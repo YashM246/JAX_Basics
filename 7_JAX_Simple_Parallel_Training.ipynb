{
 "cells": [
  {
   "cell_type": "code",
   "execution_count": 34,
   "id": "6ad84774",
   "metadata": {},
   "outputs": [],
   "source": [
    "import jax\n",
    "import jax.numpy as jnp\n",
    "import numpy as np\n",
    "\n",
    "from jax import grad, jit, vmap, pmap\n",
    "\n",
    "from jax import random\n",
    "import matplotlib.pyplot as plt\n",
    "from copy import deepcopy\n",
    "from typing import Tuple, NamedTuple\n",
    "import functools"
   ]
  },
  {
   "cell_type": "markdown",
   "id": "a58e74f3",
   "metadata": {},
   "source": [
    "### Let's train a model in parallel"
   ]
  },
  {
   "cell_type": "code",
   "execution_count": 35,
   "id": "15640aa2",
   "metadata": {},
   "outputs": [],
   "source": [
    "class Params(NamedTuple):\n",
    "    weight: jnp.ndarray\n",
    "    bias: jnp.ndarray\n",
    "\n",
    "lr = 0.005\n",
    "\n",
    "def init_model(rng):\n",
    "    weights_key, bias_key = jax.random.split(rng)\n",
    "    weights = jax.random.normal(weights_key, ())\n",
    "    biases = jax.random.normal(bias_key, ())\n",
    "    return Params(weights, biases)\n",
    "\n",
    "def forward(params, xs):\n",
    "    return params.weight * xs + params.bias\n",
    "\n",
    "def loss_fn(params, xs, ys):\n",
    "    pred = forward(params, xs)\n",
    "    # MSE\n",
    "    return jnp.mean((pred-ys)**2)"
   ]
  },
  {
   "cell_type": "code",
   "execution_count": 36,
   "id": "620e81c5",
   "metadata": {},
   "outputs": [],
   "source": [
    "# By decirating the function using pmap here, we wont need to wrap it \n",
    "# in pmap when we call it\n",
    "@functools.partial(jax.pmap, axis_name='batch')\n",
    "def update(params, xs, ys):\n",
    "\n",
    "    # Compute gradients on given mini batch (individually on each device)\n",
    "    loss, grads = jax.value_and_grad(loss_fn)(params, xs, ys)\n",
    "\n",
    "    # Combine the gradient across all devices (by taking mean)\n",
    "    grads = jax.lax.pmean(grads, axis_name='batch')\n",
    "\n",
    "    # Combine the loss (Unnecessary for update, useful for logging)\n",
    "    loss = jax.lax.pmean(loss, axis_name='batch')\n",
    "\n",
    "    # Each device performs their own SGD Update.\n",
    "    # But since we start with same params and sync gradients,\n",
    "    # the params stay in sync on each device\n",
    "\n",
    "    new_params = jax.tree.map(\n",
    "        lambda param, g: param - g*lr, params, grads\n",
    "    )\n",
    "\n",
    "    # If we were using ADAM or a stateful optimizer, we would do something like:\n",
    "    # updates, new_optimizer_state = optimizer(grads, optimizer_state)\n",
    "    # Then use updates instead of grads to actually update the params.\n",
    "    # And include new_optimizer_state in outputs, naturally.\n",
    "\n",
    "    return new_params, loss"
   ]
  },
  {
   "cell_type": "markdown",
   "id": "df7c0a2a",
   "metadata": {},
   "source": [
    "#### Generating true data"
   ]
  },
  {
   "cell_type": "code",
   "execution_count": 37,
   "id": "a61c48a4",
   "metadata": {},
   "outputs": [],
   "source": [
    "# Generate True data from y = wx + b + noise\n",
    "true_w, true_b = 32, -12\n",
    "xs = np.random.normal(size=(128, 1))\n",
    "noise = 5*np.random.normal(size=(128,1))\n",
    "\n",
    "ys = xs*true_w + true_b + noise"
   ]
  },
  {
   "cell_type": "code",
   "execution_count": 38,
   "id": "20b3babb",
   "metadata": {},
   "outputs": [
    {
     "data": {
      "image/png": "[encoded data removed]",
      "text/plain": [
       "<Figure size 640x480 with 1 Axes>"
      ]
     },
     "metadata": {},
     "output_type": "display_data"
    }
   ],
   "source": [
    "plt.scatter(xs, ys)\n",
    "plt.show()"
   ]
  },
  {
   "cell_type": "markdown",
   "id": "d6f641ee",
   "metadata": {},
   "source": [
    "#### Initialize Parameter, Replicate across devices"
   ]
  },
  {
   "cell_type": "code",
   "execution_count": 39,
   "id": "edd99ebc",
   "metadata": {},
   "outputs": [
    {
     "name": "stdout",
     "output_type": "stream",
     "text": [
      "Params(weight=Array([1.0040143], dtype=float32), bias=Array([-2.4424558], dtype=float32))\n"
     ]
    }
   ],
   "source": [
    "params = init_model(jax.random.PRNGKey(0))\n",
    "n_devices = jax.local_device_count()\n",
    "replicated_params = jax.tree.map(lambda x: jnp.array([x]*n_devices), params)\n",
    "print(replicated_params)"
   ]
  },
  {
   "cell_type": "markdown",
   "id": "04e0f3f1",
   "metadata": {},
   "source": [
    "#### Prepare the data"
   ]
  },
  {
   "cell_type": "code",
   "execution_count": 40,
   "id": "10823c6f",
   "metadata": {},
   "outputs": [],
   "source": [
    "def reshape_for_pmap(data, n_devices):\n",
    "    return data.reshape(n_devices, data.shape[0]//n_devices, *data.shape[1:])"
   ]
  },
  {
   "cell_type": "code",
   "execution_count": 41,
   "id": "e41a51e5",
   "metadata": {},
   "outputs": [
    {
     "name": "stdout",
     "output_type": "stream",
     "text": [
      "(1, 128, 1) (1, 128, 1)\n"
     ]
    }
   ],
   "source": [
    "x_parallel = reshape_for_pmap(xs, n_devices)\n",
    "y_parallel = reshape_for_pmap(ys, n_devices)\n",
    "\n",
    "print(x_parallel.shape, y_parallel.shape)"
   ]
  },
  {
   "cell_type": "code",
   "execution_count": 42,
   "id": "c84e6e7c",
   "metadata": {},
   "outputs": [],
   "source": [
    "def type_after_update(name, obj):\n",
    "    print(f\"After first 'update()', '{name}' is a {type(obj)}\")"
   ]
  },
  {
   "cell_type": "markdown",
   "id": "e87acc11",
   "metadata": {},
   "source": [
    "#### Actual Training Loop"
   ]
  },
  {
   "cell_type": "code",
   "execution_count": 43,
   "id": "18a14618",
   "metadata": {},
   "outputs": [
    {
     "name": "stdout",
     "output_type": "stream",
     "text": [
      "After first 'update()', 'replicated_params.weight' is a <class 'jaxlib._jax.ArrayImpl'>\n",
      "After first 'update()', 'loss' is a <class 'jaxlib._jax.ArrayImpl'>\n",
      "After first 'update()', 'x_parallel' is a <class 'numpy.ndarray'>\n",
      "(1,)\n",
      "Step   0, loss: 1012.495\n",
      "(1,)\n",
      "Step 100, loss: 164.908\n",
      "(1,)\n",
      "Step 200, loss: 44.136\n",
      "(1,)\n",
      "Step 300, loss: 26.694\n",
      "(1,)\n",
      "Step 400, loss: 24.142\n",
      "(1,)\n",
      "Step 500, loss: 23.763\n",
      "(1,)\n",
      "Step 600, loss: 23.707\n",
      "(1,)\n",
      "Step 700, loss: 23.698\n",
      "(1,)\n",
      "Step 800, loss: 23.697\n",
      "(1,)\n",
      "Step 900, loss: 23.696\n"
     ]
    }
   ],
   "source": [
    "num_epochs = 1000\n",
    "for epoch in range(num_epochs):\n",
    "\n",
    "    # This is where params and data gets communicated to devices\n",
    "    replicated_params, loss = update(replicated_params, x_parallel, y_parallel)\n",
    "\n",
    "    # replicated_params and loss are  now both ShardedDeviceArrays,\n",
    "    # indicating that they are on devices\n",
    "    # x/y_parallel remains a NumPy array on the host (simmulating data storage)\n",
    "    if epoch == 0:\n",
    "        type_after_update('replicated_params.weight', replicated_params.weight)\n",
    "        type_after_update('loss', loss)\n",
    "        type_after_update('x_parallel', x_parallel)\n",
    "    \n",
    "    if epoch % 100 == 0:\n",
    "        print(loss.shape)\n",
    "        print(f\"Step {epoch:3d}, loss: {loss[0]:.3f}\")\n",
    "\n",
    "# Like the loss, leaves of the params have extra leading dimension\n",
    "# so we take the params from the first device\n",
    "params = jax.device_get(jax.tree.map(lambda x: x[0], replicated_params))\n"
   ]
  },
  {
   "cell_type": "markdown",
   "id": "a86c5893",
   "metadata": {},
   "source": [
    "#### Model Predictions"
   ]
  },
  {
   "cell_type": "code",
   "execution_count": 45,
   "id": "92702cf5",
   "metadata": {},
   "outputs": [
    {
     "data": {
      "image/png": "[encoded data removed]",
      "text/plain": [
       "<Figure size 640x480 with 1 Axes>"
      ]
     },
     "metadata": {},
     "output_type": "display_data"
    }
   ],
   "source": [
    "plt.scatter(xs, ys)\n",
    "plt.plot(xs, forward(params, xs), c=\"red\", label=\"Model Pred\")\n",
    "plt.legend()\n",
    "plt.show()"
   ]
  },
  {
   "cell_type": "markdown",
   "id": "c44a1bc7",
   "metadata": {},
   "source": [
    "#### We just trained a model in parallel on multiple devices!"
   ]
  },
  {
   "cell_type": "markdown",
   "id": "67c36f8e",
   "metadata": {},
   "source": [
    "#### There are some super important tools we are missing tho\n",
    "1) How would we go about transfer learning in JAX?\n",
    "2) How do we freeze certain layers and finetune others?\n",
    "3) How do we get per sample gradients and not usual per batch gradients?"
   ]
  },
  {
   "cell_type": "markdown",
   "id": "416cc971",
   "metadata": {},
   "source": [
    "## \"Advanced\" AutoDiff"
   ]
  },
  {
   "cell_type": "markdown",
   "id": "b3f3d06f",
   "metadata": {},
   "source": [
    "### Stop Gradients"
   ]
  },
  {
   "cell_type": "markdown",
   "id": "29fc0dcb",
   "metadata": {},
   "source": [
    "`jax.lax.stop_gradient` is the primitive used for this purpose<br><br>\n",
    "<b>Example 1: TD(0) update (RL Algo)</b><br><br>\n",
    "The TD(0) update to the network parameter is: \n",
    "$$\n",
    "\\Delta\\theta = (r_t + v_\\theta(s_t) - v_\\theta(s_{t-1}))\\nabla v_\\theta(s_{t-1})\n",
    "$$\n",
    "This update is not the gradient of any loss function.<br>\n",
    "However it can be <b>written</b> as gradient of the pseudo loss function\n",
    "$$\n",
    "L(\\theta) = [ r_t  + v_\\theta(s_t) - v_\\theta(s_{t-1})]^2\n",
    "$$\n",
    "The dependency of the target $ r_t + v_\\theta(s_t) $ on the parameter is ignored."
   ]
  },
  {
   "cell_type": "code",
   "execution_count": 50,
   "id": "965ac523",
   "metadata": {},
   "outputs": [],
   "source": [
    "# Value Function (simple linear fn) and initial parameters\n",
    "value_fn = lambda theta, state: jnp.dot(theta, state)\n",
    "theta = jnp.array([0.1, -0.1, 0.])"
   ]
  },
  {
   "cell_type": "code",
   "execution_count": 51,
   "id": "9ecc2591",
   "metadata": {},
   "outputs": [],
   "source": [
    "# An Example transition\n",
    "s_tm1 = jnp.array([1., 2., -1.])\n",
    "r_t = jnp.array(1.)\n",
    "s_t = jnp.array([2., 1., 0.])"
   ]
  },
  {
   "cell_type": "code",
   "execution_count": 52,
   "id": "fc4c1d9a",
   "metadata": {},
   "outputs": [],
   "source": [
    "def td_loss(theta, s_tm1, r_t, s_t):\n",
    "    v_tm1 = value_fn(theta, s_tm1)\n",
    "    target = r_t + value_fn(theta, s_t)\n",
    "    return (jax.lax.stop_gradient(target)-v_tm1)**2"
   ]
  },
  {
   "cell_type": "code",
   "execution_count": 53,
   "id": "df4f0270",
   "metadata": {},
   "outputs": [
    {
     "data": {
      "text/plain": [
       "Array([-2.4, -4.8,  2.4], dtype=float32)"
      ]
     },
     "execution_count": 53,
     "metadata": {},
     "output_type": "execute_result"
    }
   ],
   "source": [
    "td_update = jax.grad(td_loss)\n",
    "delta_theta = td_update(theta, s_tm1, r_t, s_t)\n",
    "delta_theta"
   ]
  },
  {
   "cell_type": "markdown",
   "id": "48c80bd6",
   "metadata": {},
   "source": [
    "Just like the case above, in some ML algorithms (mostly RL) you want to:\n",
    "- Use a value in your calculation\n",
    "- But <b>not</b> update the parameters that produced that value\n",
    "<br><br>\n",
    "In cases like these, stop_gradient is used"
   ]
  },
  {
   "cell_type": "markdown",
   "id": "199a3712",
   "metadata": {},
   "source": [
    "Stop Gradient basically tells JAX to \"stop\" the gradient flow"
   ]
  },
  {
   "cell_type": "markdown",
   "id": "c19d0773",
   "metadata": {},
   "source": [
    "### Straigh-through Estimator <br>\n",
    "Used in VQ-VAE"
   ]
  },
  {
   "cell_type": "code",
   "execution_count": 54,
   "id": "586c8369",
   "metadata": {},
   "outputs": [],
   "source": [
    "def f(x):\n",
    "    return jnp.round(x)\n",
    "    # Non differentiable func\n",
    "\n",
    "def straight_through_f(x):\n",
    "    return x+jax.lax.stop_gradient(f(x)-x)"
   ]
  },
  {
   "cell_type": "code",
   "execution_count": 55,
   "id": "2b36bbc5",
   "metadata": {},
   "outputs": [
    {
     "name": "stdout",
     "output_type": "stream",
     "text": [
      "f(5.6) = 6.0\n",
      "straight_through_f(5.6) = 6.0\n"
     ]
    }
   ],
   "source": [
    "x = 5.6\n",
    "print(f\"f({x}) = {f(x)}\")\n",
    "print(f\"straight_through_f({x}) = {straight_through_f(x)}\")"
   ]
  },
  {
   "cell_type": "code",
   "execution_count": 56,
   "id": "76514f26",
   "metadata": {},
   "outputs": [
    {
     "name": "stdout",
     "output_type": "stream",
     "text": [
      "grad(f)(5.6) = 0.0\n",
      "grad(straight_through_f)(5.6) = 1.0\n"
     ]
    }
   ],
   "source": [
    "print(f\"grad(f)({x}) = {jax.grad(f)(x)}\")\n",
    "# non diff, so will return 0\n",
    "print(f\"grad(straight_through_f)({x}) = {jax.grad(straight_through_f)(x)}\")"
   ]
  },
  {
   "cell_type": "markdown",
   "id": "ba6517ef",
   "metadata": {},
   "source": [
    "### Per-sample Gradients"
   ]
  },
  {
   "cell_type": "markdown",
   "id": "b1455c63",
   "metadata": {},
   "source": [
    "In many frameworks (PyTorch, TF, Theano), it is often not trivial to compute per-example gradients, because the library directly accumulates the gradient over the batch. Naive workarounds, such as computing a separate loss per example and then aggregating the resulting grads are typically very inefficient"
   ]
  },
  {
   "cell_type": "code",
   "execution_count": 58,
   "id": "0936d8ef",
   "metadata": {},
   "outputs": [],
   "source": [
    "# Here is how you do it in JAX\n",
    "\n",
    "# Batch the data\n",
    "batched_s_tm1 = jnp.stack([s_tm1, s_tm1])\n",
    "batched_r_t = jnp.stack([r_t, r_t])\n",
    "batched_s_t = jnp.stack([s_t, s_t])"
   ]
  },
  {
   "cell_type": "code",
   "execution_count": 59,
   "id": "1054592a",
   "metadata": {},
   "outputs": [
    {
     "data": {
      "text/plain": [
       "Array([[-2.4, -4.8,  2.4],\n",
       "       [-2.4, -4.8,  2.4]], dtype=float32)"
      ]
     },
     "execution_count": 59,
     "metadata": {},
     "output_type": "execute_result"
    }
   ],
   "source": [
    "per_ex_grads = jax.jit(jax.vmap(jax.grad(td_loss), in_axes=(None,0,0,0)))\n",
    "per_ex_grads(theta, batched_s_tm1, batched_r_t, batched_s_t)"
   ]
  },
  {
   "cell_type": "markdown",
   "id": "b9178e7a",
   "metadata": {},
   "source": [
    "#### Task: Implement using JAX a function to calculate the update for MAML (Model Agnostic Meta Learning)"
   ]
  },
  {
   "cell_type": "code",
   "execution_count": null,
   "id": "6370a765",
   "metadata": {},
   "outputs": [],
   "source": []
  }
 ],
 "metadata": {
  "kernelspec": {
   "display_name": "env",
   "language": "python",
   "name": "python3"
  },
  "language_info": {
   "codemirror_mode": {
    "name": "ipython",
    "version": 3
   },
   "file_extension": ".py",
   "mimetype": "text/x-python",
   "name": "python",
   "nbconvert_exporter": "python",
   "pygments_lexer": "ipython3",
   "version": "3.13.7"
  }
 },
 "nbformat": 4,
 "nbformat_minor": 5
}
