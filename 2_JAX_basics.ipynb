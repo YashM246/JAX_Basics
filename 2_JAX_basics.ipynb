{
 "cells": [
  {
   "cell_type": "markdown",
   "id": "0e291a57",
   "metadata": {},
   "source": [
    "## JAX Basics"
   ]
  },
  {
   "cell_type": "markdown",
   "id": "9d6cee69",
   "metadata": {},
   "source": [
    "### JAX API Layering"
   ]
  },
  {
   "cell_type": "markdown",
   "id": "ad04d0bd",
   "metadata": {},
   "source": [
    "Like most libraries, JAX follows the \"onion\" structure/layering<br><br>\n",
    "- NumPy <--> lax <--> XLA\n",
    "- The lax API is stricter and more powerful\n",
    "- It is a python wrapper around XLA"
   ]
  },
  {
   "cell_type": "code",
   "execution_count": 35,
   "id": "768000da",
   "metadata": {},
   "outputs": [],
   "source": [
    "import jax.numpy as jnp\n",
    "import numpy as np\n",
    "import jax\n",
    "\n",
    "from jax import grad, jit, pmap, vmap\n",
    "from jax import lax\n",
    "import matplotlib.pyplot as plt"
   ]
  },
  {
   "cell_type": "code",
   "execution_count": 13,
   "id": "ef8e9b89",
   "metadata": {},
   "outputs": [],
   "source": [
    "seed = 0\n",
    "key = jax.random.PRNGKey(seed)"
   ]
  },
  {
   "cell_type": "markdown",
   "id": "97e0f074",
   "metadata": {},
   "source": [
    "#### lax API is stricter"
   ]
  },
  {
   "cell_type": "code",
   "execution_count": 4,
   "id": "8a8fc29c",
   "metadata": {},
   "outputs": [
    {
     "name": "stdout",
     "output_type": "stream",
     "text": [
      "2.0\n"
     ]
    }
   ],
   "source": [
    "print(jnp.add(1,1.0))\n",
    "# Implicitly promotes mixed types"
   ]
  },
  {
   "cell_type": "code",
   "execution_count": 6,
   "id": "f3367312",
   "metadata": {},
   "outputs": [
    {
     "ename": "TypeError",
     "evalue": "lax.add requires arguments to have the same dtypes, got int32, float32. (Tip: jnp.add is a similar function that does automatic type promotion on inputs).",
     "output_type": "error",
     "traceback": [
      "\u001b[31m---------------------------------------------------------------------------\u001b[39m",
      "\u001b[31mTypeError\u001b[39m                                 Traceback (most recent call last)",
      "\u001b[36mCell\u001b[39m\u001b[36m \u001b[39m\u001b[32mIn[6]\u001b[39m\u001b[32m, line 1\u001b[39m\n\u001b[32m----> \u001b[39m\u001b[32m1\u001b[39m \u001b[38;5;28mprint\u001b[39m(\u001b[43mlax\u001b[49m\u001b[43m.\u001b[49m\u001b[43madd\u001b[49m\u001b[43m(\u001b[49m\u001b[32;43m1\u001b[39;49m\u001b[43m,\u001b[49m\u001b[32;43m1.0\u001b[39;49m\u001b[43m)\u001b[49m)\n\u001b[32m      2\u001b[39m \u001b[38;5;66;03m# Needs explicit conversion\u001b[39;00m\n",
      "\u001b[36mFile \u001b[39m\u001b[32mc:\\Users\\gr8my\\Desktop\\Projects\\JAX_Basics\\env\\Lib\\site-packages\\jax\\_src\\lax\\lax.py:1199\u001b[39m, in \u001b[36madd\u001b[39m\u001b[34m(x, y)\u001b[39m\n\u001b[32m   1179\u001b[39m \u001b[38;5;250m\u001b[39m\u001b[33mr\u001b[39m\u001b[33;03m\"\"\"Elementwise addition: :math:`x + y`.\u001b[39;00m\n\u001b[32m   1180\u001b[39m \n\u001b[32m   1181\u001b[39m \u001b[33;03mThis function lowers directly to the `stablehlo.add`_ operation.\u001b[39;00m\n\u001b[32m   (...)\u001b[39m\u001b[32m   1196\u001b[39m \u001b[33;03m.. _stablehlo.add: https://openxla.org/stablehlo/spec#add\u001b[39;00m\n\u001b[32m   1197\u001b[39m \u001b[33;03m\"\"\"\u001b[39;00m\n\u001b[32m   1198\u001b[39m x, y = core.standard_insert_pvary(x, y)\n\u001b[32m-> \u001b[39m\u001b[32m1199\u001b[39m \u001b[38;5;28;01mreturn\u001b[39;00m \u001b[43madd_p\u001b[49m\u001b[43m.\u001b[49m\u001b[43mbind\u001b[49m\u001b[43m(\u001b[49m\u001b[43mx\u001b[49m\u001b[43m,\u001b[49m\u001b[43m \u001b[49m\u001b[43my\u001b[49m\u001b[43m)\u001b[49m\n",
      "\u001b[36mFile \u001b[39m\u001b[32mc:\\Users\\gr8my\\Desktop\\Projects\\JAX_Basics\\env\\Lib\\site-packages\\jax\\_src\\core.py:632\u001b[39m, in \u001b[36mPrimitive.bind\u001b[39m\u001b[34m(self, *args, **params)\u001b[39m\n\u001b[32m    630\u001b[39m \u001b[38;5;28;01mdef\u001b[39;00m\u001b[38;5;250m \u001b[39m\u001b[34mbind\u001b[39m(\u001b[38;5;28mself\u001b[39m, *args, **params):\n\u001b[32m    631\u001b[39m   args = args \u001b[38;5;28;01mif\u001b[39;00m \u001b[38;5;28mself\u001b[39m.skip_canonicalization \u001b[38;5;28;01melse\u001b[39;00m \u001b[38;5;28mmap\u001b[39m(canonicalize_value, args)\n\u001b[32m--> \u001b[39m\u001b[32m632\u001b[39m   \u001b[38;5;28;01mreturn\u001b[39;00m \u001b[38;5;28;43mself\u001b[39;49m\u001b[43m.\u001b[49m\u001b[43m_true_bind\u001b[49m\u001b[43m(\u001b[49m\u001b[43m*\u001b[49m\u001b[43margs\u001b[49m\u001b[43m,\u001b[49m\u001b[43m \u001b[49m\u001b[43m*\u001b[49m\u001b[43m*\u001b[49m\u001b[43mparams\u001b[49m\u001b[43m)\u001b[49m\n",
      "\u001b[36mFile \u001b[39m\u001b[32mc:\\Users\\gr8my\\Desktop\\Projects\\JAX_Basics\\env\\Lib\\site-packages\\jax\\_src\\core.py:648\u001b[39m, in \u001b[36mPrimitive._true_bind\u001b[39m\u001b[34m(self, *args, **params)\u001b[39m\n\u001b[32m    646\u001b[39m trace_ctx.set_trace(eval_trace)\n\u001b[32m    647\u001b[39m \u001b[38;5;28;01mtry\u001b[39;00m:\n\u001b[32m--> \u001b[39m\u001b[32m648\u001b[39m   \u001b[38;5;28;01mreturn\u001b[39;00m \u001b[38;5;28;43mself\u001b[39;49m\u001b[43m.\u001b[49m\u001b[43mbind_with_trace\u001b[49m\u001b[43m(\u001b[49m\u001b[43mprev_trace\u001b[49m\u001b[43m,\u001b[49m\u001b[43m \u001b[49m\u001b[43margs\u001b[49m\u001b[43m,\u001b[49m\u001b[43m \u001b[49m\u001b[43mparams\u001b[49m\u001b[43m)\u001b[49m\n\u001b[32m    649\u001b[39m \u001b[38;5;28;01mfinally\u001b[39;00m:\n\u001b[32m    650\u001b[39m   trace_ctx.set_trace(prev_trace)\n",
      "\u001b[36mFile \u001b[39m\u001b[32mc:\\Users\\gr8my\\Desktop\\Projects\\JAX_Basics\\env\\Lib\\site-packages\\jax\\_src\\core.py:660\u001b[39m, in \u001b[36mPrimitive.bind_with_trace\u001b[39m\u001b[34m(self, trace, args, params)\u001b[39m\n\u001b[32m    658\u001b[39m     \u001b[38;5;28;01mwith\u001b[39;00m set_current_trace(trace):\n\u001b[32m    659\u001b[39m       \u001b[38;5;28;01mreturn\u001b[39;00m \u001b[38;5;28mself\u001b[39m.to_lojax(*args, **params)  \u001b[38;5;66;03m# type: ignore\u001b[39;00m\n\u001b[32m--> \u001b[39m\u001b[32m660\u001b[39m   \u001b[38;5;28;01mreturn\u001b[39;00m \u001b[43mtrace\u001b[49m\u001b[43m.\u001b[49m\u001b[43mprocess_primitive\u001b[49m\u001b[43m(\u001b[49m\u001b[38;5;28;43mself\u001b[39;49m\u001b[43m,\u001b[49m\u001b[43m \u001b[49m\u001b[43margs\u001b[49m\u001b[43m,\u001b[49m\u001b[43m \u001b[49m\u001b[43mparams\u001b[49m\u001b[43m)\u001b[49m\n\u001b[32m    661\u001b[39m trace.process_primitive(\u001b[38;5;28mself\u001b[39m, args, params)  \u001b[38;5;66;03m# may raise lojax error\u001b[39;00m\n\u001b[32m    662\u001b[39m \u001b[38;5;28;01mraise\u001b[39;00m \u001b[38;5;167;01mException\u001b[39;00m(\u001b[33mf\u001b[39m\u001b[33m\"\u001b[39m\u001b[33mcouldn\u001b[39m\u001b[33m'\u001b[39m\u001b[33mt apply typeof to args: \u001b[39m\u001b[38;5;132;01m{\u001b[39;00margs\u001b[38;5;132;01m}\u001b[39;00m\u001b[33m\"\u001b[39m)\n",
      "\u001b[36mFile \u001b[39m\u001b[32mc:\\Users\\gr8my\\Desktop\\Projects\\JAX_Basics\\env\\Lib\\site-packages\\jax\\_src\\core.py:1189\u001b[39m, in \u001b[36mEvalTrace.process_primitive\u001b[39m\u001b[34m(self, primitive, args, params)\u001b[39m\n\u001b[32m   1187\u001b[39m args = \u001b[38;5;28mmap\u001b[39m(full_lower, args)\n\u001b[32m   1188\u001b[39m check_eval_args(args)\n\u001b[32m-> \u001b[39m\u001b[32m1189\u001b[39m \u001b[38;5;28;01mreturn\u001b[39;00m \u001b[43mprimitive\u001b[49m\u001b[43m.\u001b[49m\u001b[43mimpl\u001b[49m\u001b[43m(\u001b[49m\u001b[43m*\u001b[49m\u001b[43margs\u001b[49m\u001b[43m,\u001b[49m\u001b[43m \u001b[49m\u001b[43m*\u001b[49m\u001b[43m*\u001b[49m\u001b[43mparams\u001b[49m\u001b[43m)\u001b[49m\n",
      "\u001b[36mFile \u001b[39m\u001b[32mc:\\Users\\gr8my\\Desktop\\Projects\\JAX_Basics\\env\\Lib\\site-packages\\jax\\_src\\dispatch.py:94\u001b[39m, in \u001b[36mapply_primitive\u001b[39m\u001b[34m(prim, *args, **params)\u001b[39m\n\u001b[32m     92\u001b[39m prev = config.disable_jit.swap_local(\u001b[38;5;28;01mFalse\u001b[39;00m)\n\u001b[32m     93\u001b[39m \u001b[38;5;28;01mtry\u001b[39;00m:\n\u001b[32m---> \u001b[39m\u001b[32m94\u001b[39m   outs = \u001b[43mfun\u001b[49m\u001b[43m(\u001b[49m\u001b[43m*\u001b[49m\u001b[43margs\u001b[49m\u001b[43m)\u001b[49m\n\u001b[32m     95\u001b[39m \u001b[38;5;28;01mfinally\u001b[39;00m:\n\u001b[32m     96\u001b[39m   config.disable_jit.set_local(prev)\n",
      "    \u001b[31m[... skipping hidden 26 frame]\u001b[39m\n",
      "\u001b[36mFile \u001b[39m\u001b[32mc:\\Users\\gr8my\\Desktop\\Projects\\JAX_Basics\\env\\Lib\\site-packages\\jax\\_src\\lax\\lax.py:8888\u001b[39m, in \u001b[36mcheck_same_dtypes\u001b[39m\u001b[34m(name, *avals)\u001b[39m\n\u001b[32m   8886\u001b[39m   equiv = _JNP_FUNCTION_EQUIVALENTS[name]\n\u001b[32m   8887\u001b[39m   msg += \u001b[33mf\u001b[39m\u001b[33m\"\u001b[39m\u001b[33m (Tip: jnp.\u001b[39m\u001b[38;5;132;01m{\u001b[39;00mequiv\u001b[38;5;132;01m}\u001b[39;00m\u001b[33m is a similar function that does automatic type promotion on inputs).\u001b[39m\u001b[33m\"\u001b[39m\n\u001b[32m-> \u001b[39m\u001b[32m8888\u001b[39m \u001b[38;5;28;01mraise\u001b[39;00m \u001b[38;5;167;01mTypeError\u001b[39;00m(msg.format(name, \u001b[33m\"\u001b[39m\u001b[33m, \u001b[39m\u001b[33m\"\u001b[39m.join(\u001b[38;5;28mstr\u001b[39m(a.dtype) \u001b[38;5;28;01mfor\u001b[39;00m a \u001b[38;5;129;01min\u001b[39;00m avals)))\n",
      "\u001b[31mTypeError\u001b[39m: lax.add requires arguments to have the same dtypes, got int32, float32. (Tip: jnp.add is a similar function that does automatic type promotion on inputs)."
     ]
    }
   ],
   "source": [
    "print(lax.add(1,1.0))\n",
    "# Needs explicit conversion"
   ]
  },
  {
   "cell_type": "markdown",
   "id": "9d08effc",
   "metadata": {},
   "source": [
    "#### lax is more powerful but less user-friendly"
   ]
  },
  {
   "cell_type": "code",
   "execution_count": 10,
   "id": "6cd1de25",
   "metadata": {},
   "outputs": [
    {
     "name": "stdout",
     "output_type": "stream",
     "text": [
      "[1. 3. 4. 4. 4. 4. 4. 4. 4. 4. 3. 1.]\n",
      "[1. 3. 4. 4. 4. 4. 4. 4. 4. 4. 3. 1.]\n"
     ]
    }
   ],
   "source": [
    "x = jnp.array([1, 2, 1])\n",
    "y = jnp.ones(10)\n",
    "\n",
    "# NumPy API\n",
    "result1 = jnp.convolve(x, y)\n",
    "\n",
    "# lax API\n",
    "result2 = lax.conv_general_dilated(\n",
    "    x.reshape(1,1,3).astype(float), # Explicit Promotion\n",
    "    y.reshape(1,1,10),\n",
    "    window_strides=(1,),\n",
    "    padding=[(len(y)-1, len(y)-1)]    # Equivalent to padding=\"full\" in NumPy\n",
    ")\n",
    "\n",
    "print(result1)\n",
    "print(result2[0][0])\n",
    "\n",
    "assert(np.allclose(result1,result2[0][0], atol=1e-6))"
   ]
  },
  {
   "cell_type": "markdown",
   "id": "0f066c95",
   "metadata": {},
   "source": [
    "### JIT Functions are faster"
   ]
  },
  {
   "cell_type": "code",
   "execution_count": 15,
   "id": "1c01147c",
   "metadata": {},
   "outputs": [],
   "source": [
    "def norm(x):\n",
    "    x = x - x.mean(0)\n",
    "    return x/x.std(0)\n",
    "\n",
    "norm_compiled = jit(norm)\n",
    "\n",
    "x = jax.random.normal(key, (10000, 100), dtype=jnp.float32)\n",
    "\n",
    "assert np.allclose(norm(x), norm_compiled(x), atol=1e-6)"
   ]
  },
  {
   "cell_type": "code",
   "execution_count": 16,
   "id": "6b0573a4",
   "metadata": {},
   "outputs": [
    {
     "name": "stdout",
     "output_type": "stream",
     "text": [
      "Normal Function\n",
      "1.41 ms ± 25.2 μs per loop (mean ± std. dev. of 7 runs, 1,000 loops each)\n",
      "JIT Compiled Function\n",
      "730 μs ± 9.81 μs per loop (mean ± std. dev. of 7 runs, 1,000 loops each)\n"
     ]
    }
   ],
   "source": [
    "print(\"Normal Function\")\n",
    "%timeit norm(x).block_until_ready()\n",
    "\n",
    "print(\"JIT Compiled Function\")\n",
    "%timeit norm_compiled(x).block_until_ready()"
   ]
  },
  {
   "cell_type": "markdown",
   "id": "a83cd7d7",
   "metadata": {},
   "source": [
    "#### 1) Example of Failure: Array shapes must be static "
   ]
  },
  {
   "cell_type": "code",
   "execution_count": 18,
   "id": "f7d01f67",
   "metadata": {},
   "outputs": [
    {
     "name": "stdout",
     "output_type": "stream",
     "text": [
      "[-0.43359444 -0.07861735 -0.97208923 -0.49529874 -0.9501635 ]\n"
     ]
    }
   ],
   "source": [
    "def get_negatives(x):\n",
    "    return x[x<0]\n",
    "\n",
    "x = jax.random.normal(key, (10,), dtype=jnp.float32)\n",
    "print(get_negatives(x))"
   ]
  },
  {
   "cell_type": "code",
   "execution_count": 19,
   "id": "684b6ef7",
   "metadata": {},
   "outputs": [
    {
     "ename": "NonConcreteBooleanIndexError",
     "evalue": "Array boolean indices must be concrete; got bool[10]\n\nSee https://docs.jax.dev/en/latest/errors.html#jax.errors.NonConcreteBooleanIndexError",
     "output_type": "error",
     "traceback": [
      "\u001b[31m---------------------------------------------------------------------------\u001b[39m",
      "\u001b[31mNonConcreteBooleanIndexError\u001b[39m              Traceback (most recent call last)",
      "\u001b[36mCell\u001b[39m\u001b[36m \u001b[39m\u001b[32mIn[19]\u001b[39m\u001b[32m, line 1\u001b[39m\n\u001b[32m----> \u001b[39m\u001b[32m1\u001b[39m \u001b[38;5;28mprint\u001b[39m(\u001b[43mjit\u001b[49m\u001b[43m(\u001b[49m\u001b[43mget_negatives\u001b[49m\u001b[43m)\u001b[49m\u001b[43m(\u001b[49m\u001b[43mx\u001b[49m\u001b[43m)\u001b[49m)\n",
      "    \u001b[31m[... skipping hidden 13 frame]\u001b[39m\n",
      "\u001b[36mCell\u001b[39m\u001b[36m \u001b[39m\u001b[32mIn[18]\u001b[39m\u001b[32m, line 2\u001b[39m, in \u001b[36mget_negatives\u001b[39m\u001b[34m(x)\u001b[39m\n\u001b[32m      1\u001b[39m \u001b[38;5;28;01mdef\u001b[39;00m\u001b[38;5;250m \u001b[39m\u001b[34mget_negatives\u001b[39m(x):\n\u001b[32m----> \u001b[39m\u001b[32m2\u001b[39m     \u001b[38;5;28;01mreturn\u001b[39;00m \u001b[43mx\u001b[49m\u001b[43m[\u001b[49m\u001b[43mx\u001b[49m\u001b[43m<\u001b[49m\u001b[32;43m0\u001b[39;49m\u001b[43m]\u001b[49m\n",
      "\u001b[36mFile \u001b[39m\u001b[32mc:\\Users\\gr8my\\Desktop\\Projects\\JAX_Basics\\env\\Lib\\site-packages\\jax\\_src\\numpy\\array_methods.py:1141\u001b[39m, in \u001b[36m_forward_operator_to_aval.<locals>.op\u001b[39m\u001b[34m(self, *args)\u001b[39m\n\u001b[32m   1140\u001b[39m \u001b[38;5;28;01mdef\u001b[39;00m\u001b[38;5;250m \u001b[39m\u001b[34mop\u001b[39m(\u001b[38;5;28mself\u001b[39m, *args):\n\u001b[32m-> \u001b[39m\u001b[32m1141\u001b[39m   \u001b[38;5;28;01mreturn\u001b[39;00m \u001b[38;5;28;43mgetattr\u001b[39;49m\u001b[43m(\u001b[49m\u001b[38;5;28;43mself\u001b[39;49m\u001b[43m.\u001b[49m\u001b[43maval\u001b[49m\u001b[43m,\u001b[49m\u001b[43m \u001b[49m\u001b[33;43mf\u001b[39;49m\u001b[33;43m\"\u001b[39;49m\u001b[33;43m_\u001b[39;49m\u001b[38;5;132;43;01m{\u001b[39;49;00m\u001b[43mname\u001b[49m\u001b[38;5;132;43;01m}\u001b[39;49;00m\u001b[33;43m\"\u001b[39;49m\u001b[43m)\u001b[49m\u001b[43m(\u001b[49m\u001b[38;5;28;43mself\u001b[39;49m\u001b[43m,\u001b[49m\u001b[43m \u001b[49m\u001b[43m*\u001b[49m\u001b[43margs\u001b[49m\u001b[43m)\u001b[49m\n",
      "\u001b[36mFile \u001b[39m\u001b[32mc:\\Users\\gr8my\\Desktop\\Projects\\JAX_Basics\\env\\Lib\\site-packages\\jax\\_src\\numpy\\array_methods.py:678\u001b[39m, in \u001b[36m_getitem\u001b[39m\u001b[34m(self, item)\u001b[39m\n\u001b[32m    677\u001b[39m \u001b[38;5;28;01mdef\u001b[39;00m\u001b[38;5;250m \u001b[39m\u001b[34m_getitem\u001b[39m(\u001b[38;5;28mself\u001b[39m, item):\n\u001b[32m--> \u001b[39m\u001b[32m678\u001b[39m   \u001b[38;5;28;01mreturn\u001b[39;00m \u001b[43mindexing\u001b[49m\u001b[43m.\u001b[49m\u001b[43mrewriting_take\u001b[49m\u001b[43m(\u001b[49m\u001b[38;5;28;43mself\u001b[39;49m\u001b[43m,\u001b[49m\u001b[43m \u001b[49m\u001b[43mitem\u001b[49m\u001b[43m)\u001b[49m\n",
      "\u001b[36mFile \u001b[39m\u001b[32mc:\\Users\\gr8my\\Desktop\\Projects\\JAX_Basics\\env\\Lib\\site-packages\\jax\\_src\\numpy\\indexing.py:655\u001b[39m, in \u001b[36mrewriting_take\u001b[39m\u001b[34m(arr, idx, indices_are_sorted, unique_indices, mode, fill_value, normalize_indices, out_sharding)\u001b[39m\n\u001b[32m    649\u001b[39m     \u001b[38;5;28;01mif\u001b[39;00m (\u001b[38;5;28misinstance\u001b[39m(aval, core.DShapedArray) \u001b[38;5;129;01mand\u001b[39;00m aval.shape == () \u001b[38;5;129;01mand\u001b[39;00m\n\u001b[32m    650\u001b[39m         dtypes.issubdtype(aval.dtype, np.integer) \u001b[38;5;129;01mand\u001b[39;00m\n\u001b[32m    651\u001b[39m         \u001b[38;5;129;01mnot\u001b[39;00m dtypes.issubdtype(aval.dtype, dtypes.bool_) \u001b[38;5;129;01mand\u001b[39;00m\n\u001b[32m    652\u001b[39m         \u001b[38;5;28misinstance\u001b[39m(arr.shape[\u001b[32m0\u001b[39m], \u001b[38;5;28mint\u001b[39m)):\n\u001b[32m    653\u001b[39m       \u001b[38;5;28;01mreturn\u001b[39;00m slicing.dynamic_index_in_dim(arr, idx, keepdims=\u001b[38;5;28;01mFalse\u001b[39;00m)\n\u001b[32m--> \u001b[39m\u001b[32m655\u001b[39m treedef, static_idx, dynamic_idx = \u001b[43msplit_index_for_jit\u001b[49m\u001b[43m(\u001b[49m\u001b[43midx\u001b[49m\u001b[43m,\u001b[49m\u001b[43m \u001b[49m\u001b[43marr\u001b[49m\u001b[43m.\u001b[49m\u001b[43mshape\u001b[49m\u001b[43m)\u001b[49m\n\u001b[32m    656\u001b[39m internal_gather = partial(\n\u001b[32m    657\u001b[39m     _gather, treedef=treedef, static_idx=static_idx,\n\u001b[32m    658\u001b[39m     indices_are_sorted=indices_are_sorted, unique_indices=unique_indices,\n\u001b[32m    659\u001b[39m     mode=mode, fill_value=fill_value, normalize_indices=normalize_indices)\n\u001b[32m    660\u001b[39m \u001b[38;5;28;01mif\u001b[39;00m out_sharding \u001b[38;5;129;01mis\u001b[39;00m \u001b[38;5;129;01mnot\u001b[39;00m \u001b[38;5;28;01mNone\u001b[39;00m:\n",
      "\u001b[36mFile \u001b[39m\u001b[32mc:\\Users\\gr8my\\Desktop\\Projects\\JAX_Basics\\env\\Lib\\site-packages\\jax\\_src\\numpy\\indexing.py:755\u001b[39m, in \u001b[36msplit_index_for_jit\u001b[39m\u001b[34m(idx, shape)\u001b[39m\n\u001b[32m    751\u001b[39m   \u001b[38;5;28;01mraise\u001b[39;00m \u001b[38;5;167;01mTypeError\u001b[39;00m(\u001b[33mf\u001b[39m\u001b[33m\"\u001b[39m\u001b[33mJAX does not support string indexing; got \u001b[39m\u001b[38;5;132;01m{\u001b[39;00midx\u001b[38;5;132;01m=}\u001b[39;00m\u001b[33m\"\u001b[39m)\n\u001b[32m    753\u001b[39m \u001b[38;5;66;03m# Expand any (concrete) boolean indices. We can then use advanced integer\u001b[39;00m\n\u001b[32m    754\u001b[39m \u001b[38;5;66;03m# indexing logic to handle them.\u001b[39;00m\n\u001b[32m--> \u001b[39m\u001b[32m755\u001b[39m idx = \u001b[43m_expand_bool_indices\u001b[49m\u001b[43m(\u001b[49m\u001b[43midx\u001b[49m\u001b[43m,\u001b[49m\u001b[43m \u001b[49m\u001b[43mshape\u001b[49m\u001b[43m)\u001b[49m\n\u001b[32m    757\u001b[39m leaves, treedef = tree_flatten(idx)\n\u001b[32m    758\u001b[39m dynamic = [\u001b[38;5;28;01mNone\u001b[39;00m] * \u001b[38;5;28mlen\u001b[39m(leaves)\n",
      "\u001b[36mFile \u001b[39m\u001b[32mc:\\Users\\gr8my\\Desktop\\Projects\\JAX_Basics\\env\\Lib\\site-packages\\jax\\_src\\numpy\\indexing.py:1092\u001b[39m, in \u001b[36m_expand_bool_indices\u001b[39m\u001b[34m(idx, shape)\u001b[39m\n\u001b[32m   1088\u001b[39m   abstract_i = core.get_aval(i)\n\u001b[32m   1090\u001b[39m \u001b[38;5;28;01mif\u001b[39;00m \u001b[38;5;129;01mnot\u001b[39;00m core.is_concrete(i):\n\u001b[32m   1091\u001b[39m   \u001b[38;5;66;03m# TODO(mattjj): improve this error by tracking _why_ the indices are not concrete\u001b[39;00m\n\u001b[32m-> \u001b[39m\u001b[32m1092\u001b[39m   \u001b[38;5;28;01mraise\u001b[39;00m errors.NonConcreteBooleanIndexError(abstract_i)\n\u001b[32m   1093\u001b[39m \u001b[38;5;28;01melif\u001b[39;00m np.ndim(i) == \u001b[32m0\u001b[39m:\n\u001b[32m   1094\u001b[39m   out.append(\u001b[38;5;28mbool\u001b[39m(i))\n",
      "\u001b[31mNonConcreteBooleanIndexError\u001b[39m: Array boolean indices must be concrete; got bool[10]\n\nSee https://docs.jax.dev/en/latest/errors.html#jax.errors.NonConcreteBooleanIndexError"
     ]
    }
   ],
   "source": [
    "print(jit(get_negatives)(x))"
   ]
  },
  {
   "cell_type": "markdown",
   "id": "124e0498",
   "metadata": {},
   "source": [
    "### So how does JIT work in the background?"
   ]
  },
  {
   "cell_type": "code",
   "execution_count": 22,
   "id": "3628d161",
   "metadata": {},
   "outputs": [
    {
     "name": "stdout",
     "output_type": "stream",
     "text": [
      "Running f():\n",
      "x = JitTracer<float32[3,4]>\n",
      "y = JitTracer<float32[4]>\n",
      "Result: x.y = JitTracer<float32[3]>\n",
      "[6.2779365 2.786862  2.5150263]\n"
     ]
    }
   ],
   "source": [
    "@jit\n",
    "def f(x,y):\n",
    "    print(\"Running f():\")\n",
    "    print(f\"x = {x}\")\n",
    "    print(f\"y = {y}\")\n",
    "    result = jnp.dot(x+1, y+1)\n",
    "    print(f\"Result: x.y = {result}\")\n",
    "    return result\n",
    "\n",
    "x = np.random.randn(3,4)\n",
    "y = np.random.randn(4)\n",
    "print(f(x,y))"
   ]
  },
  {
   "cell_type": "code",
   "execution_count": 23,
   "id": "2c9258e3",
   "metadata": {},
   "outputs": [
    {
     "name": "stdout",
     "output_type": "stream",
     "text": [
      "Second Time (But actually the Third Call)\n",
      "[4.434293  3.7576451 1.2664586]\n"
     ]
    }
   ],
   "source": [
    "x2 = np.random.randn(3,4)\n",
    "y2 = np.random.randn(4)\n",
    "print(\"Second Time (But actually the Third Call)\")\n",
    "print(f(x2, y2))"
   ]
  },
  {
   "cell_type": "markdown",
   "id": "090c5689",
   "metadata": {},
   "source": [
    "- Side Effects (Like print statements) are not compiled \n",
    "- The first time you run the jit function, it runs a \"trace\" in the background\n",
    "- It will not input the actual values of x and y when tracing\n",
    "- It creates abstract tracer values - these are placeholder values with specific shape and data type\n",
    "- This is what was printed - JitTracer<>\n",
    "- This helps JIT understand what type and shape of values are inputted in the function, how they are morphed, and what shape and data type the output has\n",
    "- The second time the function is called, JIT will ignore all the side effects"
   ]
  },
  {
   "cell_type": "code",
   "execution_count": 24,
   "id": "d98bf6d9",
   "metadata": {},
   "outputs": [
    {
     "name": "stdout",
     "output_type": "stream",
     "text": [
      "Running f():\n",
      "x = JitTracer<float32[4,5]>\n",
      "y = JitTracer<float32[5]>\n",
      "Result: x.y = JitTracer<float32[4]>\n",
      "[4.5076585 4.263817  5.343482  5.9992876]\n"
     ]
    }
   ],
   "source": [
    "x3 = np.random.randn(4,5)\n",
    "y3 = np.random.randn(5)\n",
    "print(f(x3, y3))"
   ]
  },
  {
   "cell_type": "markdown",
   "id": "e7c11149",
   "metadata": {},
   "source": [
    "- This time JIT compiled the function again\n",
    "- Because the shape of the arrays changed\n",
    "- JIT is smart enough to retrace"
   ]
  },
  {
   "cell_type": "markdown",
   "id": "a81312eb",
   "metadata": {},
   "source": [
    "#### Same function but no side effects"
   ]
  },
  {
   "cell_type": "code",
   "execution_count": 27,
   "id": "04da71e8",
   "metadata": {},
   "outputs": [
    {
     "name": "stdout",
     "output_type": "stream",
     "text": [
      "{ lambda ; a:f32[3,4] b:f32[4]. let\n",
      "    c:f32[3,4] = add a 1.0:f32[]\n",
      "    d:f32[4] = add b 1.0:f32[]\n",
      "    e:f32[3] = dot_general[\n",
      "      dimension_numbers=(([1], [0]), ([], []))\n",
      "      preferred_element_type=float32\n",
      "    ] c d\n",
      "  in (e,) }\n"
     ]
    }
   ],
   "source": [
    "def f(x, y):\n",
    "    return jnp.dot(x+1, y+1)\n",
    "\n",
    "print(jax.make_jaxpr(f)(x, y))\n",
    "# make_jaxpr: Make Jax Expression"
   ]
  },
  {
   "cell_type": "markdown",
   "id": "14c8bc57",
   "metadata": {},
   "source": [
    "#### This JAX Expression is created when JIT Traces the function in the background"
   ]
  },
  {
   "cell_type": "markdown",
   "id": "f4d32cc4",
   "metadata": {},
   "source": [
    "#### 2) Another Example of JIT Failure: Dependencies/Concrete Values"
   ]
  },
  {
   "cell_type": "code",
   "execution_count": 29,
   "id": "ff96cf11",
   "metadata": {},
   "outputs": [
    {
     "ename": "TracerBoolConversionError",
     "evalue": "Attempted boolean conversion of traced array with shape bool[].\nThe error occurred while tracing the function f at C:\\Users\\gr8my\\AppData\\Local\\Temp\\ipykernel_34648\\2013549118.py:1 for jit. This concrete value was not available in Python because it depends on the value of the argument neg.\nSee https://docs.jax.dev/en/latest/errors.html#jax.errors.TracerBoolConversionError",
     "output_type": "error",
     "traceback": [
      "\u001b[31m---------------------------------------------------------------------------\u001b[39m",
      "\u001b[31mTracerBoolConversionError\u001b[39m                 Traceback (most recent call last)",
      "\u001b[36mCell\u001b[39m\u001b[36m \u001b[39m\u001b[32mIn[29]\u001b[39m\u001b[32m, line 5\u001b[39m\n\u001b[32m      1\u001b[39m \u001b[38;5;129m@jit\u001b[39m\n\u001b[32m      2\u001b[39m \u001b[38;5;28;01mdef\u001b[39;00m\u001b[38;5;250m \u001b[39m\u001b[34mf\u001b[39m(x, neg):\n\u001b[32m      3\u001b[39m     \u001b[38;5;28;01mreturn\u001b[39;00m -x \u001b[38;5;28;01mif\u001b[39;00m neg \u001b[38;5;28;01melse\u001b[39;00m x\n\u001b[32m----> \u001b[39m\u001b[32m5\u001b[39m \u001b[43mf\u001b[49m\u001b[43m(\u001b[49m\u001b[32;43m1\u001b[39;49m\u001b[43m,\u001b[49m\u001b[43m \u001b[49m\u001b[38;5;28;43;01mTrue\u001b[39;49;00m\u001b[43m)\u001b[49m\n",
      "    \u001b[31m[... skipping hidden 13 frame]\u001b[39m\n",
      "\u001b[36mCell\u001b[39m\u001b[36m \u001b[39m\u001b[32mIn[29]\u001b[39m\u001b[32m, line 3\u001b[39m, in \u001b[36mf\u001b[39m\u001b[34m(x, neg)\u001b[39m\n\u001b[32m      1\u001b[39m \u001b[38;5;129m@jit\u001b[39m\n\u001b[32m      2\u001b[39m \u001b[38;5;28;01mdef\u001b[39;00m\u001b[38;5;250m \u001b[39m\u001b[34mf\u001b[39m(x, neg):\n\u001b[32m----> \u001b[39m\u001b[32m3\u001b[39m     \u001b[38;5;28;01mreturn\u001b[39;00m -x \u001b[38;5;28;01mif\u001b[39;00m neg \u001b[38;5;28;01melse\u001b[39;00m x\n",
      "    \u001b[31m[... skipping hidden 1 frame]\u001b[39m\n",
      "\u001b[36mFile \u001b[39m\u001b[32mc:\\Users\\gr8my\\Desktop\\Projects\\JAX_Basics\\env\\Lib\\site-packages\\jax\\_src\\core.py:1805\u001b[39m, in \u001b[36mconcretization_function_error.<locals>.error\u001b[39m\u001b[34m(self, arg)\u001b[39m\n\u001b[32m   1804\u001b[39m \u001b[38;5;28;01mdef\u001b[39;00m\u001b[38;5;250m \u001b[39m\u001b[34merror\u001b[39m(\u001b[38;5;28mself\u001b[39m, arg):\n\u001b[32m-> \u001b[39m\u001b[32m1805\u001b[39m   \u001b[38;5;28;01mraise\u001b[39;00m TracerBoolConversionError(arg)\n",
      "\u001b[31mTracerBoolConversionError\u001b[39m: Attempted boolean conversion of traced array with shape bool[].\nThe error occurred while tracing the function f at C:\\Users\\gr8my\\AppData\\Local\\Temp\\ipykernel_34648\\2013549118.py:1 for jit. This concrete value was not available in Python because it depends on the value of the argument neg.\nSee https://docs.jax.dev/en/latest/errors.html#jax.errors.TracerBoolConversionError"
     ]
    }
   ],
   "source": [
    "@jit\n",
    "def f(x, neg):\n",
    "    return -x if neg else x\n",
    "\n",
    "f(1, True)"
   ]
  },
  {
   "cell_type": "markdown",
   "id": "e35d67cb",
   "metadata": {},
   "source": [
    "#### Workaround: Static Arguments"
   ]
  },
  {
   "cell_type": "code",
   "execution_count": 30,
   "id": "44c42597",
   "metadata": {},
   "outputs": [],
   "source": [
    "from functools import partial"
   ]
  },
  {
   "cell_type": "code",
   "execution_count": 31,
   "id": "0f4b379d",
   "metadata": {},
   "outputs": [
    {
     "name": "stdout",
     "output_type": "stream",
     "text": [
      "JitTracer<~int32[]>\n",
      "-1\n"
     ]
    }
   ],
   "source": [
    "@partial(jit, static_argnums=(1,))\n",
    "def f(x, neg):\n",
    "    print(x)\n",
    "    return -x if neg else x\n",
    "\n",
    "print(f(1, True))"
   ]
  },
  {
   "cell_type": "code",
   "execution_count": 33,
   "id": "089fe63e",
   "metadata": {},
   "outputs": [
    {
     "name": "stdout",
     "output_type": "stream",
     "text": [
      "-2\n"
     ]
    }
   ],
   "source": [
    "print(f(2, True))"
   ]
  },
  {
   "cell_type": "code",
   "execution_count": 34,
   "id": "af69c7ce",
   "metadata": {},
   "outputs": [
    {
     "name": "stdout",
     "output_type": "stream",
     "text": [
      "JitTracer<~int32[]>\n",
      "2\n"
     ]
    }
   ],
   "source": [
    "print(f(2, False))"
   ]
  },
  {
   "cell_type": "code",
   "execution_count": 35,
   "id": "23ee0ac5",
   "metadata": {},
   "outputs": [
    {
     "name": "stdout",
     "output_type": "stream",
     "text": [
      "3\n"
     ]
    }
   ],
   "source": [
    "print(f(3, False))"
   ]
  },
  {
   "cell_type": "markdown",
   "id": "c8cbcfa9",
   "metadata": {},
   "source": [
    "- By making an argument static, JIT will not use the abstract tracer object for that argument. It will use the actual value\n",
    "- So we are lowering the level of abstraction while tracing\n",
    "- Everytime the value of that static argument changes, the tracing will be triggered"
   ]
  },
  {
   "cell_type": "markdown",
   "id": "64da5f62",
   "metadata": {},
   "source": [
    "#### 3) Another Failure: Traced Object gets passed to a function which expects a concrete value"
   ]
  },
  {
   "cell_type": "code",
   "execution_count": 37,
   "id": "ec8f8675",
   "metadata": {},
   "outputs": [
    {
     "name": "stdout",
     "output_type": "stream",
     "text": [
      "JitTracer<float32[2,3]>\n",
      "(2, 3)\n",
      "JitTracer<int32[]>\n"
     ]
    },
    {
     "ename": "TypeError",
     "evalue": "Shapes must be 1D sequences of concrete values of integer type, got [JitTracer<int32[]>].\nIf using `jit`, try using `static_argnums` or applying `jit` to smaller subfunctions.\nThe error occurred while tracing the function f at C:\\Users\\gr8my\\AppData\\Local\\Temp\\ipykernel_34648\\3784783456.py:1 for jit. This value became a tracer due to JAX operations on these lines:\n\n  operation a:i32[] = reduce_prod[axes=(0,)] b\n    from line C:\\Users\\gr8my\\AppData\\Local\\Temp\\ipykernel_34648\\3784783456.py:6:21 (f)",
     "output_type": "error",
     "traceback": [
      "\u001b[31m---------------------------------------------------------------------------\u001b[39m",
      "\u001b[31mTypeError\u001b[39m                                 Traceback (most recent call last)",
      "\u001b[36mCell\u001b[39m\u001b[36m \u001b[39m\u001b[32mIn[37]\u001b[39m\u001b[32m, line 9\u001b[39m\n\u001b[32m      6\u001b[39m     \u001b[38;5;28;01mreturn\u001b[39;00m x.reshape(jnp.array(x.shape).prod())\n\u001b[32m      8\u001b[39m x = jnp.ones((\u001b[32m2\u001b[39m,\u001b[32m3\u001b[39m))\n\u001b[32m----> \u001b[39m\u001b[32m9\u001b[39m \u001b[43mf\u001b[49m\u001b[43m(\u001b[49m\u001b[43mx\u001b[49m\u001b[43m)\u001b[49m\n",
      "    \u001b[31m[... skipping hidden 13 frame]\u001b[39m\n",
      "\u001b[36mCell\u001b[39m\u001b[36m \u001b[39m\u001b[32mIn[37]\u001b[39m\u001b[32m, line 6\u001b[39m, in \u001b[36mf\u001b[39m\u001b[34m(x)\u001b[39m\n\u001b[32m      4\u001b[39m \u001b[38;5;28mprint\u001b[39m(x.shape)\n\u001b[32m      5\u001b[39m \u001b[38;5;28mprint\u001b[39m(jnp.array(x.shape).prod())\n\u001b[32m----> \u001b[39m\u001b[32m6\u001b[39m \u001b[38;5;28;01mreturn\u001b[39;00m \u001b[43mx\u001b[49m\u001b[43m.\u001b[49m\u001b[43mreshape\u001b[49m\u001b[43m(\u001b[49m\u001b[43mjnp\u001b[49m\u001b[43m.\u001b[49m\u001b[43marray\u001b[49m\u001b[43m(\u001b[49m\u001b[43mx\u001b[49m\u001b[43m.\u001b[49m\u001b[43mshape\u001b[49m\u001b[43m)\u001b[49m\u001b[43m.\u001b[49m\u001b[43mprod\u001b[49m\u001b[43m(\u001b[49m\u001b[43m)\u001b[49m\u001b[43m)\u001b[49m\n",
      "    \u001b[31m[... skipping hidden 2 frame]\u001b[39m\n",
      "\u001b[36mFile \u001b[39m\u001b[32mc:\\Users\\gr8my\\Desktop\\Projects\\JAX_Basics\\env\\Lib\\site-packages\\jax\\_src\\numpy\\array_methods.py:457\u001b[39m, in \u001b[36m_compute_newshape\u001b[39m\u001b[34m(arr, newshape)\u001b[39m\n\u001b[32m    455\u001b[39m \u001b[38;5;28;01mexcept\u001b[39;00m:\n\u001b[32m    456\u001b[39m   newshape = [newshape]\n\u001b[32m--> \u001b[39m\u001b[32m457\u001b[39m newshape = \u001b[43mcore\u001b[49m\u001b[43m.\u001b[49m\u001b[43mcanonicalize_shape\u001b[49m\u001b[43m(\u001b[49m\u001b[43mnewshape\u001b[49m\u001b[43m)\u001b[49m  \u001b[38;5;66;03m# type: ignore[arg-type]\u001b[39;00m\n\u001b[32m    458\u001b[39m neg1s = [i \u001b[38;5;28;01mfor\u001b[39;00m i, d \u001b[38;5;129;01min\u001b[39;00m \u001b[38;5;28menumerate\u001b[39m(newshape) \u001b[38;5;28;01mif\u001b[39;00m \u001b[38;5;28mtype\u001b[39m(d) \u001b[38;5;129;01mis\u001b[39;00m \u001b[38;5;28mint\u001b[39m \u001b[38;5;129;01mand\u001b[39;00m d == -\u001b[32m1\u001b[39m]\n\u001b[32m    459\u001b[39m \u001b[38;5;28;01mif\u001b[39;00m \u001b[38;5;28mlen\u001b[39m(neg1s) > \u001b[32m1\u001b[39m:\n",
      "\u001b[36mFile \u001b[39m\u001b[32mc:\\Users\\gr8my\\Desktop\\Projects\\JAX_Basics\\env\\Lib\\site-packages\\jax\\_src\\core.py:2017\u001b[39m, in \u001b[36mcanonicalize_shape\u001b[39m\u001b[34m(shape, context)\u001b[39m\n\u001b[32m   2015\u001b[39m \u001b[38;5;28;01mexcept\u001b[39;00m \u001b[38;5;167;01mTypeError\u001b[39;00m:\n\u001b[32m   2016\u001b[39m   \u001b[38;5;28;01mpass\u001b[39;00m\n\u001b[32m-> \u001b[39m\u001b[32m2017\u001b[39m \u001b[38;5;28;01mraise\u001b[39;00m _invalid_shape_error(shape, context)\n",
      "\u001b[31mTypeError\u001b[39m: Shapes must be 1D sequences of concrete values of integer type, got [JitTracer<int32[]>].\nIf using `jit`, try using `static_argnums` or applying `jit` to smaller subfunctions.\nThe error occurred while tracing the function f at C:\\Users\\gr8my\\AppData\\Local\\Temp\\ipykernel_34648\\3784783456.py:1 for jit. This value became a tracer due to JAX operations on these lines:\n\n  operation a:i32[] = reduce_prod[axes=(0,)] b\n    from line C:\\Users\\gr8my\\AppData\\Local\\Temp\\ipykernel_34648\\3784783456.py:6:21 (f)"
     ]
    }
   ],
   "source": [
    "@jit\n",
    "def f(x):\n",
    "    print(x)\n",
    "    print(x.shape)\n",
    "    print(jnp.array(x.shape).prod())\n",
    "    return x.reshape(jnp.array(x.shape).prod())\n",
    "\n",
    "x = jnp.ones((2,3))\n",
    "f(x)"
   ]
  },
  {
   "cell_type": "markdown",
   "id": "fb0985b0",
   "metadata": {},
   "source": [
    "#### Workaround: Use numpy instead of jax.numpy"
   ]
  },
  {
   "cell_type": "code",
   "execution_count": 38,
   "id": "fa992ad7",
   "metadata": {},
   "outputs": [
    {
     "data": {
      "text/plain": [
       "Array([1., 1., 1., 1., 1., 1.], dtype=float32)"
      ]
     },
     "execution_count": 38,
     "metadata": {},
     "output_type": "execute_result"
    }
   ],
   "source": [
    "@jit\n",
    "def f(x):\n",
    "    return x.reshape((np.prod(x.shape),))\n",
    "\n",
    "f(x)"
   ]
  },
  {
   "cell_type": "markdown",
   "id": "0cb4ff75",
   "metadata": {},
   "source": [
    "## Gotcha #1: Pure Functions <br>\n",
    "- JAX is designed to work on Pure Functions\n"
   ]
  },
  {
   "cell_type": "markdown",
   "id": "fd52fba2",
   "metadata": {},
   "source": [
    "#### What are pure functions? (Informal Defination): <br>\n",
    "- All the input data is passed through the function parameters and the results are output through the function results\n",
    "- A pure function will always return the same result if invoked with the same inputs"
   ]
  },
  {
   "cell_type": "markdown",
   "id": "53865af9",
   "metadata": {},
   "source": [
    "#### Example 1"
   ]
  },
  {
   "cell_type": "code",
   "execution_count": 41,
   "id": "5f876274",
   "metadata": {},
   "outputs": [],
   "source": [
    "def impure_print_side_effect(x):\n",
    "    # Violating #1\n",
    "    print(\"Executing Function\")\n",
    "\n",
    "    return x"
   ]
  },
  {
   "cell_type": "code",
   "execution_count": 42,
   "id": "6d0c1634",
   "metadata": {},
   "outputs": [
    {
     "name": "stdout",
     "output_type": "stream",
     "text": [
      "Executing Function\n",
      "First Call:  4.0\n"
     ]
    }
   ],
   "source": [
    "# Side Effects will appear during the first run\n",
    "print(\"First Call: \", jit(impure_print_side_effect)(4.))"
   ]
  },
  {
   "cell_type": "code",
   "execution_count": 43,
   "id": "9858eb6d",
   "metadata": {},
   "outputs": [
    {
     "name": "stdout",
     "output_type": "stream",
     "text": [
      "Second Call:  6.0\n"
     ]
    }
   ],
   "source": [
    "# Subsequent runs with parameters of same type and shape will not show these side effects\n",
    "# This is because JAX now invokes a cached, compiled version of the function\n",
    "print(\"Second Call: \", jit(impure_print_side_effect)(6.))"
   ]
  },
  {
   "cell_type": "code",
   "execution_count": 44,
   "id": "469c8bff",
   "metadata": {},
   "outputs": [
    {
     "name": "stdout",
     "output_type": "stream",
     "text": [
      "Executing Function\n",
      "Third Call:  [5.]\n"
     ]
    }
   ],
   "source": [
    "# JAX will rerun the trace when the type or shape changes\n",
    "print(\"Third Call: \", jit(impure_print_side_effect)(jnp.array([5.])))"
   ]
  },
  {
   "cell_type": "markdown",
   "id": "d488e0eb",
   "metadata": {},
   "source": [
    "#### Example 2"
   ]
  },
  {
   "cell_type": "code",
   "execution_count": 45,
   "id": "2ffc0675",
   "metadata": {},
   "outputs": [],
   "source": [
    "g = 0\n",
    "def impure_uses_global(x):\n",
    "    # Violates #1 and #2\n",
    "    return x+g"
   ]
  },
  {
   "cell_type": "code",
   "execution_count": 46,
   "id": "bf7d18bd",
   "metadata": {},
   "outputs": [
    {
     "name": "stdout",
     "output_type": "stream",
     "text": [
      "First Call:  4.0\n"
     ]
    }
   ],
   "source": [
    "# JAX will capture the value of the global variable during first run\n",
    "print(\"First Call: \", jit(impure_uses_global)(4.))"
   ]
  },
  {
   "cell_type": "code",
   "execution_count": 47,
   "id": "013f4b89",
   "metadata": {},
   "outputs": [
    {
     "name": "stdout",
     "output_type": "stream",
     "text": [
      "Second Call:  4.0\n"
     ]
    }
   ],
   "source": [
    "# Subsequent calls will silently use the cached value of global var\n",
    "g = 10\n",
    "print(\"Second Call: \", jit(impure_uses_global)(4.))"
   ]
  },
  {
   "cell_type": "code",
   "execution_count": 49,
   "id": "9a30d7ce",
   "metadata": {},
   "outputs": [
    {
     "name": "stdout",
     "output_type": "stream",
     "text": [
      "Third Call:  [15.]\n"
     ]
    }
   ],
   "source": [
    "# Only if JAX has to rerun the trace, the value will get updated\n",
    "print(\"Third Call: \", jit(impure_uses_global)(jnp.array([5.])))"
   ]
  },
  {
   "cell_type": "markdown",
   "id": "ea0fc6f2",
   "metadata": {},
   "source": [
    "#### Example 3: Haiku/Flax are built upon this idea"
   ]
  },
  {
   "cell_type": "code",
   "execution_count": null,
   "id": "bc913283",
   "metadata": {},
   "outputs": [],
   "source": [
    "def pure_uses_internal_state(x):\n",
    "    state = dict(even=0, odd=0)\n",
    "    for i in range(10):\n",
    "        state[\"even\" if i%2==0 else \"odd\"] += x\n",
    "    return state['even']+state['odd']\n",
    "\n",
    "# Altho this a loop,\n",
    "# Nothing is being violated"
   ]
  },
  {
   "cell_type": "code",
   "execution_count": 51,
   "id": "68bdc136",
   "metadata": {},
   "outputs": [
    {
     "name": "stdout",
     "output_type": "stream",
     "text": [
      "50.0\n"
     ]
    }
   ],
   "source": [
    "print(jit(pure_uses_internal_state)(5.))"
   ]
  },
  {
   "cell_type": "code",
   "execution_count": 53,
   "id": "7ff7ff25",
   "metadata": {},
   "outputs": [
    {
     "name": "stdout",
     "output_type": "stream",
     "text": [
      "20.0\n"
     ]
    }
   ],
   "source": [
    "print(jit(pure_uses_internal_state)(2.))"
   ]
  },
  {
   "cell_type": "markdown",
   "id": "a25d8ae1",
   "metadata": {},
   "source": [
    "#### Example 4: No Iterators! Iterators are stateful"
   ]
  },
  {
   "cell_type": "code",
   "execution_count": 55,
   "id": "e6292090",
   "metadata": {},
   "outputs": [
    {
     "name": "stdout",
     "output_type": "stream",
     "text": [
      "45\n",
      "0\n"
     ]
    }
   ],
   "source": [
    "# Using lax.for_iloop\n",
    "# Similar for lax.scan, lax.cond, etc\n",
    "\n",
    "# fori_loop(lower, upper, body_func, init_val)\n",
    "\n",
    "# Correct usage\n",
    "array = jnp.arange(10)\n",
    "print(lax.fori_loop(0, 10, lambda i,x: x+array[i], 0))\n",
    "# Expected value 45\n",
    "\n",
    "# Wrong usage\n",
    "iterator = iter(range(10))\n",
    "print(lax.fori_loop(0, 10, lambda i,x: x+next(iterator), 0))\n",
    "# Unexpected value 0"
   ]
  },
  {
   "cell_type": "markdown",
   "id": "b53bf501",
   "metadata": {},
   "source": [
    "## Gotcha #2: In-Place Updates"
   ]
  },
  {
   "cell_type": "markdown",
   "id": "c2a4d2a2",
   "metadata": {},
   "source": [
    "- We have seen this already\n",
    "- You cannot modify the arrays in-place\n",
    "- You have to use the .at().set() syntax"
   ]
  },
  {
   "cell_type": "code",
   "execution_count": 4,
   "id": "4b644b12",
   "metadata": {},
   "outputs": [
    {
     "name": "stdout",
     "output_type": "stream",
     "text": [
      "Original Array is unchanged: \n",
      "[[0. 0. 0.]\n",
      " [0. 0. 0.]\n",
      " [0. 0. 0.]]\n",
      "Updated Array: \n",
      "[[0. 0. 0.]\n",
      " [1. 1. 1.]\n",
      " [0. 0. 0.]]\n"
     ]
    }
   ],
   "source": [
    "jax_array = jnp.zeros((3,3), dtype=jnp.float32)\n",
    "\n",
    "updated_arr = jax_array.at[1,:].set(1.0)\n",
    "\n",
    "print(f\"Original Array is unchanged: \\n{jax_array}\")\n",
    "print(f\"Updated Array: \\n{updated_arr}\")"
   ]
  },
  {
   "cell_type": "markdown",
   "id": "95bc49d9",
   "metadata": {},
   "source": [
    "- Of course, creating a new array always is wasteful; but\n",
    "- Inside JIT Compiled Code, if the input value x of x.at[idx].set(y) is not reused, the compiler will optimize the array update to occur in-place!"
   ]
  },
  {
   "cell_type": "code",
   "execution_count": 6,
   "id": "5113c1bc",
   "metadata": {},
   "outputs": [
    {
     "name": "stdout",
     "output_type": "stream",
     "text": [
      "Original Array\n",
      "[[1. 1. 1. 1. 1. 1.]\n",
      " [1. 1. 1. 1. 1. 1.]\n",
      " [1. 1. 1. 1. 1. 1.]\n",
      " [1. 1. 1. 1. 1. 1.]\n",
      " [1. 1. 1. 1. 1. 1.]]\n",
      "New array post-addition\n",
      "[[1. 1. 1. 8. 8. 8.]\n",
      " [1. 1. 1. 1. 1. 1.]\n",
      " [1. 1. 1. 8. 8. 8.]\n",
      " [1. 1. 1. 1. 1. 1.]\n",
      " [1. 1. 1. 8. 8. 8.]]\n"
     ]
    }
   ],
   "source": [
    "# The expressiveness of NumPy is still present!\n",
    "print(\"Original Array\")\n",
    "jax_arr = jnp.ones((5,6))\n",
    "print(jax_arr)\n",
    "\n",
    "print(\"New array post-addition\")\n",
    "new_jax_arr = jax_arr.at[::2,3:].add(7.0)\n",
    "print(new_jax_arr)"
   ]
  },
  {
   "cell_type": "markdown",
   "id": "43fb7534",
   "metadata": {},
   "source": [
    "## Gotcha #3: Our-of-Bounds Indexing"
   ]
  },
  {
   "cell_type": "markdown",
   "id": "794404af",
   "metadata": {},
   "source": [
    "- Due to JAX' accelerator agnostic approach, JAX needs a make a non-error behavior for out of bounds indexing\n",
    "- Similar to how invalid fp arithmetic results in NaNs and not an exception"
   ]
  },
  {
   "cell_type": "code",
   "execution_count": 8,
   "id": "d1796aa5",
   "metadata": {},
   "outputs": [
    {
     "name": "stdout",
     "output_type": "stream",
     "text": [
      "Exception: index 11 is out of bounds for axis 0 with size 10\n"
     ]
    }
   ],
   "source": [
    "# NumPy Behavior\n",
    "try:\n",
    "    np.arange(10)[11]\n",
    "except Exception as e:\n",
    "    print(\"Exception: {}\".format(e))"
   ]
  },
  {
   "cell_type": "code",
   "execution_count": 13,
   "id": "3e4eb6de",
   "metadata": {},
   "outputs": [
    {
     "name": "stdout",
     "output_type": "stream",
     "text": [
      "Original JAX Array\n",
      "[0 1 2 3 4 5 6 7 8 9]\n",
      "\n",
      "Add a number out of bounds\n",
      "[0 1 2 3 4 5 6 7 8 9]\n",
      "\n",
      "Retrieve a number from out of bounds\n",
      "9\n"
     ]
    }
   ],
   "source": [
    "# JAX Behavior\n",
    "# 1) Updates at out-of-bound indices are skipped\n",
    "# 2) Retrievals result in index being clamped to last index\n",
    "# In general, there are currently some bugs, so conside the behavior as undefined!\n",
    "\n",
    "print(\"Original JAX Array\")\n",
    "print(jnp.arange(10))\n",
    "\n",
    "# Example of 1)\n",
    "print(\"\\nAdd a number out of bounds\")\n",
    "print(jnp.arange(10).at[11].add(23))\n",
    "\n",
    "# Example of 2)\n",
    "print(\"\\nRetrieve a number from out of bounds\")\n",
    "print(jnp.arange(10)[11])"
   ]
  },
  {
   "cell_type": "markdown",
   "id": "e3f0cdbf",
   "metadata": {},
   "source": [
    "## Gotcha #4: Non-array Inputs"
   ]
  },
  {
   "cell_type": "markdown",
   "id": "d417b319",
   "metadata": {},
   "source": [
    "- This is added by design\n",
    "- To improve performance"
   ]
  },
  {
   "cell_type": "code",
   "execution_count": 14,
   "id": "05b98758",
   "metadata": {},
   "outputs": [
    {
     "name": "stdout",
     "output_type": "stream",
     "text": [
      "6\n"
     ]
    }
   ],
   "source": [
    "# NumPy\n",
    "print(np.sum([1,2,3]))"
   ]
  },
  {
   "cell_type": "code",
   "execution_count": 16,
   "id": "976cafcd",
   "metadata": {},
   "outputs": [
    {
     "name": "stdout",
     "output_type": "stream",
     "text": [
      "Exception- TypeError:sum requires ndarray or scalar arguments, got <class 'list'> at position 0.\n"
     ]
    }
   ],
   "source": [
    "# JAX\n",
    "\n",
    "try:\n",
    "    jnp.sum([1,2,3])\n",
    "except Exception as e:\n",
    "    print(f\"Exception- TypeError:{e}\")"
   ]
  },
  {
   "cell_type": "markdown",
   "id": "aece8aaa",
   "metadata": {},
   "source": [
    "But why?\n",
    "<br>\n",
    "See Jaxpr "
   ]
  },
  {
   "cell_type": "code",
   "execution_count": 19,
   "id": "804d29f8",
   "metadata": {},
   "outputs": [
    {
     "name": "stdout",
     "output_type": "stream",
     "text": [
      "{ \u001b[34;1mlambda \u001b[39;22m; a\u001b[35m:i32[]\u001b[39m b\u001b[35m:i32[]\u001b[39m c\u001b[35m:i32[]\u001b[39m d\u001b[35m:i32[]\u001b[39m e\u001b[35m:i32[]\u001b[39m f\u001b[35m:i32[]\u001b[39m g\u001b[35m:i32[]\u001b[39m h\u001b[35m:i32[]\u001b[39m i\u001b[35m:i32[]\u001b[39m\n",
      "    j\u001b[35m:i32[]\u001b[39m. \u001b[34;1mlet\n",
      "    \u001b[39;22mk\u001b[35m:i32[]\u001b[39m = convert_element_type[new_dtype=int32 weak_type=False] a\n",
      "    l\u001b[35m:i32[1]\u001b[39m = broadcast_in_dim[\n",
      "      broadcast_dimensions=()\n",
      "      shape=(1,)\n",
      "      sharding=None\n",
      "    ] k\n",
      "    m\u001b[35m:i32[]\u001b[39m = convert_element_type[new_dtype=int32 weak_type=False] b\n",
      "    n\u001b[35m:i32[1]\u001b[39m = broadcast_in_dim[\n",
      "      broadcast_dimensions=()\n",
      "      shape=(1,)\n",
      "      sharding=None\n",
      "    ] m\n",
      "    o\u001b[35m:i32[]\u001b[39m = convert_element_type[new_dtype=int32 weak_type=False] c\n",
      "    p\u001b[35m:i32[1]\u001b[39m = broadcast_in_dim[\n",
      "      broadcast_dimensions=()\n",
      "      shape=(1,)\n",
      "      sharding=None\n",
      "    ] o\n",
      "    q\u001b[35m:i32[]\u001b[39m = convert_element_type[new_dtype=int32 weak_type=False] d\n",
      "    r\u001b[35m:i32[1]\u001b[39m = broadcast_in_dim[\n",
      "      broadcast_dimensions=()\n",
      "      shape=(1,)\n",
      "      sharding=None\n",
      "    ] q\n",
      "    s\u001b[35m:i32[]\u001b[39m = convert_element_type[new_dtype=int32 weak_type=False] e\n",
      "    t\u001b[35m:i32[1]\u001b[39m = broadcast_in_dim[\n",
      "      broadcast_dimensions=()\n",
      "      shape=(1,)\n",
      "      sharding=None\n",
      "    ] s\n",
      "    u\u001b[35m:i32[]\u001b[39m = convert_element_type[new_dtype=int32 weak_type=False] f\n",
      "    v\u001b[35m:i32[1]\u001b[39m = broadcast_in_dim[\n",
      "      broadcast_dimensions=()\n",
      "      shape=(1,)\n",
      "      sharding=None\n",
      "    ] u\n",
      "    w\u001b[35m:i32[]\u001b[39m = convert_element_type[new_dtype=int32 weak_type=False] g\n",
      "    x\u001b[35m:i32[1]\u001b[39m = broadcast_in_dim[\n",
      "      broadcast_dimensions=()\n",
      "      shape=(1,)\n",
      "      sharding=None\n",
      "    ] w\n",
      "    y\u001b[35m:i32[]\u001b[39m = convert_element_type[new_dtype=int32 weak_type=False] h\n",
      "    z\u001b[35m:i32[1]\u001b[39m = broadcast_in_dim[\n",
      "      broadcast_dimensions=()\n",
      "      shape=(1,)\n",
      "      sharding=None\n",
      "    ] y\n",
      "    ba\u001b[35m:i32[]\u001b[39m = convert_element_type[new_dtype=int32 weak_type=False] i\n",
      "    bb\u001b[35m:i32[1]\u001b[39m = broadcast_in_dim[\n",
      "      broadcast_dimensions=()\n",
      "      shape=(1,)\n",
      "      sharding=None\n",
      "    ] ba\n",
      "    bc\u001b[35m:i32[]\u001b[39m = convert_element_type[new_dtype=int32 weak_type=False] j\n",
      "    bd\u001b[35m:i32[1]\u001b[39m = broadcast_in_dim[\n",
      "      broadcast_dimensions=()\n",
      "      shape=(1,)\n",
      "      sharding=None\n",
      "    ] bc\n",
      "    be\u001b[35m:i32[10]\u001b[39m = concatenate[dimension=0] l n p r t v x z bb bd\n",
      "    bf\u001b[35m:i32[]\u001b[39m = reduce_sum[axes=(0,) out_sharding=None] be\n",
      "  \u001b[34;1min \u001b[39;22m(bf,) }\n"
     ]
    }
   ],
   "source": [
    "def permissive_sum(x):\n",
    "    # First convert to JAX Array\n",
    "    return jnp.sum(jnp.array(x))\n",
    "\n",
    "x = list(range(10))\n",
    "print(jax.make_jaxpr(permissive_sum)(x))"
   ]
  },
  {
   "cell_type": "markdown",
   "id": "eabfca72",
   "metadata": {},
   "source": [
    "- We see that the sum is calculated by sending it element by element"
   ]
  },
  {
   "cell_type": "markdown",
   "id": "11a8386c",
   "metadata": {},
   "source": [
    "## Gotcha #5: Random Numbers"
   ]
  },
  {
   "cell_type": "markdown",
   "id": "7fdb9051",
   "metadata": {},
   "source": [
    "- NumPy PRNG is stateful"
   ]
  },
  {
   "cell_type": "code",
   "execution_count": 25,
   "id": "a973723f",
   "metadata": {},
   "outputs": [
    {
     "name": "stdout",
     "output_type": "stream",
     "text": [
      "0.6027633760716439\n",
      "0.5448831829968969\n"
     ]
    }
   ],
   "source": [
    "print(np.random.random())\n",
    "# This will advance the state of the PRNG\n",
    "print(np.random.random())\n",
    "# This will too"
   ]
  },
  {
   "cell_type": "code",
   "execution_count": 21,
   "id": "5504e114",
   "metadata": {},
   "outputs": [],
   "source": [
    "seed = 0\n",
    "np.random.seed(seed)"
   ]
  },
  {
   "cell_type": "code",
   "execution_count": 22,
   "id": "95202f65",
   "metadata": {},
   "outputs": [
    {
     "name": "stdout",
     "output_type": "stream",
     "text": [
      "(624, 0, 0.0)\n"
     ]
    }
   ],
   "source": [
    "rng_state = np.random.get_state()\n",
    "print(rng_state[2:])"
   ]
  },
  {
   "cell_type": "code",
   "execution_count": 23,
   "id": "b2a05ab0",
   "metadata": {},
   "outputs": [
    {
     "name": "stdout",
     "output_type": "stream",
     "text": [
      "(2, 0, 0.0)\n"
     ]
    }
   ],
   "source": [
    "_ = np.random.uniform()\n",
    "rng_state = np.random.get_state()\n",
    "print(rng_state[2:])"
   ]
  },
  {
   "cell_type": "code",
   "execution_count": 24,
   "id": "c20aa1fd",
   "metadata": {},
   "outputs": [
    {
     "name": "stdout",
     "output_type": "stream",
     "text": [
      "(4, 0, 0.0)\n"
     ]
    }
   ],
   "source": [
    "_ = np.random.uniform()\n",
    "rng_state = np.random.get_state()\n",
    "print(rng_state[2:])"
   ]
  },
  {
   "cell_type": "markdown",
   "id": "4880f797",
   "metadata": {},
   "source": [
    "- NumPy uses Mersenne Twister PRNG\n",
    "- It is known to have a few problems"
   ]
  },
  {
   "cell_type": "markdown",
   "id": "3c39542c",
   "metadata": {},
   "source": [
    "- Meanwhile, JAX's random functions cannot modify PRNG's state"
   ]
  },
  {
   "cell_type": "code",
   "execution_count": 32,
   "id": "b48906ca",
   "metadata": {},
   "outputs": [
    {
     "name": "stdout",
     "output_type": "stream",
     "text": [
      "[0 0]\n"
     ]
    }
   ],
   "source": [
    "key = jax.random.PRNGKey(seed)\n",
    "print(key)\n",
    "# Key defines the state (Key == State)\n",
    "# 2 unsigned int32s"
   ]
  },
  {
   "cell_type": "code",
   "execution_count": 33,
   "id": "f842b879",
   "metadata": {},
   "outputs": [
    {
     "name": "stdout",
     "output_type": "stream",
     "text": [
      "[1.6226422]\n",
      "[0 0]\n",
      "[1.6226422]\n",
      "[0 0]\n"
     ]
    }
   ],
   "source": [
    "# Let's again sample calling the same function twice\n",
    "\n",
    "print(jax.random.normal(key, shape=(1,)))\n",
    "print(key)  # Verify that state hasn't changed\n",
    "\n",
    "print(jax.random.normal(key, shape=(1,)))\n",
    "print(key)"
   ]
  },
  {
   "cell_type": "markdown",
   "id": "ed9bb0ad",
   "metadata": {},
   "source": [
    "- Ooops, Same Result?"
   ]
  },
  {
   "cell_type": "markdown",
   "id": "6c5e23e7",
   "metadata": {},
   "source": [
    "- Soln: Split everytime you need pseudo-random number"
   ]
  },
  {
   "cell_type": "code",
   "execution_count": 34,
   "id": "24e4aa3d",
   "metadata": {},
   "outputs": [
    {
     "name": "stdout",
     "output_type": "stream",
     "text": [
      "Old Key:  [0 0]\n",
      "     \\--SPLIT---> New Key:        [1797259609 2579123966]\n",
      "             \\--> New Subkey:     [ 928981903 3453687069]  ---> Normal:  [-2.4424558]\n"
     ]
    }
   ],
   "source": [
    "print(\"Old Key: \", key)\n",
    "key, subkey = jax.random.split(key)\n",
    "normal_pseudorandom = jax.random.normal(subkey, shape=(1,))\n",
    "print(\"     \\\\--SPLIT---> New Key:       \",key)\n",
    "print(\"             \\\\--> New Subkey:    \",subkey,\" ---> Normal: \",normal_pseudorandom)"
   ]
  },
  {
   "cell_type": "markdown",
   "id": "aea6d998",
   "metadata": {},
   "source": [
    "- Note 1: You can also split into more subkeys, not just 1\n",
    "- Note 2: Key, subkey -> no difference, just convention"
   ]
  },
  {
   "cell_type": "markdown",
   "id": "2cfa5618",
   "metadata": {},
   "source": [
    "## Gotcha #6: Control Flow"
   ]
  },
  {
   "cell_type": "code",
   "execution_count": 36,
   "id": "dcb4a1d8",
   "metadata": {},
   "outputs": [
    {
     "data": {
      "image/png": "[encoded data removed]",
      "text/plain": [
       "<Figure size 640x480 with 1 Axes>"
      ]
     },
     "metadata": {},
     "output_type": "display_data"
    }
   ],
   "source": [
    "# Python control flow + grad() --> Everything is ok\n",
    "\n",
    "def f(x):\n",
    "    if x<3:\n",
    "        return 3.*x**2\n",
    "    else:\n",
    "        return -4*x\n",
    "    \n",
    "x = np.linspace(-10, 10, 1000)\n",
    "y = [f(el) for el in x]\n",
    "plt.plot(x,y)\n",
    "plt.show()"
   ]
  },
  {
   "cell_type": "code",
   "execution_count": 37,
   "id": "bb94b733",
   "metadata": {},
   "outputs": [
    {
     "name": "stdout",
     "output_type": "stream",
     "text": [
      "12.0\n",
      "-4.0\n"
     ]
    }
   ],
   "source": [
    "print(grad(f)(2.))      # Works ok!\n",
    "print(grad(f)(4.))      # Works ok!"
   ]
  },
  {
   "cell_type": "code",
   "execution_count": 38,
   "id": "0f27695f",
   "metadata": {},
   "outputs": [
    {
     "name": "stdout",
     "output_type": "stream",
     "text": [
      "{ \u001b[34;1mlambda \u001b[39;22m; . \u001b[34;1mlet\n",
      "    \u001b[39;22ma\u001b[35m:f32[]\u001b[39m = jit[name=f jaxpr={ \u001b[34;1mlambda \u001b[39;22m; . \u001b[34;1mlet\u001b[39;22m  \u001b[34;1min \u001b[39;22m(12.0:f32[],) }] \n",
      "  \u001b[34;1min \u001b[39;22m(a,) }\n",
      "12.0\n"
     ]
    }
   ],
   "source": [
    "# Python Control Flow + jit() --> Problems!\n",
    "\n",
    "# The trade-off with higher levels of abstraction is we gain more general view\n",
    "# of Python code (and thus save on recompilations),\n",
    "# But we also require more constraints on the Python code to complete the trace\n",
    "\n",
    "# Example 1: Conditioning on Value (Same function as above)\n",
    "# Solution: (Recall, we have seen this)\n",
    "\n",
    "f_jit = jit(f, static_argnums=(0,))\n",
    "x=2.\n",
    "\n",
    "print(jax.make_jaxpr(f_jit, static_argnums=(0,))(x))\n",
    "print(f_jit(x))"
   ]
  },
  {
   "cell_type": "code",
   "execution_count": 39,
   "id": "a0f6052f",
   "metadata": {},
   "outputs": [],
   "source": [
    "# Another Example - Range depends on value\n",
    "\n",
    "def f(x, n):\n",
    "    y = 0\n",
    "    for i in range(n):\n",
    "        y = y + x[i]\n",
    "    return y\n",
    "\n",
    "f_jit = jit(f, static_argnums=(1,))\n",
    "x = (jnp.array([2.,3.,4.]), 15)"
   ]
  },
  {
   "cell_type": "code",
   "execution_count": 41,
   "id": "3bb79ef0",
   "metadata": {},
   "outputs": [
    {
     "name": "stdout",
     "output_type": "stream",
     "text": [
      "{ \u001b[34;1mlambda \u001b[39;22m; a\u001b[35m:f32[3]\u001b[39m. \u001b[34;1mlet\n",
      "    \u001b[39;22mb\u001b[35m:f32[]\u001b[39m = jit[\n",
      "      name=f\n",
      "      jaxpr={ \u001b[34;1mlambda \u001b[39;22m; a\u001b[35m:f32[3]\u001b[39m. \u001b[34;1mlet\n",
      "          \u001b[39;22mc\u001b[35m:f32[1]\u001b[39m = slice[limit_indices=(1,) start_indices=(0,) strides=None] a\n",
      "          d\u001b[35m:f32[]\u001b[39m = squeeze[dimensions=(0,)] c\n",
      "          e\u001b[35m:f32[]\u001b[39m = add 0.0:f32[] d\n",
      "          f\u001b[35m:f32[1]\u001b[39m = slice[limit_indices=(2,) start_indices=(1,) strides=None] a\n",
      "          g\u001b[35m:f32[]\u001b[39m = squeeze[dimensions=(0,)] f\n",
      "          h\u001b[35m:f32[]\u001b[39m = add e g\n",
      "          i\u001b[35m:f32[1]\u001b[39m = slice[limit_indices=(3,) start_indices=(2,) strides=None] a\n",
      "          j\u001b[35m:f32[]\u001b[39m = squeeze[dimensions=(0,)] i\n",
      "          k\u001b[35m:f32[]\u001b[39m = add h j\n",
      "          l\u001b[35m:i32[1]\u001b[39m = broadcast_in_dim[\n",
      "            broadcast_dimensions=()\n",
      "            shape=(1,)\n",
      "            sharding=None\n",
      "          ] 3:i32[]\n",
      "          m\u001b[35m:f32[]\u001b[39m = gather[\n",
      "            dimension_numbers=GatherDimensionNumbers(offset_dims=(), collapsed_slice_dims=(0,), start_index_map=(0,), operand_batching_dims=(), start_indices_batching_dims=())\n",
      "            fill_value=None\n",
      "            indices_are_sorted=True\n",
      "            mode=GatherScatterMode.PROMISE_IN_BOUNDS\n",
      "            slice_sizes=(1,)\n",
      "            unique_indices=True\n",
      "          ] a l\n",
      "          n\u001b[35m:f32[]\u001b[39m = add k m\n",
      "          o\u001b[35m:i32[1]\u001b[39m = broadcast_in_dim[\n",
      "            broadcast_dimensions=()\n",
      "            shape=(1,)\n",
      "            sharding=None\n",
      "          ] 4:i32[]\n",
      "          p\u001b[35m:f32[]\u001b[39m = gather[\n",
      "            dimension_numbers=GatherDimensionNumbers(offset_dims=(), collapsed_slice_dims=(0,), start_index_map=(0,), operand_batching_dims=(), start_indices_batching_dims=())\n",
      "            fill_value=None\n",
      "            indices_are_sorted=True\n",
      "            mode=GatherScatterMode.PROMISE_IN_BOUNDS\n",
      "            slice_sizes=(1,)\n",
      "            unique_indices=True\n",
      "          ] a o\n",
      "          q\u001b[35m:f32[]\u001b[39m = add n p\n",
      "          r\u001b[35m:i32[1]\u001b[39m = broadcast_in_dim[\n",
      "            broadcast_dimensions=()\n",
      "            shape=(1,)\n",
      "            sharding=None\n",
      "          ] 5:i32[]\n",
      "          s\u001b[35m:f32[]\u001b[39m = gather[\n",
      "            dimension_numbers=GatherDimensionNumbers(offset_dims=(), collapsed_slice_dims=(0,), start_index_map=(0,), operand_batching_dims=(), start_indices_batching_dims=())\n",
      "            fill_value=None\n",
      "            indices_are_sorted=True\n",
      "            mode=GatherScatterMode.PROMISE_IN_BOUNDS\n",
      "            slice_sizes=(1,)\n",
      "            unique_indices=True\n",
      "          ] a r\n",
      "          t\u001b[35m:f32[]\u001b[39m = add q s\n",
      "          u\u001b[35m:i32[1]\u001b[39m = broadcast_in_dim[\n",
      "            broadcast_dimensions=()\n",
      "            shape=(1,)\n",
      "            sharding=None\n",
      "          ] 6:i32[]\n",
      "          v\u001b[35m:f32[]\u001b[39m = gather[\n",
      "            dimension_numbers=GatherDimensionNumbers(offset_dims=(), collapsed_slice_dims=(0,), start_index_map=(0,), operand_batching_dims=(), start_indices_batching_dims=())\n",
      "            fill_value=None\n",
      "            indices_are_sorted=True\n",
      "            mode=GatherScatterMode.PROMISE_IN_BOUNDS\n",
      "            slice_sizes=(1,)\n",
      "            unique_indices=True\n",
      "          ] a u\n",
      "          w\u001b[35m:f32[]\u001b[39m = add t v\n",
      "          x\u001b[35m:i32[1]\u001b[39m = broadcast_in_dim[\n",
      "            broadcast_dimensions=()\n",
      "            shape=(1,)\n",
      "            sharding=None\n",
      "          ] 7:i32[]\n",
      "          y\u001b[35m:f32[]\u001b[39m = gather[\n",
      "            dimension_numbers=GatherDimensionNumbers(offset_dims=(), collapsed_slice_dims=(0,), start_index_map=(0,), operand_batching_dims=(), start_indices_batching_dims=())\n",
      "            fill_value=None\n",
      "            indices_are_sorted=True\n",
      "            mode=GatherScatterMode.PROMISE_IN_BOUNDS\n",
      "            slice_sizes=(1,)\n",
      "            unique_indices=True\n",
      "          ] a x\n",
      "          z\u001b[35m:f32[]\u001b[39m = add w y\n",
      "          ba\u001b[35m:i32[1]\u001b[39m = broadcast_in_dim[\n",
      "            broadcast_dimensions=()\n",
      "            shape=(1,)\n",
      "            sharding=None\n",
      "          ] 8:i32[]\n",
      "          bb\u001b[35m:f32[]\u001b[39m = gather[\n",
      "            dimension_numbers=GatherDimensionNumbers(offset_dims=(), collapsed_slice_dims=(0,), start_index_map=(0,), operand_batching_dims=(), start_indices_batching_dims=())\n",
      "            fill_value=None\n",
      "            indices_are_sorted=True\n",
      "            mode=GatherScatterMode.PROMISE_IN_BOUNDS\n",
      "            slice_sizes=(1,)\n",
      "            unique_indices=True\n",
      "          ] a ba\n",
      "          bc\u001b[35m:f32[]\u001b[39m = add z bb\n",
      "          bd\u001b[35m:i32[1]\u001b[39m = broadcast_in_dim[\n",
      "            broadcast_dimensions=()\n",
      "            shape=(1,)\n",
      "            sharding=None\n",
      "          ] 9:i32[]\n",
      "          be\u001b[35m:f32[]\u001b[39m = gather[\n",
      "            dimension_numbers=GatherDimensionNumbers(offset_dims=(), collapsed_slice_dims=(0,), start_index_map=(0,), operand_batching_dims=(), start_indices_batching_dims=())\n",
      "            fill_value=None\n",
      "            indices_are_sorted=True\n",
      "            mode=GatherScatterMode.PROMISE_IN_BOUNDS\n",
      "            slice_sizes=(1,)\n",
      "            unique_indices=True\n",
      "          ] a bd\n",
      "          bf\u001b[35m:f32[]\u001b[39m = add bc be\n",
      "          bg\u001b[35m:i32[1]\u001b[39m = broadcast_in_dim[\n",
      "            broadcast_dimensions=()\n",
      "            shape=(1,)\n",
      "            sharding=None\n",
      "          ] 10:i32[]\n",
      "          bh\u001b[35m:f32[]\u001b[39m = gather[\n",
      "            dimension_numbers=GatherDimensionNumbers(offset_dims=(), collapsed_slice_dims=(0,), start_index_map=(0,), operand_batching_dims=(), start_indices_batching_dims=())\n",
      "            fill_value=None\n",
      "            indices_are_sorted=True\n",
      "            mode=GatherScatterMode.PROMISE_IN_BOUNDS\n",
      "            slice_sizes=(1,)\n",
      "            unique_indices=True\n",
      "          ] a bg\n",
      "          bi\u001b[35m:f32[]\u001b[39m = add bf bh\n",
      "          bj\u001b[35m:i32[1]\u001b[39m = broadcast_in_dim[\n",
      "            broadcast_dimensions=()\n",
      "            shape=(1,)\n",
      "            sharding=None\n",
      "          ] 11:i32[]\n",
      "          bk\u001b[35m:f32[]\u001b[39m = gather[\n",
      "            dimension_numbers=GatherDimensionNumbers(offset_dims=(), collapsed_slice_dims=(0,), start_index_map=(0,), operand_batching_dims=(), start_indices_batching_dims=())\n",
      "            fill_value=None\n",
      "            indices_are_sorted=True\n",
      "            mode=GatherScatterMode.PROMISE_IN_BOUNDS\n",
      "            slice_sizes=(1,)\n",
      "            unique_indices=True\n",
      "          ] a bj\n",
      "          bl\u001b[35m:f32[]\u001b[39m = add bi bk\n",
      "          bm\u001b[35m:i32[1]\u001b[39m = broadcast_in_dim[\n",
      "            broadcast_dimensions=()\n",
      "            shape=(1,)\n",
      "            sharding=None\n",
      "          ] 12:i32[]\n",
      "          bn\u001b[35m:f32[]\u001b[39m = gather[\n",
      "            dimension_numbers=GatherDimensionNumbers(offset_dims=(), collapsed_slice_dims=(0,), start_index_map=(0,), operand_batching_dims=(), start_indices_batching_dims=())\n",
      "            fill_value=None\n",
      "            indices_are_sorted=True\n",
      "            mode=GatherScatterMode.PROMISE_IN_BOUNDS\n",
      "            slice_sizes=(1,)\n",
      "            unique_indices=True\n",
      "          ] a bm\n",
      "          bo\u001b[35m:f32[]\u001b[39m = add bl bn\n",
      "          bp\u001b[35m:i32[1]\u001b[39m = broadcast_in_dim[\n",
      "            broadcast_dimensions=()\n",
      "            shape=(1,)\n",
      "            sharding=None\n",
      "          ] 13:i32[]\n",
      "          bq\u001b[35m:f32[]\u001b[39m = gather[\n",
      "            dimension_numbers=GatherDimensionNumbers(offset_dims=(), collapsed_slice_dims=(0,), start_index_map=(0,), operand_batching_dims=(), start_indices_batching_dims=())\n",
      "            fill_value=None\n",
      "            indices_are_sorted=True\n",
      "            mode=GatherScatterMode.PROMISE_IN_BOUNDS\n",
      "            slice_sizes=(1,)\n",
      "            unique_indices=True\n",
      "          ] a bp\n",
      "          br\u001b[35m:f32[]\u001b[39m = add bo bq\n",
      "          bs\u001b[35m:i32[1]\u001b[39m = broadcast_in_dim[\n",
      "            broadcast_dimensions=()\n",
      "            shape=(1,)\n",
      "            sharding=None\n",
      "          ] 14:i32[]\n",
      "          bt\u001b[35m:f32[]\u001b[39m = gather[\n",
      "            dimension_numbers=GatherDimensionNumbers(offset_dims=(), collapsed_slice_dims=(0,), start_index_map=(0,), operand_batching_dims=(), start_indices_batching_dims=())\n",
      "            fill_value=None\n",
      "            indices_are_sorted=True\n",
      "            mode=GatherScatterMode.PROMISE_IN_BOUNDS\n",
      "            slice_sizes=(1,)\n",
      "            unique_indices=True\n",
      "          ] a bs\n",
      "          b\u001b[35m:f32[]\u001b[39m = add br bt\n",
      "        \u001b[34;1min \u001b[39;22m(b,) }\n",
      "    ] a\n",
      "  \u001b[34;1min \u001b[39;22m(b,) }\n"
     ]
    }
   ],
   "source": [
    "# Let's see how loop gets unrolled \n",
    "print(jax.make_jaxpr(f_jit, static_argnums=(1,))(*x))"
   ]
  },
  {
   "cell_type": "code",
   "execution_count": 42,
   "id": "413e3128",
   "metadata": {},
   "outputs": [
    {
     "name": "stdout",
     "output_type": "stream",
     "text": [
      "57.0\n"
     ]
    }
   ],
   "source": [
    "print(f_jit(*x))"
   ]
  },
  {
   "cell_type": "markdown",
   "id": "b5058d19",
   "metadata": {},
   "source": [
    "##### Note: There is a catch - Static Arguments should not change a lot"
   ]
  },
  {
   "cell_type": "code",
   "execution_count": 43,
   "id": "50e00fcc",
   "metadata": {},
   "outputs": [
    {
     "name": "stdout",
     "output_type": "stream",
     "text": [
      "{ \u001b[34;1mlambda \u001b[39;22m; a\u001b[35m:f32[3]\u001b[39m b\u001b[35m:i32[]\u001b[39m. \u001b[34;1mlet\n",
      "    \u001b[39;22mc\u001b[35m:f32[]\u001b[39m = jit[\n",
      "      name=f_fori\n",
      "      jaxpr={ \u001b[34;1mlambda \u001b[39;22m; a\u001b[35m:f32[3]\u001b[39m b\u001b[35m:i32[]\u001b[39m. \u001b[34;1mlet\n",
      "          \u001b[39;22m_\u001b[35m:i32[]\u001b[39m _\u001b[35m:i32[]\u001b[39m c\u001b[35m:f32[]\u001b[39m = while[\n",
      "            body_jaxpr={ \u001b[34;1mlambda \u001b[39;22m; d\u001b[35m:f32[3]\u001b[39m e\u001b[35m:i32[]\u001b[39m f\u001b[35m:i32[]\u001b[39m g\u001b[35m:f32[]\u001b[39m. \u001b[34;1mlet\n",
      "                \u001b[39;22mh\u001b[35m:i32[]\u001b[39m = add e 1:i32[]\n",
      "                i\u001b[35m:bool[]\u001b[39m = lt e 0:i32[]\n",
      "                j\u001b[35m:i32[]\u001b[39m = convert_element_type[new_dtype=int32 weak_type=False] e\n",
      "                k\u001b[35m:i32[]\u001b[39m = add j 3:i32[]\n",
      "                l\u001b[35m:i32[]\u001b[39m = select_n i e k\n",
      "                m\u001b[35m:f32[1]\u001b[39m = dynamic_slice[slice_sizes=(1,)] d l\n",
      "                n\u001b[35m:f32[]\u001b[39m = squeeze[dimensions=(0,)] m\n",
      "                o\u001b[35m:f32[]\u001b[39m = convert_element_type[\n",
      "                  new_dtype=float32\n",
      "                  weak_type=False\n",
      "                ] g\n",
      "                p\u001b[35m:f32[]\u001b[39m = add o n\n",
      "              \u001b[34;1min \u001b[39;22m(h, f, p) }\n",
      "            body_nconsts=1\n",
      "            cond_jaxpr={ \u001b[34;1mlambda \u001b[39;22m; q\u001b[35m:i32[]\u001b[39m r\u001b[35m:i32[]\u001b[39m s\u001b[35m:f32[]\u001b[39m. \u001b[34;1mlet\n",
      "                \u001b[39;22mt\u001b[35m:bool[]\u001b[39m = lt q r\n",
      "              \u001b[34;1min \u001b[39;22m(t,) }\n",
      "            cond_nconsts=0\n",
      "          ] a 0:i32[] b 0.0:f32[]\n",
      "        \u001b[34;1min \u001b[39;22m(c,) }\n",
      "    ] a b\n",
      "  \u001b[34;1min \u001b[39;22m(c,) }\n"
     ]
    }
   ],
   "source": [
    "# It is sometimes better (tho less readable) to use low level API\n",
    "\n",
    "def f_fori(x, n):\n",
    "    body_func = lambda i, val: val + x[i]\n",
    "    return lax.fori_loop(0, n, body_func, 0.)\n",
    "\n",
    "f_fori_jit = jit(f_fori)\n",
    "\n",
    "print(jax.make_jaxpr(f_fori_jit)(*x))\n"
   ]
  },
  {
   "cell_type": "code",
   "execution_count": 44,
   "id": "ae788e7f",
   "metadata": {},
   "outputs": [
    {
     "name": "stdout",
     "output_type": "stream",
     "text": [
      "57.0\n"
     ]
    }
   ],
   "source": [
    "print(f_fori_jit(*x))"
   ]
  },
  {
   "cell_type": "code",
   "execution_count": 47,
   "id": "11cdcfbb",
   "metadata": {},
   "outputs": [
    {
     "name": "stdout",
     "output_type": "stream",
     "text": [
      "{ \u001b[34;1mlambda \u001b[39;22m; a\u001b[35m:i32[3]\u001b[39m. \u001b[34;1mlet\u001b[39;22m  \u001b[34;1min \u001b[39;22m(a,) }\n"
     ]
    }
   ],
   "source": [
    "# Another Example: But this is not problematic\n",
    "\n",
    "def log2_if_rank2(x):\n",
    "    if x.ndim==2:\n",
    "        ln_x = jnp.log(x)\n",
    "        ln_2 = jnp.log(2.0)\n",
    "        return ln_x/ln_2\n",
    "    else:\n",
    "        return x\n",
    "    \n",
    "print(jax.make_jaxpr(log2_if_rank2)(jnp.array([1,2,3])))"
   ]
  },
  {
   "cell_type": "markdown",
   "id": "dec0891e",
   "metadata": {},
   "source": [
    "## Gotcha #7: NaNs"
   ]
  },
  {
   "cell_type": "code",
   "execution_count": 48,
   "id": "1268d354",
   "metadata": {},
   "outputs": [
    {
     "data": {
      "text/plain": [
       "Array(nan, dtype=float32, weak_type=True)"
      ]
     },
     "execution_count": 48,
     "metadata": {},
     "output_type": "execute_result"
    }
   ],
   "source": [
    "jnp.divide(0., 0.)"
   ]
  },
  {
   "cell_type": "code",
   "execution_count": 51,
   "id": "5b8a0cf9",
   "metadata": {},
   "outputs": [],
   "source": [
    "# As we saw, NaNs can come from anywhere!\n",
    "# This is because the default non-error behavior is to return a NaN\n",
    "\n",
    "# If you want to debug where these NaNs are coming from, there are multiple ways!\n",
    "# Here is one:\n",
    "\n",
    "from jax import config\n",
    "config.update(\"jax_debug_nans\", True)"
   ]
  },
  {
   "cell_type": "code",
   "execution_count": 52,
   "id": "1b570ef0",
   "metadata": {},
   "outputs": [
    {
     "name": "stdout",
     "output_type": "stream",
     "text": [
      "Invalid nan value encountered in the output of a jax.jit function. Calling the de-optimized version.\n"
     ]
    },
    {
     "ename": "FloatingPointError",
     "evalue": "invalid value (nan) encountered in div",
     "output_type": "error",
     "traceback": [
      "\u001b[31m---------------------------------------------------------------------------\u001b[39m",
      "\u001b[31mFloatingPointError\u001b[39m                        Traceback (most recent call last)",
      "\u001b[36mCell\u001b[39m\u001b[36m \u001b[39m\u001b[32mIn[52]\u001b[39m\u001b[32m, line 1\u001b[39m\n\u001b[32m----> \u001b[39m\u001b[32m1\u001b[39m \u001b[43mjnp\u001b[49m\u001b[43m.\u001b[49m\u001b[43mdivide\u001b[49m\u001b[43m(\u001b[49m\u001b[32;43m0.\u001b[39;49m\u001b[43m,\u001b[49m\u001b[43m \u001b[49m\u001b[32;43m0.\u001b[39;49m\u001b[43m)\u001b[49m\n",
      "\u001b[36mFile \u001b[39m\u001b[32mc:\\Users\\gr8my\\Desktop\\Projects\\JAX_Basics\\env\\Lib\\site-packages\\jax\\_src\\numpy\\ufuncs.py:2482\u001b[39m, in \u001b[36mdivide\u001b[39m\u001b[34m(x1, x2)\u001b[39m\n\u001b[32m   2479\u001b[39m \u001b[38;5;129m@export\u001b[39m\n\u001b[32m   2480\u001b[39m \u001b[38;5;28;01mdef\u001b[39;00m\u001b[38;5;250m \u001b[39m\u001b[34mdivide\u001b[39m(x1: ArrayLike, x2: ArrayLike, /) -> Array:\n\u001b[32m   2481\u001b[39m \u001b[38;5;250m  \u001b[39m\u001b[33;03m\"\"\"Alias of :func:`jax.numpy.true_divide`.\"\"\"\u001b[39;00m\n\u001b[32m-> \u001b[39m\u001b[32m2482\u001b[39m   \u001b[38;5;28;01mreturn\u001b[39;00m \u001b[43mtrue_divide\u001b[49m\u001b[43m(\u001b[49m\u001b[43mx1\u001b[49m\u001b[43m,\u001b[49m\u001b[43m \u001b[49m\u001b[43mx2\u001b[49m\u001b[43m)\u001b[49m\n",
      "    \u001b[31m[... skipping hidden 4 frame]\u001b[39m\n",
      "\u001b[36mFile \u001b[39m\u001b[32mc:\\Users\\gr8my\\Desktop\\Projects\\JAX_Basics\\env\\Lib\\site-packages\\jax\\_src\\numpy\\ufuncs.py:2474\u001b[39m, in \u001b[36mtrue_divide\u001b[39m\u001b[34m(x1, x2)\u001b[39m\n\u001b[32m   2472\u001b[39m x1, x2 = promote_args_inexact(\u001b[33m\"\u001b[39m\u001b[33mtrue_divide\u001b[39m\u001b[33m\"\u001b[39m, x1, x2)\n\u001b[32m   2473\u001b[39m jnp_error._set_error_if_divide_by_zero(x2)\n\u001b[32m-> \u001b[39m\u001b[32m2474\u001b[39m out = \u001b[43mlax\u001b[49m\u001b[43m.\u001b[49m\u001b[43mdiv\u001b[49m\u001b[43m(\u001b[49m\u001b[43mx1\u001b[49m\u001b[43m,\u001b[49m\u001b[43m \u001b[49m\u001b[43mx2\u001b[49m\u001b[43m)\u001b[49m\n\u001b[32m   2475\u001b[39m jnp_error._set_error_if_nan(out)\n\u001b[32m   2476\u001b[39m \u001b[38;5;28;01mreturn\u001b[39;00m out\n",
      "    \u001b[31m[... skipping hidden 8 frame]\u001b[39m\n",
      "\u001b[36mFile \u001b[39m\u001b[32mc:\\Users\\gr8my\\Desktop\\Projects\\JAX_Basics\\env\\Lib\\site-packages\\jax\\_src\\pjit.py:176\u001b[39m, in \u001b[36m_python_pjit_helper\u001b[39m\u001b[34m(fun, jit_info, *args, **kwargs)\u001b[39m\n\u001b[32m    174\u001b[39m \u001b[38;5;28;01mexcept\u001b[39;00m api_util.InternalFloatingPointError \u001b[38;5;28;01mas\u001b[39;00m e:\n\u001b[32m    175\u001b[39m   \u001b[38;5;28;01mif\u001b[39;00m \u001b[38;5;28mgetattr\u001b[39m(fun, \u001b[33m'\u001b[39m\u001b[33m_apply_primitive\u001b[39m\u001b[33m'\u001b[39m, \u001b[38;5;28;01mFalse\u001b[39;00m):\n\u001b[32m--> \u001b[39m\u001b[32m176\u001b[39m     \u001b[38;5;28;01mraise\u001b[39;00m \u001b[38;5;167;01mFloatingPointError\u001b[39;00m(\u001b[33mf\u001b[39m\u001b[33m\"\u001b[39m\u001b[33minvalid value (\u001b[39m\u001b[38;5;132;01m{\u001b[39;00me.ty\u001b[38;5;132;01m}\u001b[39;00m\u001b[33m) encountered in \u001b[39m\u001b[38;5;132;01m{\u001b[39;00mfun.\u001b[34m__qualname__\u001b[39m\u001b[38;5;132;01m}\u001b[39;00m\u001b[33m\"\u001b[39m) \u001b[38;5;28;01mfrom\u001b[39;00m\u001b[38;5;250m \u001b[39m\u001b[38;5;28;01mNone\u001b[39;00m\n\u001b[32m    177\u001b[39m   api_util.maybe_recursive_nan_check(e, fun, args, kwargs)\n\u001b[32m    179\u001b[39m outs = tree_unflatten(p.out_tree, out_flat)\n",
      "\u001b[31mFloatingPointError\u001b[39m: invalid value (nan) encountered in div"
     ]
    }
   ],
   "source": [
    "jnp.divide(0., 0.)"
   ]
  },
  {
   "cell_type": "markdown",
   "id": "dddbea64",
   "metadata": {},
   "source": [
    "## Gotcha #8: JAX enforces single precision"
   ]
  },
  {
   "cell_type": "code",
   "execution_count": 53,
   "id": "077391df",
   "metadata": {},
   "outputs": [
    {
     "name": "stdout",
     "output_type": "stream",
     "text": [
      "float32\n"
     ]
    },
    {
     "name": "stderr",
     "output_type": "stream",
     "text": [
      "C:\\Users\\gr8my\\AppData\\Local\\Temp\\ipykernel_45068\\1375643272.py:3: UserWarning: Explicitly requested dtype float64 is not available, and will be truncated to dtype float32. To enable more dtypes, set the jax_enable_x64 configuration option or the JAX_ENABLE_X64 shell environment variable. See https://github.com/jax-ml/jax#current-gotchas for more.\n",
      "  x = jax.random.uniform(key, (1000,), dtype=jnp.float64)\n"
     ]
    }
   ],
   "source": [
    "# There are simple ways around it tho\n",
    "\n",
    "x = jax.random.uniform(key, (1000,), dtype=jnp.float64)\n",
    "print(x.dtype)"
   ]
  },
  {
   "cell_type": "markdown",
   "id": "dfd5d537",
   "metadata": {},
   "source": [
    "### Final Conclusions<br>\n",
    "\n",
    "- JAX is very powerful, device agnostic, excellent for researchers, etc\n",
    "- Definitely way too complicated for beginners (functional paradigm, optimization details, etc) compared to PyTroch "
   ]
  },
  {
   "cell_type": "code",
   "execution_count": null,
   "id": "7076947b",
   "metadata": {},
   "outputs": [],
   "source": []
  }
 ],
 "metadata": {
  "kernelspec": {
   "display_name": "env",
   "language": "python",
   "name": "python3"
  },
  "language_info": {
   "codemirror_mode": {
    "name": "ipython",
    "version": 3
   },
   "file_extension": ".py",
   "mimetype": "text/x-python",
   "name": "python",
   "nbconvert_exporter": "python",
   "pygments_lexer": "ipython3",
   "version": "3.13.7"
  }
 },
 "nbformat": 4,
 "nbformat_minor": 5
}
