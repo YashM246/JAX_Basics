{
 "cells": [
  {
   "cell_type": "markdown",
   "id": "873a6288",
   "metadata": {},
   "source": [
    "## Training an MLP on MNIST Datset"
   ]
  },
  {
   "cell_type": "markdown",
   "id": "855c40db",
   "metadata": {},
   "source": [
    "#### Required Libraries"
   ]
  },
  {
   "cell_type": "code",
   "execution_count": 19,
   "id": "4606b257",
   "metadata": {},
   "outputs": [],
   "source": [
    "import numpy as np\n",
    "import jax\n",
    "import jax.numpy as jnp\n",
    "from jax.scipy.special import logsumexp\n",
    "from jax import jit, vmap, pmap, jit"
   ]
  },
  {
   "cell_type": "markdown",
   "id": "1d4873e1",
   "metadata": {},
   "source": [
    "#### Need to initialize MLP and parameters"
   ]
  },
  {
   "cell_type": "code",
   "execution_count": null,
   "id": "771c76cb",
   "metadata": {},
   "outputs": [],
   "source": [
    "def init_MLP(layer_widths, scale=0.01):\n",
    "    # Scale is too reduce the Standard Deviation, so that the grad doesnt explode\n",
    "    params = []\n",
    "\n",
    "    for in_width, out_width in zip(layer_widths[:-1], layer_widths[1:]):\n",
    "        params.append(\n",
    "            [scale*np.random.randn(out_width, in_width),     # Weights\n",
    "            scale*np.random.randn(out_width)]                # Bias\n",
    "        )\n",
    "\n",
    "    return params"
   ]
  },
  {
   "cell_type": "code",
   "execution_count": 10,
   "id": "0b1a6d82",
   "metadata": {},
   "outputs": [],
   "source": [
    "# The MNIST Dataset images has 784 pixels (28*28/image)\n",
    "# The output will correspond to any digit between 0-9\n",
    "# Create 2 more hidden layers\n",
    "\n",
    "MLP_params = init_MLP([784, 512, 256, 10])"
   ]
  },
  {
   "cell_type": "markdown",
   "id": "7f59829b",
   "metadata": {},
   "source": [
    "#### Confirm the shape using jax.tree.map"
   ]
  },
  {
   "cell_type": "code",
   "execution_count": 11,
   "id": "aeb6eae3",
   "metadata": {},
   "outputs": [
    {
     "name": "stdout",
     "output_type": "stream",
     "text": [
      "[[(512, 784), (512,)], [(256, 512), (256,)], [(10, 256), (10,)]]\n"
     ]
    }
   ],
   "source": [
    "print(jax.tree.map(lambda x: x.shape, MLP_params))"
   ]
  },
  {
   "cell_type": "markdown",
   "id": "3f015116",
   "metadata": {},
   "source": [
    "#### Wait! We just used NumPy -> Convert to JAX"
   ]
  },
  {
   "cell_type": "code",
   "execution_count": 12,
   "id": "e6758a37",
   "metadata": {},
   "outputs": [],
   "source": [
    "def init_MLP(layer_widths, parent_key, scale=0.01):\n",
    "    # Scale is too reduce the Standard Deviation, so that the grad doesnt explode\n",
    "    params = []\n",
    "    \n",
    "    # Need to split the key into \"no. of layer\" parts\n",
    "    keys = jax.random.split(parent_key, num=len(layer_widths)-1)\n",
    "\n",
    "    for in_width, out_width, k in zip(layer_widths[:-1], layer_widths[1:], keys):\n",
    "        wt_key, bias_key = jax.random.split(k)\n",
    "        params.append([\n",
    "            scale*jax.random.normal(wt_key, shape=(out_width, in_width)),     # Weights\n",
    "            scale*jax.random.normal(bias_key, shape=(out_width,))             # Bias\n",
    "        ]\n",
    "        )\n",
    "\n",
    "    return params"
   ]
  },
  {
   "cell_type": "code",
   "execution_count": 13,
   "id": "ea540006",
   "metadata": {},
   "outputs": [],
   "source": [
    "seed = 0\n",
    "key = jax.random.PRNGKey(seed)\n",
    "MLP_params = init_MLP([784, 512, 256, 10], key)"
   ]
  },
  {
   "cell_type": "code",
   "execution_count": 14,
   "id": "42deb5d2",
   "metadata": {},
   "outputs": [
    {
     "name": "stdout",
     "output_type": "stream",
     "text": [
      "[[(512, 784), (512,)], [(256, 512), (256,)], [(10, 256), (10,)]]\n"
     ]
    }
   ],
   "source": [
    "print(jax.tree.map(lambda x: x.shape, MLP_params))"
   ]
  },
  {
   "cell_type": "markdown",
   "id": "3dc96bdb",
   "metadata": {},
   "source": [
    "#### Let's now focus on the predict function"
   ]
  },
  {
   "cell_type": "code",
   "execution_count": 18,
   "id": "409e5dba",
   "metadata": {},
   "outputs": [],
   "source": [
    "def MLP_predict(params, x):\n",
    "    # Get all layers except the last one\n",
    "    hidden_layers = params[:-1]\n",
    "\n",
    "    activation = x\n",
    "    for w, b in hidden_layers:\n",
    "        activation = jax.nn.relu(jnp.dot(w,activation) + b)\n",
    "\n",
    "    w_last, b_last = params[-1]\n",
    "    logits = jnp.dot(w_last, activation) + b_last\n",
    "\n",
    "    # logits is only the raw output (un-normalized)\n",
    "    # logits-logsumexp(logits) ----> Basically log(Softmax)\n",
    "    # logits = log(exp(op_1)), log(exp(op_2)), .....\n",
    "    # subtracting logsumexp() is equivalent to dividing by sum of exp (Log Rule)\n",
    "    return logits-logsumexp(logits)"
   ]
  },
  {
   "cell_type": "code",
   "execution_count": 20,
   "id": "e1338c81",
   "metadata": {},
   "outputs": [],
   "source": [
    "batched_MLP_predict = vmap(MLP_predict, in_axes=(None,0))\n",
    "# None since we want the parameters to be broadcast\n",
    "# and 0 will be the batch dimension"
   ]
  },
  {
   "cell_type": "markdown",
   "id": "f90b7517",
   "metadata": {},
   "source": [
    "#### Data Loading (PyTorch)"
   ]
  },
  {
   "cell_type": "code",
   "execution_count": 32,
   "id": "88b9e339",
   "metadata": {},
   "outputs": [],
   "source": [
    "from torchvision.datasets import MNIST\n",
    "from torch.utils.data import DataLoader\n",
    "import os"
   ]
  },
  {
   "cell_type": "code",
   "execution_count": 24,
   "id": "ada87c42",
   "metadata": {},
   "outputs": [
    {
     "data": {
      "text/plain": [
       "'c:\\\\Users\\\\gr8my\\\\Desktop\\\\Projects\\\\JAX_Basics'"
      ]
     },
     "execution_count": 24,
     "metadata": {},
     "output_type": "execute_result"
    }
   ],
   "source": [
    "os.getcwd()"
   ]
  },
  {
   "cell_type": "code",
   "execution_count": 25,
   "id": "685bc66a",
   "metadata": {},
   "outputs": [
    {
     "name": "stderr",
     "output_type": "stream",
     "text": [
      "100.0%\n",
      "100.0%\n",
      "100.0%\n",
      "100.0%"
     ]
    },
    {
     "name": "stdout",
     "output_type": "stream",
     "text": [
      "<class 'torchvision.datasets.mnist.MNIST'>\n",
      "<class 'tuple'>\n"
     ]
    },
    {
     "name": "stderr",
     "output_type": "stream",
     "text": [
      "\n"
     ]
    }
   ],
   "source": [
    "train_dataset = MNIST(root=\"train_data_mnist\", train=True, download=True, transform=None)\n",
    "print(type(train_dataset))\n",
    "print(type(train_dataset[0]))"
   ]
  },
  {
   "cell_type": "markdown",
   "id": "20c3618d",
   "metadata": {},
   "source": [
    "The problem is that the image values will be PyTorch Tensors <br>\n",
    "This will not work for JAX<br><br>\n",
    "Therefore, we need to write a custom function"
   ]
  },
  {
   "cell_type": "code",
   "execution_count": 29,
   "id": "fe5bf01e",
   "metadata": {},
   "outputs": [],
   "source": [
    "def custom_transform(x):\n",
    "    return np.ravel(np.array(x, dtype=np.float32))"
   ]
  },
  {
   "cell_type": "code",
   "execution_count": 33,
   "id": "a481f401",
   "metadata": {},
   "outputs": [],
   "source": [
    "train_dataset = MNIST(root=\"train_data_mnist\", train=True, download=True, transform=custom_transform)\n",
    "test_dataset = MNIST(root=\"test_data_mnist\", train=False, download=True, transform=custom_transform)"
   ]
  },
  {
   "cell_type": "code",
   "execution_count": 34,
   "id": "b5ccb45c",
   "metadata": {},
   "outputs": [
    {
     "name": "stdout",
     "output_type": "stream",
     "text": [
      "<class 'list'>\n",
      "<class 'torch.Tensor'>\n"
     ]
    }
   ],
   "source": [
    "batch_size = 128\n",
    "\n",
    "train_loader = DataLoader(train_dataset, batch_size, shuffle=True, collate_fn=None)\n",
    "\n",
    "# Let's check something\n",
    "batch_data = next(iter(train_loader))\n",
    "print(type(batch_data))\n",
    "print(type(batch_data[0]))"
   ]
  },
  {
   "cell_type": "markdown",
   "id": "d5902fb3",
   "metadata": {},
   "source": [
    "Torch Tensor again!<br>\n",
    "We need a custom collate function other wise torch will convert data inside batches to Tensors again"
   ]
  },
  {
   "cell_type": "code",
   "execution_count": 35,
   "id": "3ffba9e6",
   "metadata": {},
   "outputs": [],
   "source": [
    "def custom_collate_fn(batch):\n",
    "    transposed_data = list(zip(*batch))\n",
    "    labels = np.array(transposed_data[1])\n",
    "    imgs = np.array(transposed_data[0])\n",
    "    return imgs, labels"
   ]
  },
  {
   "cell_type": "code",
   "execution_count": 46,
   "id": "e51529f5",
   "metadata": {},
   "outputs": [],
   "source": [
    "train_loader = DataLoader(train_dataset, batch_size, shuffle=True, collate_fn=custom_collate_fn, drop_last=True)\n",
    "test_loader = DataLoader(test_dataset, batch_size, shuffle=False, collate_fn=custom_collate_fn, drop_last=True)\n",
    "# drop_last = True --> Since last batch may not have 128 images"
   ]
  },
  {
   "cell_type": "code",
   "execution_count": 51,
   "id": "6652ce85",
   "metadata": {},
   "outputs": [],
   "source": [
    "train_imgs = jnp.array(train_dataset.data).reshape(len(train_dataset),-1)\n",
    "train_labels = jnp.array(train_dataset.targets)\n",
    "\n",
    "test_imgs = jnp.array(test_dataset.data).reshape(len(test_dataset),-1)\n",
    "test_labels = jnp.array(test_dataset.targets)"
   ]
  },
  {
   "cell_type": "markdown",
   "id": "3fdb1da3",
   "metadata": {},
   "source": [
    "#### Training Loop"
   ]
  },
  {
   "cell_type": "code",
   "execution_count": 47,
   "id": "3dbd4186",
   "metadata": {},
   "outputs": [],
   "source": [
    "def loss_fn(params, imgs, gt_labels):\n",
    "    preds = batched_MLP_predict(params, imgs)\n",
    "    # -jnp.mean(preds*gt_labels) --> will basically be softmax instead of log(softmax)\n",
    "    return -jnp.mean(preds*gt_labels)"
   ]
  },
  {
   "cell_type": "code",
   "execution_count": 52,
   "id": "94bd79b4",
   "metadata": {},
   "outputs": [],
   "source": [
    "@jit\n",
    "def update(params, imgs, gt_labels, lr=0.01):\n",
    "    loss, grads = jax.value_and_grad(loss_fn)(params, imgs, gt_labels)\n",
    "    return loss, jax.tree.map(lambda p,g: p-lr*g, params, grads)"
   ]
  },
  {
   "cell_type": "code",
   "execution_count": 56,
   "id": "11f2bd82",
   "metadata": {},
   "outputs": [],
   "source": [
    "def accuracy(params, dataset_imgs, dataset_labels):\n",
    "    preds = jnp.argmax(batched_MLP_predict(params, dataset_imgs), axis=1)\n",
    "    return jnp.mean(preds == dataset_labels)"
   ]
  },
  {
   "cell_type": "code",
   "execution_count": 58,
   "id": "1e237669",
   "metadata": {},
   "outputs": [
    {
     "name": "stdout",
     "output_type": "stream",
     "text": [
      "Epoch 0, Train Acc: 0.913, Test Acc: 0.919\n",
      "Epoch 1, Train Acc: 0.933, Test Acc: 0.933\n",
      "Epoch 2, Train Acc: 0.944, Test Acc: 0.944\n",
      "Epoch 3, Train Acc: 0.955, Test Acc: 0.953\n",
      "Epoch 4, Train Acc: 0.960, Test Acc: 0.957\n"
     ]
    }
   ],
   "source": [
    "num_epochs = 5\n",
    "\n",
    "MLP_params = init_MLP([784, 512, 256, 10], key)\n",
    "for epoch in range(num_epochs):\n",
    "    for batch, (imgs, labels) in enumerate(train_loader):\n",
    "        gt_labels = jax.nn.one_hot(labels, len(MNIST.classes))\n",
    "        loss, MLP_params = update(MLP_params, imgs, gt_labels)\n",
    "    print(f\"Epoch {epoch}, Train Acc: {accuracy(MLP_params, train_imgs, train_labels):.3f}, Test Acc: {accuracy(MLP_params, test_imgs, test_labels):.3f}\")"
   ]
  },
  {
   "cell_type": "markdown",
   "id": "05178c71",
   "metadata": {},
   "source": [
    "#### Let's visualize the MLP weights"
   ]
  },
  {
   "cell_type": "code",
   "execution_count": 62,
   "id": "20d11390",
   "metadata": {},
   "outputs": [],
   "source": [
    "import matplotlib.pyplot as plt"
   ]
  },
  {
   "cell_type": "code",
   "execution_count": 61,
   "id": "7f8bba75",
   "metadata": {},
   "outputs": [
    {
     "name": "stdout",
     "output_type": "stream",
     "text": [
      "(512, 784)\n"
     ]
    }
   ],
   "source": [
    "w = MLP_params[0][0]\n",
    "print(w.shape)"
   ]
  },
  {
   "cell_type": "code",
   "execution_count": 63,
   "id": "85332f61",
   "metadata": {},
   "outputs": [
    {
     "data": {
      "image/png": "[encoded data removed]",
      "text/plain": [
       "<Figure size 640x480 with 1 Axes>"
      ]
     },
     "metadata": {},
     "output_type": "display_data"
    }
   ],
   "source": [
    "w_single = w[0,:].reshape((28,28))\n",
    "plt.imshow(w_single)\n",
    "plt.show()"
   ]
  },
  {
   "cell_type": "code",
   "execution_count": 64,
   "id": "e72fb089",
   "metadata": {},
   "outputs": [
    {
     "data": {
      "image/png": "[encoded data removed]",
      "text/plain": [
       "<Figure size 640x480 with 1 Axes>"
      ]
     },
     "metadata": {},
     "output_type": "display_data"
    }
   ],
   "source": [
    "w_single = w[100,:].reshape((28,28))\n",
    "plt.imshow(w_single)\n",
    "plt.show()"
   ]
  },
  {
   "cell_type": "markdown",
   "id": "cd676142",
   "metadata": {},
   "source": [
    "#### No observable pattern or insight"
   ]
  },
  {
   "cell_type": "markdown",
   "id": "a27495d3",
   "metadata": {},
   "source": [
    "#### Visualize Embedding using t-SNE"
   ]
  },
  {
   "cell_type": "code",
   "execution_count": 66,
   "id": "3d33b1f4",
   "metadata": {},
   "outputs": [],
   "source": [
    "from sklearn.manifold import TSNE"
   ]
  },
  {
   "cell_type": "code",
   "execution_count": 67,
   "id": "55cab4c2",
   "metadata": {},
   "outputs": [],
   "source": [
    "def fetch_activations(params, x):\n",
    "    hidden_layers = params[:-1]\n",
    "\n",
    "    activation = x\n",
    "    for w, b in hidden_layers:\n",
    "        activation = jax.nn.relu(jnp.dot(w, activation) + b)\n",
    "\n",
    "    return activation    "
   ]
  },
  {
   "cell_type": "code",
   "execution_count": 69,
   "id": "b5caa6b2",
   "metadata": {},
   "outputs": [],
   "source": [
    "batched_fetch_activation = vmap(fetch_activations, in_axes = (None, 0))"
   ]
  },
  {
   "cell_type": "code",
   "execution_count": 70,
   "id": "ddff6e6b",
   "metadata": {},
   "outputs": [],
   "source": [
    "img, labels = next(iter(test_loader))\n",
    "batch_activation = batched_fetch_activation(MLP_params, imgs)"
   ]
  },
  {
   "cell_type": "code",
   "execution_count": 72,
   "id": "6f69c297",
   "metadata": {},
   "outputs": [
    {
     "ename": "KeyError",
     "evalue": "7",
     "output_type": "error",
     "traceback": [
      "\u001b[31m---------------------------------------------------------------------------\u001b[39m",
      "\u001b[31mKeyError\u001b[39m                                  Traceback (most recent call last)",
      "\u001b[36mCell\u001b[39m\u001b[36m \u001b[39m\u001b[32mIn[72]\u001b[39m\u001b[32m, line 4\u001b[39m\n\u001b[32m      2\u001b[39m cora_label_to_color_map = {\u001b[32m0\u001b[39m:\u001b[33m\"\u001b[39m\u001b[33mred\u001b[39m\u001b[33m\"\u001b[39m, \u001b[32m1\u001b[39m:\u001b[33m\"\u001b[39m\u001b[33mblue\u001b[39m\u001b[33m\"\u001b[39m, \u001b[32m2\u001b[39m:\u001b[33m\"\u001b[39m\u001b[33mgreen\u001b[39m\u001b[33m\"\u001b[39m, \u001b[32m3\u001b[39m:\u001b[33m\"\u001b[39m\u001b[33morange\u001b[39m\u001b[33m\"\u001b[39m, \u001b[32m4\u001b[39m:\u001b[33m\"\u001b[39m\u001b[33myellow\u001b[39m\u001b[33m\"\u001b[39m, \u001b[32m5\u001b[39m:\u001b[33m\"\u001b[39m\u001b[33mpink\u001b[39m\u001b[33m\"\u001b[39m, \u001b[32m6\u001b[39m:\u001b[33m\"\u001b[39m\u001b[33mgray\u001b[39m\u001b[33m\"\u001b[39m}\n\u001b[32m      3\u001b[39m \u001b[38;5;28;01mfor\u001b[39;00m class_id \u001b[38;5;129;01min\u001b[39;00m \u001b[38;5;28mrange\u001b[39m(\u001b[32m10\u001b[39m):\n\u001b[32m----> \u001b[39m\u001b[32m4\u001b[39m     plt.scatter(t_sne_embeddings[labels == class_id, \u001b[32m0\u001b[39m], t_sne_embeddings[labels == class_id, \u001b[32m1\u001b[39m], s=\u001b[32m20\u001b[39m, color=\u001b[43mcora_label_to_color_map\u001b[49m\u001b[43m[\u001b[49m\u001b[43mclass_id\u001b[49m\u001b[43m]\u001b[49m)\n\u001b[32m      5\u001b[39m plt.show()\n",
      "\u001b[31mKeyError\u001b[39m: 7"
     ]
    },
    {
     "data": {
      "image/png": "[encoded data removed]",
      "text/plain": [
       "<Figure size 640x480 with 1 Axes>"
      ]
     },
     "metadata": {},
     "output_type": "display_data"
    }
   ],
   "source": [
    "t_sne_embeddings = TSNE(n_components=2, perplexity=30).fit_transform(batch_activation)\n",
    "cora_label_to_color_map = {0:\"red\", 1:\"blue\", 2:\"green\", 3:\"orange\", 4:\"yellow\", 5:\"pink\", 6:\"gray\"}\n",
    "for class_id in range(10):\n",
    "    plt.scatter(t_sne_embeddings[labels == class_id, 0], t_sne_embeddings[labels == class_id, 1], s=20, color=cora_label_to_color_map[class_id])\n",
    "plt.show()"
   ]
  }
 ],
 "metadata": {
  "kernelspec": {
   "display_name": "env",
   "language": "python",
   "name": "python3"
  },
  "language_info": {
   "codemirror_mode": {
    "name": "ipython",
    "version": 3
   },
   "file_extension": ".py",
   "mimetype": "text/x-python",
   "name": "python",
   "nbconvert_exporter": "python",
   "pygments_lexer": "ipython3",
   "version": "3.13.7"
  }
 },
 "nbformat": 4,
 "nbformat_minor": 5
}
