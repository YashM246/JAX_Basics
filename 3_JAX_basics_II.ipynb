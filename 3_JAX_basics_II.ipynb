{
 "cells": [
  {
   "cell_type": "markdown",
   "id": "8e30b158",
   "metadata": {},
   "source": [
    "### Necessary Packages"
   ]
  },
  {
   "cell_type": "code",
   "execution_count": 1,
   "id": "90d6bd77",
   "metadata": {},
   "outputs": [],
   "source": [
    "import jax\n",
    "import jax.numpy as jnp\n",
    "import numpy as np\n",
    "\n",
    "from jax import grad, jit, vmap, pmap\n",
    "\n",
    "from jax import random\n",
    "import matplotlib.pyplot as plt\n",
    "from copy import deepcopy\n",
    "from typing import Tuple, NamedTuple\n",
    "import functools"
   ]
  },
  {
   "cell_type": "markdown",
   "id": "3756679a",
   "metadata": {},
   "source": [
    "## Problem of \"State\""
   ]
  },
  {
   "cell_type": "code",
   "execution_count": 3,
   "id": "1ee0c2c5",
   "metadata": {},
   "outputs": [
    {
     "name": "stdout",
     "output_type": "stream",
     "text": [
      "First Call:  2.0\n",
      "Updating g from  0  to 10\n",
      "Second Call:  2.0\n"
     ]
    }
   ],
   "source": [
    "# We've seen that impure functions are problematic\n",
    "\n",
    "g = 0\n",
    "# Acts as a state\n",
    "\n",
    "def impure_uses_global(x):\n",
    "    return x+g\n",
    "\n",
    "print(\"First Call: \", jit(impure_uses_global)(2.))\n",
    "\n",
    "print(\"Updating g from \", g,\" to 10\")\n",
    "g = 10\n",
    "\n",
    "print(\"Second Call: \", jit(impure_uses_global)(2.))"
   ]
  },
  {
   "cell_type": "markdown",
   "id": "70520e1b",
   "metadata": {},
   "source": [
    "### Need to explicitly address the problem of state"
   ]
  },
  {
   "cell_type": "markdown",
   "id": "3cfa4a7b",
   "metadata": {},
   "source": [
    "##### Why? <br>\n",
    "- Neural Networks love statefulness!\n",
    "- Model Parameters, Optimizer Parameters, etc\n",
    "- And JAX has a major problem with this "
   ]
  },
  {
   "cell_type": "code",
   "execution_count": 4,
   "id": "d656859a",
   "metadata": {},
   "outputs": [],
   "source": [
    "# Stateful Class\n",
    "class Counter:\n",
    "    \"\"\"A simple counter\"\"\"\n",
    "\n",
    "    def __init__(self):\n",
    "        self.n = 0\n",
    "        # Acts as a state\n",
    "\n",
    "    def count(self)->int:\n",
    "        self.n += 1\n",
    "        return self.n\n",
    "\n",
    "    def reset(self):\n",
    "        self.n = 0"
   ]
  },
  {
   "cell_type": "code",
   "execution_count": 5,
   "id": "9499eb04",
   "metadata": {},
   "outputs": [
    {
     "name": "stdout",
     "output_type": "stream",
     "text": [
      "1\n",
      "2\n",
      "3\n"
     ]
    }
   ],
   "source": [
    "counter = Counter()\n",
    "\n",
    "for _ in range(3):\n",
    "    print(counter.count())"
   ]
  },
  {
   "cell_type": "code",
   "execution_count": 6,
   "id": "6518cb17",
   "metadata": {},
   "outputs": [
    {
     "name": "stdout",
     "output_type": "stream",
     "text": [
      "1\n",
      "1\n",
      "1\n"
     ]
    }
   ],
   "source": [
    "counter.reset()\n",
    "\n",
    "fast_count = jit(counter.count)\n",
    "\n",
    "for _ in range(3):\n",
    "    print(fast_count())"
   ]
  },
  {
   "cell_type": "markdown",
   "id": "e4159520",
   "metadata": {},
   "source": [
    "- Not exactly working as expected"
   ]
  },
  {
   "cell_type": "markdown",
   "id": "d457600e",
   "metadata": {},
   "source": [
    "- Let's use jaxpr to see what's happening"
   ]
  },
  {
   "cell_type": "code",
   "execution_count": 8,
   "id": "3d4391e4",
   "metadata": {},
   "outputs": [
    {
     "name": "stdout",
     "output_type": "stream",
     "text": [
      "{ lambda ; . let  in (1:i32[],) }\n"
     ]
    }
   ],
   "source": [
    "counter.reset()\n",
    "print(jax.make_jaxpr(counter.count)())"
   ]
  },
  {
   "cell_type": "markdown",
   "id": "8fe159af",
   "metadata": {},
   "source": [
    "- When JIT runs a trace, it will go through the function\n",
    "- the counter will get incremented to 1\n",
    "- And it will return 1 as the trace ends one run through\n",
    "- JIT will learn this behavior only\n",
    "- And then keep sending out 1"
   ]
  },
  {
   "cell_type": "code",
   "execution_count": 9,
   "id": "127dbf37",
   "metadata": {},
   "outputs": [],
   "source": [
    "# Solution:\n",
    "# Implement Counter State as a primitive data type like Integer\n",
    "\n",
    "CounterState = int\n",
    "\n",
    "class CounterV2:\n",
    "    \n",
    "    def count(self, n:CounterState) -> Tuple[int, CounterState]:\n",
    "        # Could just return n+1 here\n",
    "        # but here we separate it's role\n",
    "        # Outputting the counter and state for didactic purposes \n",
    "        return n+1, n+1\n",
    "\n",
    "    def reset(self)-> CounterState:\n",
    "        return 0"
   ]
  },
  {
   "cell_type": "markdown",
   "id": "fd36f395",
   "metadata": {},
   "source": [
    "- Now, instead of hiding state inside objects or global variables, we pass it around explicitly as function arguments and return values"
   ]
  },
  {
   "cell_type": "code",
   "execution_count": 11,
   "id": "05b9074d",
   "metadata": {},
   "outputs": [],
   "source": [
    "counter = CounterV2()\n",
    "state = counter.reset()\n",
    "# Notice how reset now returns state"
   ]
  },
  {
   "cell_type": "code",
   "execution_count": 12,
   "id": "749455ac",
   "metadata": {},
   "outputs": [
    {
     "name": "stdout",
     "output_type": "stream",
     "text": [
      "1\n",
      "2\n",
      "3\n"
     ]
    }
   ],
   "source": [
    "for _ in range(3):\n",
    "    value, state = counter.count(state)\n",
    "    print(value)"
   ]
  },
  {
   "cell_type": "markdown",
   "id": "37a44dee",
   "metadata": {},
   "source": [
    "- By making state a function parameter, JAX can see it!\n",
    "- Each cell takes the current state and returns the new state."
   ]
  },
  {
   "cell_type": "code",
   "execution_count": 13,
   "id": "69f7858b",
   "metadata": {},
   "outputs": [
    {
     "name": "stdout",
     "output_type": "stream",
     "text": [
      "1\n",
      "2\n",
      "3\n"
     ]
    }
   ],
   "source": [
    "state = counter.reset()\n",
    "fast_count = jax.jit(counter.count)\n",
    "\n",
    "for _ in range(3):\n",
    "    value, state = fast_count(state)\n",
    "    print(value)"
   ]
  },
  {
   "cell_type": "markdown",
   "id": "68e29834",
   "metadata": {},
   "source": [
    "##### We have now discovered a way to handle states without the side effects"
   ]
  },
  {
   "cell_type": "markdown",
   "id": "f77114c1",
   "metadata": {},
   "source": [
    "##### We still need a way to handle gradients when dealing with big NNs"
   ]
  },
  {
   "cell_type": "markdown",
   "id": "8c153d87",
   "metadata": {},
   "source": [
    "##### Enter:"
   ]
  },
  {
   "cell_type": "markdown",
   "id": "1c39435d",
   "metadata": {},
   "source": [
    "## PyTree"
   ]
  },
  {
   "cell_type": "markdown",
   "id": "416f063f",
   "metadata": {},
   "source": [
    "##### Why are gradients a problem in the first place?"
   ]
  },
  {
   "cell_type": "code",
   "execution_count": 14,
   "id": "ea736ce6",
   "metadata": {},
   "outputs": [],
   "source": [
    "f = lambda x,y,z,w: x**2 + y**2 + z**2 + w**2\n",
    "# Imagine this but billion parameters"
   ]
  },
  {
   "cell_type": "code",
   "execution_count": null,
   "id": "cba5f072",
   "metadata": {},
   "outputs": [
    {
     "name": "stdout",
     "output_type": "stream",
     "text": [
      "2.0 2.0 2.0 2.0\n"
     ]
    }
   ],
   "source": [
    "# JAX .backward() is not that great\n",
    "\n",
    "x, y, z, w = [1.]*4\n",
    "dfdx, dfdy, dfdz, dfdw = grad(f, argnums=(0,1,2,3))(x,y,z,w)\n",
    "# In case of billion paramters\n",
    "# dfdx1, dfdx2, dfdx3, ...... dfdx_billion = grad(f, argnums=(0,1,2......billion!))\n",
    "print(dfdx, dfdy, dfdz, dfdw)"
   ]
  },
  {
   "cell_type": "markdown",
   "id": "2e46b001",
   "metadata": {},
   "source": [
    "- There is obviously a better way - PyTree"
   ]
  },
  {
   "cell_type": "markdown",
   "id": "338fa891",
   "metadata": {},
   "source": [
    "#### We want to naturally wrap our parameters in some more complex data structure like dictionaries, etc.\n",
    "#### JAX knows how to deal with this - PyTrees"
   ]
  },
  {
   "cell_type": "code",
   "execution_count": 19,
   "id": "2aaab8a6",
   "metadata": {},
   "outputs": [],
   "source": [
    "# Contrived Example for Pedagogical Purposes\n",
    "pytree_eg = [\n",
    "    [1, 'a', object()],\n",
    "    (1, (2,3), ()),\n",
    "    [1, {\"k1\":2, \"k2\":(3,4)}, 5],\n",
    "    {'a':2, 'b':(2,3)},\n",
    "    jnp.array([1,2,3]),\n",
    "]"
   ]
  },
  {
   "cell_type": "code",
   "execution_count": 20,
   "id": "bfdd62e3",
   "metadata": {},
   "outputs": [
    {
     "name": "stdout",
     "output_type": "stream",
     "text": [
      "[1, 'a', <object object at 0x00000265179306B0>] has 3 leaves: [1, 'a', <object object at 0x00000265179306B0>]\n",
      "(1, (2, 3), ())                               has 3 leaves: [1, 2, 3]\n",
      "[1, {'k1': 2, 'k2': (3, 4)}, 5]               has 5 leaves: [1, 2, 3, 4, 5]\n",
      "{'a': 2, 'b': (2, 3)}                         has 3 leaves: [2, 2, 3]\n",
      "Array([1, 2, 3], dtype=int32)                 has 1 leaves: [Array([1, 2, 3], dtype=int32)]\n"
     ]
    }
   ],
   "source": [
    "# Let's see how many leaves this pytree has\n",
    "for pytree in pytree_eg:\n",
    "    leaves = jax.tree.leaves(pytree)\n",
    "    print(f\"{repr(pytree):<45} has {len(leaves)} leaves: {leaves}\")"
   ]
  },
  {
   "cell_type": "markdown",
   "id": "45ef86c4",
   "metadata": {},
   "source": [
    "#### How do we manipulate PyTrees?"
   ]
  },
  {
   "cell_type": "code",
   "execution_count": 39,
   "id": "062cb704",
   "metadata": {},
   "outputs": [
    {
     "name": "stdout",
     "output_type": "stream",
     "text": [
      "[{'a': 9}, [1, 4, 9], [1, 4], [1, 4, 9, 16]]\n"
     ]
    }
   ],
   "source": [
    "list_of_lists = [\n",
    "    {'a':3},\n",
    "    [1,2,3],\n",
    "    [1,2],\n",
    "    [1,2,3,4],\n",
    "]\n",
    "\n",
    "# For single arg functions, use tree.map\n",
    "# tree.map iterates through leaves and applies the lambda func\n",
    "print(jax.tree.map(lambda x: x**2, list_of_lists))"
   ]
  },
  {
   "cell_type": "code",
   "execution_count": 40,
   "id": "da1f9e4a",
   "metadata": {},
   "outputs": [
    {
     "name": "stdout",
     "output_type": "stream",
     "text": [
      "[{'a': 6}, [2, 4, 6], [2, 4], [2, 4, 6, 8]]\n"
     ]
    }
   ],
   "source": [
    "another_list = list_of_lists\n",
    "print(jax.tree_util.tree_map(lambda x,y: x+y, list_of_lists, another_list))"
   ]
  },
  {
   "cell_type": "markdown",
   "id": "fd69dc5b",
   "metadata": {},
   "source": [
    "#### PyTrees need to have the same structure if we are to apply tree.map"
   ]
  },
  {
   "cell_type": "code",
   "execution_count": 41,
   "id": "dd3bb8ba",
   "metadata": {},
   "outputs": [
    {
     "ename": "ValueError",
     "evalue": "List arity mismatch: 5 != 4; list: [{'a': 3}, [1, 2, 3], [1, 2], [1, 2, 3, 4], [23]].",
     "output_type": "error",
     "traceback": [
      "\u001b[31m---------------------------------------------------------------------------\u001b[39m",
      "\u001b[31mValueError\u001b[39m                                Traceback (most recent call last)",
      "\u001b[36mCell\u001b[39m\u001b[36m \u001b[39m\u001b[32mIn[41]\u001b[39m\u001b[32m, line 3\u001b[39m\n\u001b[32m      1\u001b[39m another_list = deepcopy(list_of_lists)\n\u001b[32m      2\u001b[39m another_list.append([\u001b[32m23\u001b[39m])\n\u001b[32m----> \u001b[39m\u001b[32m3\u001b[39m \u001b[38;5;28mprint\u001b[39m(\u001b[43mjax\u001b[49m\u001b[43m.\u001b[49m\u001b[43mtree_util\u001b[49m\u001b[43m.\u001b[49m\u001b[43mtree_map\u001b[49m\u001b[43m(\u001b[49m\u001b[38;5;28;43;01mlambda\u001b[39;49;00m\u001b[43m \u001b[49m\u001b[43mx\u001b[49m\u001b[43m,\u001b[49m\u001b[43my\u001b[49m\u001b[43m:\u001b[49m\u001b[43m \u001b[49m\u001b[43mx\u001b[49m\u001b[43m+\u001b[49m\u001b[43my\u001b[49m\u001b[43m,\u001b[49m\u001b[43m \u001b[49m\u001b[43mlist_of_lists\u001b[49m\u001b[43m,\u001b[49m\u001b[43m \u001b[49m\u001b[43manother_list\u001b[49m\u001b[43m)\u001b[49m)\n",
      "\u001b[36mFile \u001b[39m\u001b[32mc:\\Users\\gr8my\\Desktop\\Projects\\JAX_Basics\\env\\Lib\\site-packages\\jax\\_src\\tree_util.py:363\u001b[39m, in \u001b[36mtree_map\u001b[39m\u001b[34m(f, tree, is_leaf, *rest)\u001b[39m\n\u001b[32m    361\u001b[39m \u001b[38;5;250m\u001b[39m\u001b[33;03m\"\"\"Alias of :func:`jax.tree.map`.\"\"\"\u001b[39;00m\n\u001b[32m    362\u001b[39m leaves, treedef = tree_flatten(tree, is_leaf)\n\u001b[32m--> \u001b[39m\u001b[32m363\u001b[39m all_leaves = [leaves] + [\u001b[43mtreedef\u001b[49m\u001b[43m.\u001b[49m\u001b[43mflatten_up_to\u001b[49m\u001b[43m(\u001b[49m\u001b[43mr\u001b[49m\u001b[43m)\u001b[49m \u001b[38;5;28;01mfor\u001b[39;00m r \u001b[38;5;129;01min\u001b[39;00m rest]\n\u001b[32m    364\u001b[39m \u001b[38;5;28;01mreturn\u001b[39;00m treedef.unflatten(f(*xs) \u001b[38;5;28;01mfor\u001b[39;00m xs \u001b[38;5;129;01min\u001b[39;00m \u001b[38;5;28mzip\u001b[39m(*all_leaves))\n",
      "\u001b[31mValueError\u001b[39m: List arity mismatch: 5 != 4; list: [{'a': 3}, [1, 2, 3], [1, 2], [1, 2, 3, 4], [23]]."
     ]
    }
   ],
   "source": [
    "another_list = deepcopy(list_of_lists)\n",
    "another_list.append([23])\n",
    "print(jax.tree_util.tree_map(lambda x,y: x+y, list_of_lists, another_list))"
   ]
  },
  {
   "cell_type": "markdown",
   "id": "22c46cea",
   "metadata": {},
   "source": [
    "## Now we have everything we need to train a beginner MLP Model using JAX!"
   ]
  },
  {
   "cell_type": "code",
   "execution_count": null,
   "id": "a8990331",
   "metadata": {},
   "outputs": [],
   "source": []
  }
 ],
 "metadata": {
  "kernelspec": {
   "display_name": "env",
   "language": "python",
   "name": "python3"
  },
  "language_info": {
   "codemirror_mode": {
    "name": "ipython",
    "version": 3
   },
   "file_extension": ".py",
   "mimetype": "text/x-python",
   "name": "python",
   "nbconvert_exporter": "python",
   "pygments_lexer": "ipython3",
   "version": "3.13.7"
  }
 },
 "nbformat": 4,
 "nbformat_minor": 5
}
