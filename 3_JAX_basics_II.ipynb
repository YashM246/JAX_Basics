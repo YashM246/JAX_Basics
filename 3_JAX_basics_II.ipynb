{
 "cells": [
  {
   "cell_type": "markdown",
   "id": "8e30b158",
   "metadata": {},
   "source": [
    "### Necessary Packages"
   ]
  },
  {
   "cell_type": "code",
   "execution_count": 1,
   "id": "90d6bd77",
   "metadata": {},
   "outputs": [],
   "source": [
    "import jax\n",
    "import jax.numpy as jnp\n",
    "import numpy as np\n",
    "\n",
    "from jax import grad, jit, vmap, pmap\n",
    "\n",
    "from jax import random\n",
    "import matplotlib.pyplot as plt\n",
    "from copy import deepcopy\n",
    "from typing import Tuple, NamedTuple\n",
    "import functools"
   ]
  },
  {
   "cell_type": "markdown",
   "id": "3756679a",
   "metadata": {},
   "source": [
    "## Problem of \"State\""
   ]
  },
  {
   "cell_type": "code",
   "execution_count": 3,
   "id": "1ee0c2c5",
   "metadata": {},
   "outputs": [
    {
     "name": "stdout",
     "output_type": "stream",
     "text": [
      "First Call:  2.0\n",
      "Updating g from  0  to 10\n",
      "Second Call:  2.0\n"
     ]
    }
   ],
   "source": [
    "# We've seen that impure functions are problematic\n",
    "\n",
    "g = 0\n",
    "# Acts as a state\n",
    "\n",
    "def impure_uses_global(x):\n",
    "    return x+g\n",
    "\n",
    "print(\"First Call: \", jit(impure_uses_global)(2.))\n",
    "\n",
    "print(\"Updating g from \", g,\" to 10\")\n",
    "g = 10\n",
    "\n",
    "print(\"Second Call: \", jit(impure_uses_global)(2.))"
   ]
  },
  {
   "cell_type": "markdown",
   "id": "70520e1b",
   "metadata": {},
   "source": [
    "### Need to explicitly address the problem of state"
   ]
  },
  {
   "cell_type": "markdown",
   "id": "3cfa4a7b",
   "metadata": {},
   "source": [
    "##### Why? <br>\n",
    "- Neural Networks love statefulness!\n",
    "- Model Parameters, Optimizer Parameters, etc\n",
    "- And JAX has a major problem with this "
   ]
  },
  {
   "cell_type": "code",
   "execution_count": 4,
   "id": "d656859a",
   "metadata": {},
   "outputs": [],
   "source": [
    "# Stateful Class\n",
    "class Counter:\n",
    "    \"\"\"A simple counter\"\"\"\n",
    "\n",
    "    def __init__(self):\n",
    "        self.n = 0\n",
    "        # Acts as a state\n",
    "\n",
    "    def count(self)->int:\n",
    "        self.n += 1\n",
    "        return self.n\n",
    "\n",
    "    def reset(self):\n",
    "        self.n = 0"
   ]
  },
  {
   "cell_type": "code",
   "execution_count": 5,
   "id": "9499eb04",
   "metadata": {},
   "outputs": [
    {
     "name": "stdout",
     "output_type": "stream",
     "text": [
      "1\n",
      "2\n",
      "3\n"
     ]
    }
   ],
   "source": [
    "counter = Counter()\n",
    "\n",
    "for _ in range(3):\n",
    "    print(counter.count())"
   ]
  },
  {
   "cell_type": "code",
   "execution_count": 6,
   "id": "6518cb17",
   "metadata": {},
   "outputs": [
    {
     "name": "stdout",
     "output_type": "stream",
     "text": [
      "1\n",
      "1\n",
      "1\n"
     ]
    }
   ],
   "source": [
    "counter.reset()\n",
    "\n",
    "fast_count = jit(counter.count)\n",
    "\n",
    "for _ in range(3):\n",
    "    print(fast_count())"
   ]
  },
  {
   "cell_type": "markdown",
   "id": "e4159520",
   "metadata": {},
   "source": [
    "- Not exactly working as expected"
   ]
  },
  {
   "cell_type": "markdown",
   "id": "d457600e",
   "metadata": {},
   "source": [
    "- Let's use jaxpr to see what's happening"
   ]
  },
  {
   "cell_type": "code",
   "execution_count": 8,
   "id": "3d4391e4",
   "metadata": {},
   "outputs": [
    {
     "name": "stdout",
     "output_type": "stream",
     "text": [
      "{ lambda ; . let  in (1:i32[],) }\n"
     ]
    }
   ],
   "source": [
    "counter.reset()\n",
    "print(jax.make_jaxpr(counter.count)())"
   ]
  },
  {
   "cell_type": "markdown",
   "id": "8fe159af",
   "metadata": {},
   "source": [
    "- When JIT runs a trace, it will go through the function\n",
    "- the counter will get incremented to 1\n",
    "- And it will return 1 as the trace ends one run through\n",
    "- JIT will learn this behavior only\n",
    "- And then keep sending out 1"
   ]
  },
  {
   "cell_type": "code",
   "execution_count": 9,
   "id": "127dbf37",
   "metadata": {},
   "outputs": [],
   "source": [
    "# Solution:\n",
    "# Implement Counter State as a primitive data type like Integer\n",
    "\n",
    "CounterState = int\n",
    "\n",
    "class CounterV2:\n",
    "    \n",
    "    def count(self, n:CounterState) -> Tuple[int, CounterState]:\n",
    "        # Could just return n+1 here\n",
    "        # but here we separate it's role\n",
    "        # Outputting the counter and state for didactic purposes \n",
    "        return n+1, n+1\n",
    "\n",
    "    def reset(self)-> CounterState:\n",
    "        return 0"
   ]
  },
  {
   "cell_type": "code",
   "execution_count": 11,
   "id": "05b9074d",
   "metadata": {},
   "outputs": [],
   "source": [
    "counter = CounterV2()\n",
    "state = counter.reset()\n",
    "# Notice how reset now returns state"
   ]
  },
  {
   "cell_type": "code",
   "execution_count": 12,
   "id": "749455ac",
   "metadata": {},
   "outputs": [
    {
     "name": "stdout",
     "output_type": "stream",
     "text": [
      "1\n",
      "2\n",
      "3\n"
     ]
    }
   ],
   "source": [
    "for _ in range(3):\n",
    "    value, state = counter.count(state)\n",
    "    print(value)"
   ]
  },
  {
   "cell_type": "code",
   "execution_count": null,
   "id": "69f7858b",
   "metadata": {},
   "outputs": [],
   "source": []
  }
 ],
 "metadata": {
  "kernelspec": {
   "display_name": "env",
   "language": "python",
   "name": "python3"
  },
  "language_info": {
   "codemirror_mode": {
    "name": "ipython",
    "version": 3
   },
   "file_extension": ".py",
   "mimetype": "text/x-python",
   "name": "python",
   "nbconvert_exporter": "python",
   "pygments_lexer": "ipython3",
   "version": "3.13.7"
  }
 },
 "nbformat": 4,
 "nbformat_minor": 5
}
