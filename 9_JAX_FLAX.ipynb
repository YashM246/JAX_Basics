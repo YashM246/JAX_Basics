{
 "cells": [
  {
   "cell_type": "code",
   "execution_count": 5,
   "id": "fb8c0b2a",
   "metadata": {},
   "outputs": [],
   "source": [
    "import jax\n",
    "from jax import lax, jit, grad\n",
    "import jax.numpy as jnp\n",
    "import flax\n",
    "from flax.core import freeze, unfreeze\n",
    "from flax import linen as nn\n",
    "from flax.training import train_state\n",
    "import  haiku as hk\n",
    "import optax\n",
    "from torchvision.datasets import MNIST\n",
    "from torch.utils.data import DataLoader\n",
    "import functools\n",
    "from typing import Any, Callable, Sequence, Optional\n",
    "import numpy as np\n",
    "import matplotlib.pyplot as plt"
   ]
  },
  {
   "cell_type": "markdown",
   "id": "2ab172ed",
   "metadata": {},
   "source": [
    "#### FLAX\n",
    "- NN library built on top of JAX by Google Research Team\n",
    "- Designed for flexibility (Flexibility + JAX -> FLAX)<br>\n",
    "\n",
    "#### Haiku\n",
    "- Not Learning that here\n",
    "- DeepMind's NN JAX Library<br>\n",
    "\n",
    "#### Optax\n",
    "- JAX Optimizers\n",
    "- Also developed by DeepMind"
   ]
  },
  {
   "cell_type": "markdown",
   "id": "83b22f73",
   "metadata": {},
   "source": [
    "#### Let's start with the simplest model possible - A Single Feed-forward Layer (Linear Regression)"
   ]
  },
  {
   "cell_type": "code",
   "execution_count": 6,
   "id": "acbc90f7",
   "metadata": {},
   "outputs": [
    {
     "name": "stdout",
     "output_type": "stream",
     "text": [
      "(<class 'flax.linen.module.Module'>,)\n"
     ]
    }
   ],
   "source": [
    "model = nn.Dense(features=5)\n",
    "\n",
    "# All of Flax NN Layers inherit from Module Class (similar to PyTorch)\n",
    "print(nn.Dense.__bases__)"
   ]
  },
  {
   "cell_type": "markdown",
   "id": "161e0e83",
   "metadata": {},
   "source": [
    "#### Step 1: Initialize"
   ]
  },
  {
   "cell_type": "code",
   "execution_count": 7,
   "id": "7bb2822b",
   "metadata": {},
   "outputs": [
    {
     "name": "stdout",
     "output_type": "stream",
     "text": [
      "[ 0.47637334  0.15484172  0.2964747   0.2194426  -0.13082546]\n",
      "{'params': {'bias': (5,), 'kernel': (10, 5)}}\n"
     ]
    }
   ],
   "source": [
    "seed = 23\n",
    "key1, key2 = jax.random.split(jax.random.PRNGKey(seed))\n",
    "x = jax.random.normal(key1, (10,))      # Create a dummy input\n",
    "\n",
    "\n",
    "# Initialization Call - to get actual model weights\n",
    "y, params = model.init_with_output(key2, x)\n",
    "print(y)\n",
    "print(jax.tree.map(lambda x: x.shape, params))"
   ]
  },
  {
   "cell_type": "markdown",
   "id": "adfaac60",
   "metadata": {},
   "source": [
    "params is a \"FrozenDict\" here - again not mutable"
   ]
  },
  {
   "cell_type": "markdown",
   "id": "0179d43a",
   "metadata": {},
   "source": [
    "#### Step 2: Apply"
   ]
  },
  {
   "cell_type": "code",
   "execution_count": 8,
   "id": "c278cb3a",
   "metadata": {},
   "outputs": [
    {
     "name": "stdout",
     "output_type": "stream",
     "text": [
      "[ 0.47637334  0.15484172  0.2964747   0.2194426  -0.13082546]\n"
     ]
    }
   ],
   "source": [
    "y = model.apply(params, x)\n",
    "# This is how you run prediction in Flax\n",
    "print(y)"
   ]
  },
  {
   "cell_type": "code",
   "execution_count": 9,
   "id": "ff1b69a4",
   "metadata": {},
   "outputs": [
    {
     "name": "stdout",
     "output_type": "stream",
     "text": [
      "Can't call compact methods on unbound modules (https://flax.readthedocs.io/en/latest/api_reference/flax.errors.html#flax.errors.CallCompactUnboundModuleError)\n"
     ]
    }
   ],
   "source": [
    "try:\n",
    "    y = model(x)        # PyTorch Syntax does not work\n",
    "except Exception as e:\n",
    "    print(e)"
   ]
  },
  {
   "cell_type": "markdown",
   "id": "d8248a39",
   "metadata": {},
   "source": [
    "#### Let's compare with Haiku"
   ]
  },
  {
   "cell_type": "code",
   "execution_count": 10,
   "id": "c9320644",
   "metadata": {},
   "outputs": [],
   "source": [
    "# All modules in Haiku must be initialized inside and haiku.transform\n",
    "model = hk.transform(lambda x: hk.Linear(5)(x))"
   ]
  },
  {
   "cell_type": "code",
   "execution_count": 11,
   "id": "fe56fdd6",
   "metadata": {},
   "outputs": [],
   "source": [
    "seed = 23\n",
    "key1, key2 = jax.random.split(jax.random.PRNGKey(seed))\n",
    "x = jax.random.normal(key1, (10,))"
   ]
  },
  {
   "cell_type": "code",
   "execution_count": 12,
   "id": "dafff599",
   "metadata": {},
   "outputs": [
    {
     "name": "stdout",
     "output_type": "stream",
     "text": [
      "[-0.29048687  0.9906897   1.4123361  -0.80964214  0.38544467]\n"
     ]
    }
   ],
   "source": [
    "params = model.init(key2, x)\n",
    "y = model.apply(params, None, x)\n",
    "print(y)"
   ]
  },
  {
   "cell_type": "code",
   "execution_count": 13,
   "id": "abda2017",
   "metadata": {},
   "outputs": [
    {
     "name": "stdout",
     "output_type": "stream",
     "text": [
      "(<class 'haiku._src.module.Module'>,)\n"
     ]
    }
   ],
   "source": [
    "print(hk.Linear.__bases__)"
   ]
  },
  {
   "cell_type": "markdown",
   "id": "cc936167",
   "metadata": {},
   "source": [
    "#### Let's train a simple Linear Regression Model"
   ]
  },
  {
   "cell_type": "code",
   "execution_count": 22,
   "id": "f83e50b9",
   "metadata": {},
   "outputs": [
    {
     "name": "stdout",
     "output_type": "stream",
     "text": [
      "xs shape = (150, 2) ; ys shape = (150, 1)\n"
     ]
    }
   ],
   "source": [
    "n_samples = 150\n",
    "x_dim = 2  # putting small numbers here so that we can visualize the data easily\n",
    "y_dim = 1\n",
    "noise_amplitude = 0.1\n",
    "\n",
    "# Generate (random) ground truth W and b\n",
    "# Note: we could get W, b from a randomely initialized nn.Dense here, being closer to JAX for now \n",
    "key, w_key, b_key = jax.random.split(jax.random.PRNGKey(seed), num=3)\n",
    "W = jax.random.normal(w_key, (x_dim, y_dim))  # weight\n",
    "b = jax.random.normal(b_key, (y_dim,))  # bias\n",
    "\n",
    "# This is the structure that Flax expects (recall from the previous section!)\n",
    "true_params = freeze({'params': {'bias': b, 'kernel': W}})\n",
    "\n",
    "# Generate samples with additional noise\n",
    "key, x_key, noise_key = jax.random.split(key, num=3)\n",
    "xs = jax.random.normal(x_key, (n_samples, x_dim))\n",
    "ys = jnp.dot(xs, W) + b\n",
    "ys += noise_amplitude * jax.random.normal(noise_key, (n_samples, y_dim))\n",
    "print(f'xs shape = {xs.shape} ; ys shape = {ys.shape}')"
   ]
  },
  {
   "cell_type": "markdown",
   "id": "72d49fe0",
   "metadata": {},
   "source": [
    "#### Let's visualize our data"
   ]
  },
  {
   "cell_type": "code",
   "execution_count": 23,
   "id": "313ab29a",
   "metadata": {},
   "outputs": [
    {
     "data": {
      "text/plain": [
       "<mpl_toolkits.mplot3d.art3d.Path3DCollection at 0x19492270410>"
      ]
     },
     "execution_count": 23,
     "metadata": {},
     "output_type": "execute_result"
    },
    {
     "data": {
      "image/png": "[encoded data removed]",
      "text/plain": [
       "<Figure size 640x480 with 1 Axes>"
      ]
     },
     "metadata": {},
     "output_type": "display_data"
    }
   ],
   "source": [
    "fig = plt.figure()\n",
    "ax = fig.add_subplot(111, projection='3d')\n",
    "assert xs.shape[-1] == 2 and ys.shape[-1] == 1  # low dimensional data so that we can plot it\n",
    "ax.scatter(xs[:, 0], xs[:, 1], zs=ys)"
   ]
  },
  {
   "cell_type": "code",
   "execution_count": 24,
   "id": "d4bc0aec",
   "metadata": {},
   "outputs": [],
   "source": [
    "def make_mse_loss(xs, ys):\n",
    "    \n",
    "    def mse_loss(params):\n",
    "        \"\"\"Gives the value of the loss on the (xs, ys) dataset for the given model (params).\"\"\"\n",
    "        \n",
    "        # Define the squared loss for a single pair (x,y)\n",
    "        def squared_error(x, y):\n",
    "            pred = model.apply(params, x)\n",
    "            # Inner because 'y' could have in general more than 1 dims\n",
    "            return jnp.inner(y-pred, y-pred) / 2.0\n",
    "\n",
    "        # Batched version via vmap\n",
    "        return jnp.mean(jax.vmap(squared_error)(xs, ys), axis=0)\n",
    "\n",
    "    return jax.jit(mse_loss)  # and finally we jit the result (mse_loss is a pure function)\n",
    "\n",
    "mse_loss = make_mse_loss(xs, ys)\n",
    "value_and_grad_fn = jax.value_and_grad(mse_loss)"
   ]
  },
  {
   "cell_type": "code",
   "execution_count": 26,
   "id": "d81d3440",
   "metadata": {},
   "outputs": [
    {
     "name": "stdout",
     "output_type": "stream",
     "text": [
      "Initial params = {'params': {'kernel': Array([[-0.9901299 ],\n",
      "       [-0.50967383]], dtype=float32), 'bias': Array([0.], dtype=float32)}}\n",
      "--------------------------------------------------\n",
      "epoch 0, loss = 1.4187357425689697\n",
      "epoch 5, loss = 0.02906985580921173\n",
      "epoch 10, loss = 0.004749846179038286\n",
      "epoch 15, loss = 0.004193232860416174\n",
      "--------------------------------------------------\n",
      "Learned params = {'params': {'bias': Array([-0.89052135], dtype=float32), 'kernel': Array([[-0.7659607],\n",
      "       [-1.8077115]], dtype=float32)}}\n",
      "Gt params = FrozenDict({\n",
      "    params: {\n",
      "        bias: Array([-0.88823646], dtype=float32),\n",
      "        kernel: Array([[-0.7596356],\n",
      "               [-1.8050936]], dtype=float32),\n",
      "    },\n",
      "})\n"
     ]
    }
   ],
   "source": [
    "# Let's reuse the simple feed-forward layer since it trivially implements linear regression\n",
    "model = nn.Dense(features=y_dim)\n",
    "params = model.init(key, xs)\n",
    "print(f'Initial params = {params}')\n",
    "\n",
    "# Let's set some reasonable hyperparams\n",
    "lr = 0.3\n",
    "epochs = 20\n",
    "log_period_epoch = 5\n",
    "\n",
    "print('-' * 50)\n",
    "for epoch in range(epochs):\n",
    "    loss, grads = value_and_grad_fn(params)\n",
    "    # SGD (closer to JAX again, but we'll progressively go towards how stuff is done in Flax)\n",
    "    params = jax.tree.map(lambda p, g: p - lr * g, params, grads)\n",
    "\n",
    "    if epoch % log_period_epoch == 0:\n",
    "        print(f'epoch {epoch}, loss = {loss}')\n",
    "\n",
    "print('-' * 50)\n",
    "print(f'Learned params = {params}')\n",
    "print(f'Gt params = {true_params}')"
   ]
  },
  {
   "cell_type": "markdown",
   "id": "daaeb414",
   "metadata": {},
   "source": [
    "#### Let's do the same thing but with dedicated Optimizers!<br>\n",
    "\n",
    "i.e Using Optax!"
   ]
  },
  {
   "cell_type": "code",
   "execution_count": 27,
   "id": "7111b755",
   "metadata": {},
   "outputs": [
    {
     "name": "stdout",
     "output_type": "stream",
     "text": [
      "(EmptyState(), EmptyState())\n"
     ]
    }
   ],
   "source": [
    "opt_sgd = optax.sgd(learning_rate=lr)\n",
    "opt_state = opt_sgd.init(params)  # always the same pattern - handling state externally\n",
    "print(opt_state)"
   ]
  },
  {
   "cell_type": "code",
   "execution_count": 28,
   "id": "23ed3aaa",
   "metadata": {},
   "outputs": [
    {
     "name": "stdout",
     "output_type": "stream",
     "text": [
      "epoch 0, loss = 1.4187357425689697\n",
      "epoch 5, loss = 0.02906985580921173\n",
      "epoch 10, loss = 0.004749846179038286\n",
      "epoch 15, loss = 0.004193232860416174\n"
     ]
    }
   ],
   "source": [
    "params = model.init(key, xs)  # let's start with fresh params again\n",
    "\n",
    "for epoch in range(epochs):\n",
    "    loss, grads = value_and_grad_fn(params)\n",
    "    updates, opt_state = opt_sgd.update(grads, opt_state)  # arbitrary optim logic!\n",
    "    params = optax.apply_updates(params, updates)\n",
    "\n",
    "    if epoch % log_period_epoch == 0:\n",
    "        print(f'epoch {epoch}, loss = {loss}')\n",
    "\n",
    "# Note 1: as expected we get the same loss values\n",
    "# Note 2: we'll later see more concise ways to handle all of these state components (hint: TrainState)"
   ]
  },
  {
   "cell_type": "markdown",
   "id": "2ca2282e",
   "metadata": {},
   "source": [
    "#### Creating Custom Models"
   ]
  },
  {
   "cell_type": "code",
   "execution_count": 32,
   "id": "4f6509a1",
   "metadata": {},
   "outputs": [
    {
     "name": "stdout",
     "output_type": "stream",
     "text": [
      "{'params': {'layers_0': {'bias': (16,), 'kernel': (4, 16)}, 'layers_1': {'bias': (8,), 'kernel': (16, 8)}, 'layers_2': {'bias': (1,), 'kernel': (8, 1)}}}\n",
      "Output: [[0.35756692]\n",
      " [0.37379223]\n",
      " [0.07459793]\n",
      " [0.3166891 ]]\n"
     ]
    }
   ],
   "source": [
    "class MLP(nn.Module):\n",
    "    num_neurons_per_layer: Sequence[int]  # data field (nn.Module is Python's dataclass)\n",
    "\n",
    "    def setup(self):  # because dataclass is implicitly using the  __init__ function... :')\n",
    "        self.layers = [nn.Dense(n) for n in self.num_neurons_per_layer]\n",
    "\n",
    "    def __call__(self, x):\n",
    "        activation = x\n",
    "        for i, layer in enumerate(self.layers):\n",
    "            activation = layer(activation)\n",
    "            if i != len(self.layers) - 1:\n",
    "                activation = nn.relu(activation)\n",
    "        return activation\n",
    "\n",
    "x_key, init_key = jax.random.split(jax.random.PRNGKey(seed))\n",
    "\n",
    "model = MLP(num_neurons_per_layer=[16, 8, 1])  # define an MLP model\n",
    "x = jax.random.uniform(x_key, (4,4))  # dummy input\n",
    "params = model.init(init_key, x)  # initialize via init\n",
    "y = model.apply(params, x)  # do a forward pass via apply\n",
    "\n",
    "print(jax.tree.map(jnp.shape, params))\n",
    "print(f'Output: {y}')"
   ]
  },
  {
   "cell_type": "markdown",
   "id": "2b33a00d",
   "metadata": {},
   "source": [
    "Great! "
   ]
  },
  {
   "cell_type": "markdown",
   "id": "44893de6",
   "metadata": {},
   "source": [
    "Now we know how to build more complex models let's dive deeper and understand how the 'nn.Dense' module is designed itself."
   ]
  },
  {
   "cell_type": "markdown",
   "id": "1d6690f6",
   "metadata": {},
   "source": [
    "#### Introducing param"
   ]
  },
  {
   "cell_type": "code",
   "execution_count": 35,
   "id": "73c8ec08",
   "metadata": {},
   "outputs": [
    {
     "name": "stdout",
     "output_type": "stream",
     "text": [
      "{'params': {'bias': (3,), 'weight': (4, 3)}}\n",
      "Output: [[ 0.18654615 -0.9421387  -1.0624766 ]\n",
      " [ 0.547995   -0.7331487  -0.7501927 ]\n",
      " [ 0.3120832   0.14876933 -1.0756196 ]\n",
      " [ 0.00147474 -0.63348615 -0.8141961 ]]\n"
     ]
    }
   ],
   "source": [
    "class MyDenseImp(nn.Module):\n",
    "    num_neurons: int\n",
    "    weight_init: Callable = nn.initializers.lecun_normal()\n",
    "    bias_init: Callable = nn.initializers.zeros\n",
    "\n",
    "    @nn.compact\n",
    "    def __call__(self, x):\n",
    "        weight = self.param('weight',  # parametar name (as it will appear in the FrozenDict)\n",
    "                self.weight_init,  # initialization function, RNG passed implicitly through init fn\n",
    "                (x.shape[-1], self.num_neurons))  # shape info\n",
    "        bias = self.param('bias', self.bias_init, (self.num_neurons,))\n",
    "\n",
    "        return jnp.dot(x, weight)  + bias\n",
    "\n",
    "x_key, init_key = jax.random.split(jax.random.PRNGKey(seed))\n",
    "\n",
    "model = MyDenseImp(num_neurons=3)  # initialize the model\n",
    "x = jax.random.uniform(x_key, (4,4))  # dummy input\n",
    "params = model.init(init_key, x)  # initialize via init\n",
    "y = model.apply(params, x)  # do a forward pass via apply\n",
    "\n",
    "print(jax.tree.map(jnp.shape, params))\n",
    "print(f'Output: {y}')"
   ]
  },
  {
   "cell_type": "markdown",
   "id": "8e2ff191",
   "metadata": {},
   "source": [
    "So far we've only seen trainable params.<br><br>\n",
    "\n",
    "ML models often times have variables which are part of the state but are not optimized via gradient descent.<br><br>\n",
    "\n",
    "Let's see how we can handle them using a simple (and contrived) example!"
   ]
  },
  {
   "cell_type": "markdown",
   "id": "b06965f3",
   "metadata": {},
   "source": [
    "#### Introducing variable"
   ]
  },
  {
   "cell_type": "markdown",
   "id": "1d9973e1",
   "metadata": {},
   "source": [
    "Note on terminology: variable is a broader term and it includes both params (trainable variables) as well as non-trainable vars."
   ]
  },
  {
   "cell_type": "code",
   "execution_count": 36,
   "id": "4d40ef16",
   "metadata": {},
   "outputs": [
    {
     "name": "stdout",
     "output_type": "stream",
     "text": [
      "Multiple collections = {'batch_stats': {'ema': Array([0., 0., 0., 0.], dtype=float32)}, 'params': {'bias': Array([0., 0., 0., 0.], dtype=float32)}}\n",
      "{'batch_stats': {'ema': Array([[0.00563165, 0.00538991, 0.00534612, 0.00525282]], dtype=float32)}}\n"
     ]
    }
   ],
   "source": [
    "class BiasAdderWithRunningMean(nn.Module):\n",
    "    decay: float = 0.99\n",
    "\n",
    "    @nn.compact\n",
    "    def __call__(self, x):\n",
    "        is_initialized = self.has_variable('batch_stats', 'ema')\n",
    "\n",
    "        # 'batch_stats' is not an arbitrary name!\n",
    "        # Flax uses that name in its implementation of BatchNorm (hard-coded, probably not the best of designs?)\n",
    "        ema = self.variable('batch_stats', 'ema', lambda shape: jnp.zeros(shape), x.shape[1:])\n",
    "\n",
    "        # self.param will by default add this variable to 'params' collection (vs 'batch_stats' above)\n",
    "        # Again some idiosyncrasies here we need to pass a key even though we don't actually use it...\n",
    "        bias = self.param('bias', lambda key, shape: jnp.zeros(shape), x.shape[1:])\n",
    "\n",
    "        if is_initialized:\n",
    "            # self.variable returns a reference hence .value\n",
    "            ema.value = self.decay * ema.value + (1.0 - self.decay) * jnp.mean(x, axis=0, keepdims=True)\n",
    "\n",
    "        return x - ema.value + bias\n",
    "\n",
    "x_key, init_key = jax.random.split(jax.random.PRNGKey(seed))\n",
    "\n",
    "model = BiasAdderWithRunningMean()\n",
    "x = jax.random.uniform(x_key, (10,4))  # dummy input\n",
    "variables = model.init(init_key, x)\n",
    "print(f'Multiple collections = {variables}')  # we can now see a new collection 'batch_stats'\n",
    "\n",
    "# We have to use mutable since regular params are not modified during the forward\n",
    "# pass, but these variables are. We can't keep state internally (because JAX) so we have to return it.\n",
    "y, updated_non_trainable_params = model.apply(variables, x, mutable=['batch_stats'])\n",
    "print(updated_non_trainable_params)"
   ]
  },
  {
   "cell_type": "code",
   "execution_count": 38,
   "id": "c0685bfe",
   "metadata": {},
   "outputs": [
    {
     "ename": "ValueError",
     "evalue": "not enough values to unpack (expected 2, got 1)",
     "output_type": "error",
     "traceback": [
      "\u001b[31m---------------------------------------------------------------------------\u001b[39m",
      "\u001b[31mValueError\u001b[39m                                Traceback (most recent call last)",
      "\u001b[36mCell\u001b[39m\u001b[36m \u001b[39m\u001b[32mIn[38]\u001b[39m\u001b[32m, line 23\u001b[39m\n\u001b[32m     20\u001b[39m x = jnp.ones((\u001b[32m10\u001b[39m,\u001b[32m4\u001b[39m))  \u001b[38;5;66;03m# dummy input, using ones because it's easier to see what's going on\u001b[39;00m\n\u001b[32m     22\u001b[39m variables = model.init(jax.random.PRNGKey(seed), x)\n\u001b[32m---> \u001b[39m\u001b[32m23\u001b[39m non_trainable_params, params = variables.pop(\u001b[33m'\u001b[39m\u001b[33mparams\u001b[39m\u001b[33m'\u001b[39m)\n\u001b[32m     24\u001b[39m \u001b[38;5;28;01mdel\u001b[39;00m variables  \u001b[38;5;66;03m# delete variables to avoid wasting resources (this pattern is used in the official code)\u001b[39;00m\n\u001b[32m     26\u001b[39m sgd_opt = optax.sgd(learning_rate=\u001b[32m0.1\u001b[39m)  \u001b[38;5;66;03m# originally you'll see them use the 'tx' naming (from opTaX)\u001b[39;00m\n",
      "\u001b[31mValueError\u001b[39m: not enough values to unpack (expected 2, got 1)"
     ]
    }
   ],
   "source": [
    "# Let's see how we could train such model!\n",
    "def update_step(opt, apply_fn, x, opt_state, params, non_trainable_params):\n",
    "\n",
    "    def loss_fn(params):\n",
    "        y, updated_non_trainable_params = apply_fn(\n",
    "            {'params': params, **non_trainable_params}, \n",
    "            x, mutable=list(non_trainable_params.keys()))\n",
    "        \n",
    "        loss = ((x - y) ** 2).sum()  # not doing anything really, just for the demo purpose\n",
    "\n",
    "        return loss, updated_non_trainable_params\n",
    "\n",
    "    (loss, non_trainable_params), grads = jax.value_and_grad(loss_fn, has_aux=True)(params)\n",
    "    updates, opt_state = opt.update(grads, opt_state)\n",
    "    params = optax.apply_updates(params, updates)\n",
    "    \n",
    "    return opt_state, params, non_trainable_params  # all of these represent the state - ugly, for now\n",
    "\n",
    "model = BiasAdderWithRunningMean()\n",
    "x = jnp.ones((10,4))  # dummy input, using ones because it's easier to see what's going on\n",
    "\n",
    "variables = model.init(jax.random.PRNGKey(seed), x)\n",
    "non_trainable_params, params = variables.pop('params')\n",
    "del variables  # delete variables to avoid wasting resources (this pattern is used in the official code)\n",
    "\n",
    "sgd_opt = optax.sgd(learning_rate=0.1)  # originally you'll see them use the 'tx' naming (from opTaX)\n",
    "opt_state = sgd_opt.init(params)\n",
    "\n",
    "for _ in range(3):\n",
    "    # We'll later see how TrainState abstraction will make this step much more elegant!\n",
    "    opt_state, params, non_trainable_params = update_step(sgd_opt, model.apply, x, opt_state, params, non_trainable_params)\n",
    "    print(non_trainable_params)"
   ]
  },
  {
   "cell_type": "markdown",
   "id": "d20e5560",
   "metadata": {},
   "source": [
    "Let's go a level up in abstraction again now that we understand params and variables!<br><br>\n",
    "\n",
    "Certain layers like BatchNorm will use variables in the background.<br><br>\n",
    "\n",
    "Let's see a last example that is conceptually as complicated as it gets when it comes to Flax's idiosyncrasies, and high-level at the same time."
   ]
  },
  {
   "cell_type": "code",
   "execution_count": 39,
   "id": "3ef766c2",
   "metadata": {},
   "outputs": [
    {
     "name": "stdout",
     "output_type": "stream",
     "text": [
      "{'params': {'Dense_0': {'kernel': Array([[ 0.41116053, -0.6688684 ,  0.845223  ],\n",
      "       [ 0.09425288, -0.32594317, -0.90455365],\n",
      "       [-0.4227396 , -0.3884118 ,  0.0389565 ],\n",
      "       [-0.9543954 , -0.16793758,  0.9900657 ]], dtype=float32), 'bias': Array([0., 0., 0.], dtype=float32)}, 'BatchNorm_0': {'scale': Array([1., 1., 1.], dtype=float32), 'bias': Array([0., 0., 0.], dtype=float32)}}, 'batch_stats': {'BatchNorm_0': {'mean': Array([0., 0., 0.], dtype=float32), 'var': Array([1., 1., 1.], dtype=float32)}}}\n"
     ]
    }
   ],
   "source": [
    "class DDNBlock(nn.Module):\n",
    "    \"\"\"Dense, dropout + batchnorm combo.\n",
    "\n",
    "    Contains trainable variables (params), non-trainable variables (batch stats),\n",
    "    and stochasticity in the forward pass (because of dropout).\n",
    "    \"\"\"\n",
    "    num_neurons: int\n",
    "    training: bool\n",
    "\n",
    "    @nn.compact\n",
    "    def __call__(self, x):\n",
    "        x = nn.Dense(self.num_neurons)(x)\n",
    "        x = nn.Dropout(rate=0.5, deterministic=not self.training)(x)\n",
    "        x = nn.BatchNorm(use_running_average=not self.training)(x)\n",
    "        return x\n",
    "\n",
    "key1, key2, key3, key4 = jax.random.split(jax.random.PRNGKey(seed), 4)\n",
    "\n",
    "model = DDNBlock(num_neurons=3, training=True)\n",
    "x = jax.random.uniform(key1, (3,4,4))\n",
    "\n",
    "# New: because of Dropout we now have to include its unique key - kinda weird, but you get used to it\n",
    "variables = model.init({'params': key2, 'dropout': key3}, x)\n",
    "print(variables)\n",
    "\n",
    "# And same here, everything else remains the same as the previous example\n",
    "y, non_trainable_params = model.apply(variables, x, rngs={'dropout': key4}, mutable=['batch_stats'])\n",
    "\n",
    "# Let's run these model variables during \"evaluation\":\n",
    "eval_model = DDNBlock(num_neurons=3, training=False)\n",
    "# Because training=False we don't have stochasticity in the forward pass neither do we update the stats\n",
    "y = eval_model.apply(variables, x)"
   ]
  },
  {
   "cell_type": "code",
   "execution_count": null,
   "id": "5524c98c",
   "metadata": {},
   "outputs": [],
   "source": []
  }
 ],
 "metadata": {
  "kernelspec": {
   "display_name": "env",
   "language": "python",
   "name": "python3"
  },
  "language_info": {
   "codemirror_mode": {
    "name": "ipython",
    "version": 3
   },
   "file_extension": ".py",
   "mimetype": "text/x-python",
   "name": "python",
   "nbconvert_exporter": "python",
   "pygments_lexer": "ipython3",
   "version": "3.13.7"
  }
 },
 "nbformat": 4,
 "nbformat_minor": 5
}
