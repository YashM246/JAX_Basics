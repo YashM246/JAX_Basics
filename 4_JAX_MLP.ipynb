{
 "cells": [
  {
   "cell_type": "markdown",
   "id": "4f5e1948",
   "metadata": {},
   "source": [
    "## Let's train an MLP using JAX"
   ]
  },
  {
   "cell_type": "code",
   "execution_count": 1,
   "id": "1c3c8769",
   "metadata": {},
   "outputs": [],
   "source": [
    "import jax\n",
    "import jax.numpy as jnp\n",
    "import numpy as np\n",
    "\n",
    "from jax import grad, jit, vmap, pmap\n",
    "\n",
    "from jax import random\n",
    "import matplotlib.pyplot as plt\n",
    "from copy import deepcopy\n",
    "from typing import Tuple, NamedTuple\n",
    "import functools"
   ]
  },
  {
   "cell_type": "markdown",
   "id": "6dd5d100",
   "metadata": {},
   "source": [
    "Note: zip(list[:-1],list[1:]) creates pair of elements from the list <br>\n",
    "<br>\n",
    "For example if list = [1, 128, 128, 1]<br>\n",
    "zip(list[:-1],list[1:]) = zip( [1, 128, 128], [128, 128, 1] )<br>\n",
    "Result will be (1,128), (128, 128), (128,1)"
   ]
  },
  {
   "cell_type": "code",
   "execution_count": 2,
   "id": "39687015",
   "metadata": {},
   "outputs": [],
   "source": [
    "def init_mlp_params(layer_widths):\n",
    "    params = []\n",
    "\n",
    "    # Allocates weights and biases (model parameters)\n",
    "    # Notice: we are not using JAX's PRNG here - it wont matter for this example\n",
    "    for n_in, n_out in zip(layer_widths[:-1], layer_widths[1:]):\n",
    "        params.append(\n",
    "            dict(weights = np.random.normal(size=(n_in, n_out))*np.sqrt(2/n_in),\n",
    "            biases = np.ones(shape=(n_out,))\n",
    "            )\n",
    "        )\n",
    "\n",
    "    return params"
   ]
  },
  {
   "cell_type": "markdown",
   "id": "ce678dc3",
   "metadata": {},
   "source": [
    "Multiplying by sqrt(2/n_in) is \"He Initialization\"<br>\n",
    "It's a clever trick used to train NNs better<br>\n",
    "If initially weights too large -> Large output (Exploding Activations)<br>\n",
    "If initially weights too small -> Small output (Vanishing Activations)<br><br>\n",
    "By multiplying by that value, we aim to keep the variance stable<br>\n",
    "If there are more inputs -> The weights will be smaller<br>\n",
    "If there are less inputs -> The weights will be larger"
   ]
  },
  {
   "cell_type": "code",
   "execution_count": 3,
   "id": "4af63939",
   "metadata": {},
   "outputs": [],
   "source": [
    "# Instantiate a single input - single output, 3 layer (2 hidden) deep MLP\n",
    "params = init_mlp_params([1, 128, 128, 1])"
   ]
  },
  {
   "cell_type": "code",
   "execution_count": 4,
   "id": "117730a7",
   "metadata": {},
   "outputs": [
    {
     "data": {
      "text/plain": [
       "[{'biases': (128,), 'weights': (1, 128)},\n",
       " {'biases': (128,), 'weights': (128, 128)},\n",
       " {'biases': (1,), 'weights': (128, 1)}]"
      ]
     },
     "execution_count": 4,
     "metadata": {},
     "output_type": "execute_result"
    }
   ],
   "source": [
    "# Another example of how we might use tree.map: To verify the shapes make sense\n",
    "jax.tree.map(lambda x: x.shape, params)"
   ]
  },
  {
   "cell_type": "markdown",
   "id": "26e32553",
   "metadata": {},
   "source": [
    "#### The above function creates the initial state in a way that:\n",
    "- Is explicit\n",
    "- Can be passed as function arguments\n",
    "- Works with JAX Transforms\n",
    "- Can be organized as a PyTree for easy manipulation"
   ]
  },
  {
   "cell_type": "code",
   "execution_count": null,
   "id": "c46454a4",
   "metadata": {},
   "outputs": [],
   "source": [
    "def forward(params, x):\n",
    "    *hidden, last = params\n",
    "    # Separates the output layer and stores it in last\n",
    "\n",
    "    # loop through each hidden layer\n",
    "    for layer in hidden:\n",
    "        x = jax.nn.relu(jnp.dot(x, layer['weights']) + layer['biases'])\n",
    "    \n",
    "    # Output Layer Operations\n",
    "    return jnp.dot(x, last['weights']) + last['biases']"
   ]
  },
  {
   "cell_type": "code",
   "execution_count": 6,
   "id": "415210c6",
   "metadata": {},
   "outputs": [],
   "source": [
    "def loss_fn(params, x, y):\n",
    "    # MSE Loss\n",
    "    return jnp.mean((forward(params, x)-y)**2)"
   ]
  },
  {
   "cell_type": "code",
   "execution_count": null,
   "id": "b128aecf",
   "metadata": {},
   "outputs": [],
   "source": [
    "lr = 0.0001\n",
    "\n",
    "@jit        # Notice how we jit at highest level - XLA will have plenty of space to optimize\n",
    "def update(params, x, y):\n",
    "\n",
    "    # Note that grads is a pytree with same structure as params (which is a pytree)\n",
    "    # grad is one of the many JAX functions that has built-in support for PyTrees\n",
    "    grads = jax.grad(loss_fn)(params, x, y)\n",
    "\n",
    "    return jax.tree.map(\n",
    "        lambda p, g: p-lr*g, params, grads\n",
    "        # p , g = params, grads\n",
    "        # for every leaf i.e. for every param of MLP\n",
    "        # we update the parameters\n",
    "    )"
   ]
  },
  {
   "cell_type": "code",
   "execution_count": 8,
   "id": "4369d7e8",
   "metadata": {},
   "outputs": [],
   "source": [
    "# Let's learn how to regress a parabola\n",
    "xs = np.random.normal(size=(128,1))\n",
    "ys = xs**2"
   ]
  },
  {
   "cell_type": "code",
   "execution_count": 9,
   "id": "b961338b",
   "metadata": {},
   "outputs": [
    {
     "data": {
      "text/plain": [
       "<matplotlib.legend.Legend at 0x24f59d79be0>"
      ]
     },
     "execution_count": 9,
     "metadata": {},
     "output_type": "execute_result"
    },
    {
     "data": {
      "image/png": "[encoded data removed]",
      "text/plain": [
       "<Figure size 640x480 with 1 Axes>"
      ]
     },
     "metadata": {},
     "output_type": "display_data"
    }
   ],
   "source": [
    "epochs = 5000\n",
    "for _ in range(epochs):\n",
    "    params = update(params, xs, ys)\n",
    "\n",
    "plt.scatter(xs, ys)\n",
    "plt.scatter(xs, forward(params, xs), label=\"Model Prediction\")\n",
    "plt.legend()"
   ]
  },
  {
   "cell_type": "markdown",
   "id": "0831d947",
   "metadata": {},
   "source": [
    "#### Another function"
   ]
  },
  {
   "cell_type": "code",
   "execution_count": 21,
   "id": "4be9b759",
   "metadata": {},
   "outputs": [],
   "source": [
    "xs = np.random.normal(size=(128,1))\n",
    "ys =  np.sin(3*xs)"
   ]
  },
  {
   "cell_type": "code",
   "execution_count": 22,
   "id": "975ad3a4",
   "metadata": {},
   "outputs": [
    {
     "data": {
      "image/png": "[encoded data removed]",
      "text/plain": [
       "<Figure size 640x480 with 1 Axes>"
      ]
     },
     "metadata": {},
     "output_type": "display_data"
    }
   ],
   "source": [
    "epochs = 5000\n",
    "for _ in range(epochs):\n",
    "    params = update(params, xs, ys)\n",
    "\n",
    "plt.scatter(xs, ys)\n",
    "plt.scatter(xs, forward(params, xs), label=\"Model Prediction\")\n",
    "plt.legend()\n",
    "plt.savefig('jax_mlp_pred_sin.png')"
   ]
  },
  {
   "cell_type": "markdown",
   "id": "e63d4507",
   "metadata": {},
   "source": [
    "#### We have trained our first NN!"
   ]
  },
  {
   "cell_type": "markdown",
   "id": "0fea900b",
   "metadata": {},
   "source": [
    "#### In order to be able to build NN libs and layers such as NN.Linear, we need a couple more tricks up our sleeve!"
   ]
  },
  {
   "cell_type": "code",
   "execution_count": null,
   "id": "d5c82442",
   "metadata": {},
   "outputs": [],
   "source": []
  }
 ],
 "metadata": {
  "kernelspec": {
   "display_name": "env",
   "language": "python",
   "name": "python3"
  },
  "language_info": {
   "codemirror_mode": {
    "name": "ipython",
    "version": 3
   },
   "file_extension": ".py",
   "mimetype": "text/x-python",
   "name": "python",
   "nbconvert_exporter": "python",
   "pygments_lexer": "ipython3",
   "version": "3.13.7"
  }
 },
 "nbformat": 4,
 "nbformat_minor": 5
}
